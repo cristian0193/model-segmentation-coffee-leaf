{
  "cells": [
    {
      "cell_type": "code",
      "execution_count": 1,
      "metadata": {
        "id": "jpV7s7S-YJtG"
      },
      "outputs": [
        {
          "name": "stdout",
          "output_type": "stream",
          "text": [
            "New https://pypi.org/project/ultralytics/8.3.145 available  Update with 'pip install -U ultralytics'\n",
            "Ultralytics 8.3.139  Python-3.12.7 torch-2.7.0+cu128 CUDA:0 (NVIDIA GeForce RTX 4070 Ti, 12282MiB)\n",
            "\u001b[34m\u001b[1mengine\\trainer: \u001b[0magnostic_nms=False, amp=True, augment=False, auto_augment=randaugment, batch=16, bgr=0.0, box=7.5, cache=False, cfg=None, classes=None, close_mosaic=10, cls=0.5, conf=None, copy_paste=0.0, copy_paste_mode=flip, cos_lr=False, cutmix=0.0, data=../model-segmentation-coffee-leaf/dataset/data.yaml, degrees=0.0, deterministic=True, device=0, dfl=1.5, dnn=False, dropout=0.0, dynamic=False, embed=None, epochs=300, erasing=0.4, exist_ok=False, fliplr=0.5, flipud=0.0, format=torchscript, fraction=1.0, freeze=None, half=False, hsv_h=0.015, hsv_s=0.7, hsv_v=0.4, imgsz=640, int8=False, iou=0.7, keras=False, kobj=1.0, line_width=None, lr0=0.01, lrf=0.01, mask_ratio=4, max_det=300, mixup=0.0, mode=train, model=yolo11n-seg.pt, momentum=0.937, mosaic=1.0, multi_scale=False, name=train, nbs=64, nms=False, opset=None, optimize=False, optimizer=Adam, overlap_mask=True, patience=20, perspective=0.0, plots=True, pose=12.0, pretrained=True, profile=False, project=None, rect=False, resume=False, retina_masks=False, save=True, save_conf=False, save_crop=False, save_dir=d:\\Maestria\\2-Cursos\\9-TFM\\Recursos\\Fuente\\model-classification-coffee-leaf\\runs\\segment\\train, save_frames=False, save_json=False, save_period=-1, save_txt=False, scale=0.5, seed=0, shear=0.0, show=False, show_boxes=True, show_conf=True, show_labels=True, simplify=True, single_cls=False, source=None, split=val, stream_buffer=False, task=segment, time=None, tracker=botsort.yaml, translate=0.1, val=True, verbose=True, vid_stride=1, visualize=False, warmup_bias_lr=0.1, warmup_epochs=3.0, warmup_momentum=0.8, weight_decay=0.0005, workers=12, workspace=None\n",
            "Overriding model.yaml nc=80 with nc=5\n",
            "\n",
            "                   from  n    params  module                                       arguments                     \n",
            "  0                  -1  1       464  ultralytics.nn.modules.conv.Conv             [3, 16, 3, 2]                 \n",
            "  1                  -1  1      4672  ultralytics.nn.modules.conv.Conv             [16, 32, 3, 2]                \n",
            "  2                  -1  1      6640  ultralytics.nn.modules.block.C3k2            [32, 64, 1, False, 0.25]      \n",
            "  3                  -1  1     36992  ultralytics.nn.modules.conv.Conv             [64, 64, 3, 2]                \n",
            "  4                  -1  1     26080  ultralytics.nn.modules.block.C3k2            [64, 128, 1, False, 0.25]     \n",
            "  5                  -1  1    147712  ultralytics.nn.modules.conv.Conv             [128, 128, 3, 2]              \n",
            "  6                  -1  1     87040  ultralytics.nn.modules.block.C3k2            [128, 128, 1, True]           \n",
            "  7                  -1  1    295424  ultralytics.nn.modules.conv.Conv             [128, 256, 3, 2]              \n",
            "  8                  -1  1    346112  ultralytics.nn.modules.block.C3k2            [256, 256, 1, True]           \n",
            "  9                  -1  1    164608  ultralytics.nn.modules.block.SPPF            [256, 256, 5]                 \n",
            " 10                  -1  1    249728  ultralytics.nn.modules.block.C2PSA           [256, 256, 1]                 \n",
            " 11                  -1  1         0  torch.nn.modules.upsampling.Upsample         [None, 2, 'nearest']          \n",
            " 12             [-1, 6]  1         0  ultralytics.nn.modules.conv.Concat           [1]                           \n",
            " 13                  -1  1    111296  ultralytics.nn.modules.block.C3k2            [384, 128, 1, False]          \n",
            " 14                  -1  1         0  torch.nn.modules.upsampling.Upsample         [None, 2, 'nearest']          \n",
            " 15             [-1, 4]  1         0  ultralytics.nn.modules.conv.Concat           [1]                           \n",
            " 16                  -1  1     32096  ultralytics.nn.modules.block.C3k2            [256, 64, 1, False]           \n",
            " 17                  -1  1     36992  ultralytics.nn.modules.conv.Conv             [64, 64, 3, 2]                \n",
            " 18            [-1, 13]  1         0  ultralytics.nn.modules.conv.Concat           [1]                           \n",
            " 19                  -1  1     86720  ultralytics.nn.modules.block.C3k2            [192, 128, 1, False]          \n",
            " 20                  -1  1    147712  ultralytics.nn.modules.conv.Conv             [128, 128, 3, 2]              \n",
            " 21            [-1, 10]  1         0  ultralytics.nn.modules.conv.Concat           [1]                           \n",
            " 22                  -1  1    378880  ultralytics.nn.modules.block.C3k2            [384, 256, 1, True]           \n",
            " 23        [16, 19, 22]  1    684415  ultralytics.nn.modules.head.Segment          [5, 32, 64, [64, 128, 256]]   \n",
            "YOLO11n-seg summary: 203 layers, 2,843,583 parameters, 2,843,567 gradients, 10.4 GFLOPs\n",
            "\n",
            "Transferred 510/561 items from pretrained weights\n",
            "Freezing layer 'model.23.dfl.conv.weight'\n",
            "\u001b[34m\u001b[1mAMP: \u001b[0mrunning Automatic Mixed Precision (AMP) checks...\n",
            "\u001b[34m\u001b[1mAMP: \u001b[0mchecks passed \n",
            "\u001b[34m\u001b[1mtrain: \u001b[0mFast image access  (ping: 0.10.0 ms, read: 7.01.5 MB/s, size: 26.0 KB)\n"
          ]
        },
        {
          "name": "stderr",
          "output_type": "stream",
          "text": [
            "\u001b[34m\u001b[1mtrain: \u001b[0mScanning D:\\Maestria\\2-Cursos\\9-TFM\\Recursos\\Fuente\\model-segmentation\\model-segmentation-coffee-leaf\\dataset\\labels\\train.cache... 3399 images, 15 backgrounds, 0 corrupt: 100%|██████████| 3399/3399 [00:00<?, ?it/s]"
          ]
        },
        {
          "name": "stdout",
          "output_type": "stream",
          "text": [
            "\u001b[34m\u001b[1mtrain: \u001b[0mD:\\Maestria\\2-Cursos\\9-TFM\\Recursos\\Fuente\\model-segmentation\\model-segmentation-coffee-leaf\\dataset\\images\\train\\72_jpg.rf.a9a0efc61f4864a4ef6dce0cf6b97242.jpg: 1 duplicate labels removed\n"
          ]
        },
        {
          "name": "stderr",
          "output_type": "stream",
          "text": [
            "\n"
          ]
        },
        {
          "name": "stdout",
          "output_type": "stream",
          "text": [
            "\u001b[34m\u001b[1mval: \u001b[0mFast image access  (ping: 0.10.0 ms, read: 4.31.4 MB/s, size: 25.0 KB)\n"
          ]
        },
        {
          "name": "stderr",
          "output_type": "stream",
          "text": [
            "\u001b[34m\u001b[1mval: \u001b[0mScanning D:\\Maestria\\2-Cursos\\9-TFM\\Recursos\\Fuente\\model-segmentation\\model-segmentation-coffee-leaf\\dataset\\labels\\val.cache... 324 images, 1 backgrounds, 0 corrupt: 100%|██████████| 324/324 [00:00<?, ?it/s]\n"
          ]
        },
        {
          "name": "stdout",
          "output_type": "stream",
          "text": [
            "Plotting labels to d:\\Maestria\\2-Cursos\\9-TFM\\Recursos\\Fuente\\model-classification-coffee-leaf\\runs\\segment\\train\\labels.jpg... \n",
            "\u001b[34m\u001b[1moptimizer:\u001b[0m Adam(lr=0.01, momentum=0.937) with parameter groups 90 weight(decay=0.0), 101 weight(decay=0.0005), 100 bias(decay=0.0)\n",
            "Image sizes 640 train, 640 val\n",
            "Using 12 dataloader workers\n",
            "Logging results to \u001b[1md:\\Maestria\\2-Cursos\\9-TFM\\Recursos\\Fuente\\model-classification-coffee-leaf\\runs\\segment\\train\u001b[0m\n",
            "Starting training for 300 epochs...\n",
            "\n",
            "      Epoch    GPU_mem   box_loss   seg_loss   cls_loss   dfl_loss  Instances       Size\n"
          ]
        },
        {
          "name": "stderr",
          "output_type": "stream",
          "text": [
            "      1/300       3.1G      1.473      1.861      1.786      1.154         46        640: 100%|██████████| 213/213 [00:25<00:00,  8.29it/s]\n",
            "                 Class     Images  Instances      Box(P          R      mAP50  mAP50-95)     Mask(P          R      mAP50  mAP50-95): 100%|██████████| 11/11 [00:01<00:00,  5.87it/s]"
          ]
        },
        {
          "name": "stdout",
          "output_type": "stream",
          "text": [
            "                   all        324       1241      0.267      0.487      0.303      0.149      0.266      0.501      0.294      0.158\n"
          ]
        },
        {
          "name": "stderr",
          "output_type": "stream",
          "text": [
            "\n"
          ]
        },
        {
          "name": "stdout",
          "output_type": "stream",
          "text": [
            "\n",
            "      Epoch    GPU_mem   box_loss   seg_loss   cls_loss   dfl_loss  Instances       Size\n"
          ]
        },
        {
          "name": "stderr",
          "output_type": "stream",
          "text": [
            "      2/300      3.59G      1.463      1.722       1.44      1.163         50        640: 100%|██████████| 213/213 [00:24<00:00,  8.81it/s]\n",
            "                 Class     Images  Instances      Box(P          R      mAP50  mAP50-95)     Mask(P          R      mAP50  mAP50-95): 100%|██████████| 11/11 [00:01<00:00,  5.98it/s]"
          ]
        },
        {
          "name": "stdout",
          "output_type": "stream",
          "text": [
            "                   all        324       1241      0.491      0.336      0.299       0.16      0.493      0.316      0.286      0.155\n"
          ]
        },
        {
          "name": "stderr",
          "output_type": "stream",
          "text": [
            "\n"
          ]
        },
        {
          "name": "stdout",
          "output_type": "stream",
          "text": [
            "\n",
            "      Epoch    GPU_mem   box_loss   seg_loss   cls_loss   dfl_loss  Instances       Size\n"
          ]
        },
        {
          "name": "stderr",
          "output_type": "stream",
          "text": [
            "      3/300       3.6G      1.425      1.701      1.373      1.142         15        640: 100%|██████████| 213/213 [00:23<00:00,  9.11it/s]\n",
            "                 Class     Images  Instances      Box(P          R      mAP50  mAP50-95)     Mask(P          R      mAP50  mAP50-95): 100%|██████████| 11/11 [00:02<00:00,  4.70it/s]"
          ]
        },
        {
          "name": "stdout",
          "output_type": "stream",
          "text": [
            "                   all        324       1241      0.684      0.355      0.303      0.169      0.688      0.352      0.292      0.167\n"
          ]
        },
        {
          "name": "stderr",
          "output_type": "stream",
          "text": [
            "\n"
          ]
        },
        {
          "name": "stdout",
          "output_type": "stream",
          "text": [
            "\n",
            "      Epoch    GPU_mem   box_loss   seg_loss   cls_loss   dfl_loss  Instances       Size\n"
          ]
        },
        {
          "name": "stderr",
          "output_type": "stream",
          "text": [
            "      4/300       3.6G       1.38      1.661      1.322      1.119         40        640: 100%|██████████| 213/213 [00:23<00:00,  9.09it/s]\n",
            "                 Class     Images  Instances      Box(P          R      mAP50  mAP50-95)     Mask(P          R      mAP50  mAP50-95): 100%|██████████| 11/11 [00:01<00:00,  6.19it/s]"
          ]
        },
        {
          "name": "stdout",
          "output_type": "stream",
          "text": [
            "                   all        324       1241       0.64      0.556      0.515      0.314      0.698       0.45      0.469      0.235\n"
          ]
        },
        {
          "name": "stderr",
          "output_type": "stream",
          "text": [
            "\n"
          ]
        },
        {
          "name": "stdout",
          "output_type": "stream",
          "text": [
            "\n",
            "      Epoch    GPU_mem   box_loss   seg_loss   cls_loss   dfl_loss  Instances       Size\n"
          ]
        },
        {
          "name": "stderr",
          "output_type": "stream",
          "text": [
            "      5/300       3.6G      1.331      1.625      1.275      1.104         49        640: 100%|██████████| 213/213 [00:23<00:00,  9.22it/s]\n",
            "                 Class     Images  Instances      Box(P          R      mAP50  mAP50-95)     Mask(P          R      mAP50  mAP50-95): 100%|██████████| 11/11 [00:01<00:00,  5.92it/s]"
          ]
        },
        {
          "name": "stdout",
          "output_type": "stream",
          "text": [
            "                   all        324       1241      0.647      0.423      0.461      0.263      0.563      0.399      0.408      0.242\n"
          ]
        },
        {
          "name": "stderr",
          "output_type": "stream",
          "text": [
            "\n"
          ]
        },
        {
          "name": "stdout",
          "output_type": "stream",
          "text": [
            "\n",
            "      Epoch    GPU_mem   box_loss   seg_loss   cls_loss   dfl_loss  Instances       Size\n"
          ]
        },
        {
          "name": "stderr",
          "output_type": "stream",
          "text": [
            "      6/300       3.6G      1.315      1.593      1.229      1.082         45        640: 100%|██████████| 213/213 [00:23<00:00,  9.25it/s]\n",
            "                 Class     Images  Instances      Box(P          R      mAP50  mAP50-95)     Mask(P          R      mAP50  mAP50-95): 100%|██████████| 11/11 [00:01<00:00,  5.95it/s]"
          ]
        },
        {
          "name": "stdout",
          "output_type": "stream",
          "text": [
            "                   all        324       1241      0.741      0.541      0.574      0.405      0.731      0.545      0.573      0.416\n"
          ]
        },
        {
          "name": "stderr",
          "output_type": "stream",
          "text": [
            "\n"
          ]
        },
        {
          "name": "stdout",
          "output_type": "stream",
          "text": [
            "\n",
            "      Epoch    GPU_mem   box_loss   seg_loss   cls_loss   dfl_loss  Instances       Size\n"
          ]
        },
        {
          "name": "stderr",
          "output_type": "stream",
          "text": [
            "      7/300       3.6G      1.276      1.588      1.189       1.07         40        640: 100%|██████████| 213/213 [00:22<00:00,  9.47it/s]\n",
            "                 Class     Images  Instances      Box(P          R      mAP50  mAP50-95)     Mask(P          R      mAP50  mAP50-95): 100%|██████████| 11/11 [00:01<00:00,  6.75it/s]"
          ]
        },
        {
          "name": "stdout",
          "output_type": "stream",
          "text": [
            "                   all        324       1241      0.711      0.526      0.567      0.383      0.743      0.501       0.57      0.394\n"
          ]
        },
        {
          "name": "stderr",
          "output_type": "stream",
          "text": [
            "\n"
          ]
        },
        {
          "name": "stdout",
          "output_type": "stream",
          "text": [
            "\n",
            "      Epoch    GPU_mem   box_loss   seg_loss   cls_loss   dfl_loss  Instances       Size\n"
          ]
        },
        {
          "name": "stderr",
          "output_type": "stream",
          "text": [
            "      8/300      3.61G      1.278      1.562      1.182      1.068         33        640: 100%|██████████| 213/213 [00:21<00:00,  9.86it/s]\n",
            "                 Class     Images  Instances      Box(P          R      mAP50  mAP50-95)     Mask(P          R      mAP50  mAP50-95): 100%|██████████| 11/11 [00:01<00:00,  6.73it/s]"
          ]
        },
        {
          "name": "stdout",
          "output_type": "stream",
          "text": [
            "                   all        324       1241      0.683      0.515      0.539      0.325      0.711      0.508      0.557      0.369\n"
          ]
        },
        {
          "name": "stderr",
          "output_type": "stream",
          "text": [
            "\n"
          ]
        },
        {
          "name": "stdout",
          "output_type": "stream",
          "text": [
            "\n",
            "      Epoch    GPU_mem   box_loss   seg_loss   cls_loss   dfl_loss  Instances       Size\n"
          ]
        },
        {
          "name": "stderr",
          "output_type": "stream",
          "text": [
            "      9/300      3.61G      1.256      1.549      1.172      1.063         28        640: 100%|██████████| 213/213 [00:21<00:00,  9.83it/s]\n",
            "                 Class     Images  Instances      Box(P          R      mAP50  mAP50-95)     Mask(P          R      mAP50  mAP50-95): 100%|██████████| 11/11 [00:01<00:00,  6.11it/s]"
          ]
        },
        {
          "name": "stdout",
          "output_type": "stream",
          "text": [
            "                   all        324       1241      0.776      0.598      0.652      0.469      0.774      0.598      0.648      0.484\n"
          ]
        },
        {
          "name": "stderr",
          "output_type": "stream",
          "text": [
            "\n"
          ]
        },
        {
          "name": "stdout",
          "output_type": "stream",
          "text": [
            "\n",
            "      Epoch    GPU_mem   box_loss   seg_loss   cls_loss   dfl_loss  Instances       Size\n"
          ]
        },
        {
          "name": "stderr",
          "output_type": "stream",
          "text": [
            "     10/300      3.61G      1.241       1.54      1.166      1.052         40        640: 100%|██████████| 213/213 [00:22<00:00,  9.54it/s]\n",
            "                 Class     Images  Instances      Box(P          R      mAP50  mAP50-95)     Mask(P          R      mAP50  mAP50-95): 100%|██████████| 11/11 [00:01<00:00,  6.15it/s]"
          ]
        },
        {
          "name": "stdout",
          "output_type": "stream",
          "text": [
            "                   all        324       1241       0.71      0.566      0.616      0.441      0.708      0.566      0.615      0.458\n"
          ]
        },
        {
          "name": "stderr",
          "output_type": "stream",
          "text": [
            "\n"
          ]
        },
        {
          "name": "stdout",
          "output_type": "stream",
          "text": [
            "\n",
            "      Epoch    GPU_mem   box_loss   seg_loss   cls_loss   dfl_loss  Instances       Size\n"
          ]
        },
        {
          "name": "stderr",
          "output_type": "stream",
          "text": [
            "     11/300      3.61G      1.231      1.506      1.139      1.054         40        640: 100%|██████████| 213/213 [00:22<00:00,  9.37it/s]\n",
            "                 Class     Images  Instances      Box(P          R      mAP50  mAP50-95)     Mask(P          R      mAP50  mAP50-95): 100%|██████████| 11/11 [00:01<00:00,  5.84it/s]"
          ]
        },
        {
          "name": "stdout",
          "output_type": "stream",
          "text": [
            "                   all        324       1241      0.691      0.609      0.581      0.406      0.696      0.602      0.582      0.422\n"
          ]
        },
        {
          "name": "stderr",
          "output_type": "stream",
          "text": [
            "\n"
          ]
        },
        {
          "name": "stdout",
          "output_type": "stream",
          "text": [
            "\n",
            "      Epoch    GPU_mem   box_loss   seg_loss   cls_loss   dfl_loss  Instances       Size\n"
          ]
        },
        {
          "name": "stderr",
          "output_type": "stream",
          "text": [
            "     12/300      3.61G      1.228      1.515      1.109      1.052         36        640: 100%|██████████| 213/213 [00:24<00:00,  8.82it/s]\n",
            "                 Class     Images  Instances      Box(P          R      mAP50  mAP50-95)     Mask(P          R      mAP50  mAP50-95): 100%|██████████| 11/11 [00:01<00:00,  5.69it/s]"
          ]
        },
        {
          "name": "stdout",
          "output_type": "stream",
          "text": [
            "                   all        324       1241      0.713      0.626      0.622      0.454      0.717      0.619      0.619      0.455\n"
          ]
        },
        {
          "name": "stderr",
          "output_type": "stream",
          "text": [
            "\n"
          ]
        },
        {
          "name": "stdout",
          "output_type": "stream",
          "text": [
            "\n",
            "      Epoch    GPU_mem   box_loss   seg_loss   cls_loss   dfl_loss  Instances       Size\n"
          ]
        },
        {
          "name": "stderr",
          "output_type": "stream",
          "text": [
            "     13/300      3.61G      1.226      1.542      1.116      1.043         66        640: 100%|██████████| 213/213 [00:23<00:00,  9.16it/s]\n",
            "                 Class     Images  Instances      Box(P          R      mAP50  mAP50-95)     Mask(P          R      mAP50  mAP50-95): 100%|██████████| 11/11 [00:01<00:00,  5.94it/s]"
          ]
        },
        {
          "name": "stdout",
          "output_type": "stream",
          "text": [
            "                   all        324       1241      0.424      0.619      0.538      0.356      0.423      0.618      0.539      0.374\n"
          ]
        },
        {
          "name": "stderr",
          "output_type": "stream",
          "text": [
            "\n"
          ]
        },
        {
          "name": "stdout",
          "output_type": "stream",
          "text": [
            "\n",
            "      Epoch    GPU_mem   box_loss   seg_loss   cls_loss   dfl_loss  Instances       Size\n"
          ]
        },
        {
          "name": "stderr",
          "output_type": "stream",
          "text": [
            "     14/300      3.61G      1.191      1.484      1.097      1.033         36        640: 100%|██████████| 213/213 [00:23<00:00,  9.18it/s]\n",
            "                 Class     Images  Instances      Box(P          R      mAP50  mAP50-95)     Mask(P          R      mAP50  mAP50-95): 100%|██████████| 11/11 [00:01<00:00,  6.04it/s]"
          ]
        },
        {
          "name": "stdout",
          "output_type": "stream",
          "text": [
            "                   all        324       1241      0.761      0.562       0.63      0.456      0.761      0.563      0.633      0.473\n"
          ]
        },
        {
          "name": "stderr",
          "output_type": "stream",
          "text": [
            "\n"
          ]
        },
        {
          "name": "stdout",
          "output_type": "stream",
          "text": [
            "\n",
            "      Epoch    GPU_mem   box_loss   seg_loss   cls_loss   dfl_loss  Instances       Size\n"
          ]
        },
        {
          "name": "stderr",
          "output_type": "stream",
          "text": [
            "     15/300      3.61G      1.187      1.518      1.089      1.033         31        640: 100%|██████████| 213/213 [00:26<00:00,  8.17it/s]\n",
            "                 Class     Images  Instances      Box(P          R      mAP50  mAP50-95)     Mask(P          R      mAP50  mAP50-95): 100%|██████████| 11/11 [00:01<00:00,  6.26it/s]"
          ]
        },
        {
          "name": "stdout",
          "output_type": "stream",
          "text": [
            "                   all        324       1241      0.562      0.576      0.635      0.468       0.56      0.577      0.634      0.482\n"
          ]
        },
        {
          "name": "stderr",
          "output_type": "stream",
          "text": [
            "\n"
          ]
        },
        {
          "name": "stdout",
          "output_type": "stream",
          "text": [
            "\n",
            "      Epoch    GPU_mem   box_loss   seg_loss   cls_loss   dfl_loss  Instances       Size\n"
          ]
        },
        {
          "name": "stderr",
          "output_type": "stream",
          "text": [
            "     16/300      3.61G      1.186      1.501      1.092      1.029         27        640: 100%|██████████| 213/213 [00:21<00:00,  9.70it/s]\n",
            "                 Class     Images  Instances      Box(P          R      mAP50  mAP50-95)     Mask(P          R      mAP50  mAP50-95): 100%|██████████| 11/11 [00:01<00:00,  6.76it/s]"
          ]
        },
        {
          "name": "stdout",
          "output_type": "stream",
          "text": [
            "                   all        324       1241      0.751      0.586      0.655      0.465      0.746      0.581      0.647      0.478\n"
          ]
        },
        {
          "name": "stderr",
          "output_type": "stream",
          "text": [
            "\n"
          ]
        },
        {
          "name": "stdout",
          "output_type": "stream",
          "text": [
            "\n",
            "      Epoch    GPU_mem   box_loss   seg_loss   cls_loss   dfl_loss  Instances       Size\n"
          ]
        },
        {
          "name": "stderr",
          "output_type": "stream",
          "text": [
            "     17/300      3.61G       1.19       1.51      1.072       1.03         97        640: 100%|██████████| 213/213 [00:21<00:00, 10.07it/s]\n",
            "                 Class     Images  Instances      Box(P          R      mAP50  mAP50-95)     Mask(P          R      mAP50  mAP50-95): 100%|██████████| 11/11 [00:01<00:00,  6.81it/s]"
          ]
        },
        {
          "name": "stdout",
          "output_type": "stream",
          "text": [
            "                   all        324       1241      0.557      0.712      0.664      0.484      0.567        0.7      0.657      0.485\n"
          ]
        },
        {
          "name": "stderr",
          "output_type": "stream",
          "text": [
            "\n"
          ]
        },
        {
          "name": "stdout",
          "output_type": "stream",
          "text": [
            "\n",
            "      Epoch    GPU_mem   box_loss   seg_loss   cls_loss   dfl_loss  Instances       Size\n"
          ]
        },
        {
          "name": "stderr",
          "output_type": "stream",
          "text": [
            "     18/300      3.61G      1.192       1.48      1.073       1.03         56        640: 100%|██████████| 213/213 [00:21<00:00, 10.04it/s]\n",
            "                 Class     Images  Instances      Box(P          R      mAP50  mAP50-95)     Mask(P          R      mAP50  mAP50-95): 100%|██████████| 11/11 [00:01<00:00,  6.68it/s]"
          ]
        },
        {
          "name": "stdout",
          "output_type": "stream",
          "text": [
            "                   all        324       1241      0.795      0.597      0.688      0.507      0.796      0.595      0.686      0.516\n"
          ]
        },
        {
          "name": "stderr",
          "output_type": "stream",
          "text": [
            "\n"
          ]
        },
        {
          "name": "stdout",
          "output_type": "stream",
          "text": [
            "\n",
            "      Epoch    GPU_mem   box_loss   seg_loss   cls_loss   dfl_loss  Instances       Size\n"
          ]
        },
        {
          "name": "stderr",
          "output_type": "stream",
          "text": [
            "     19/300      3.61G      1.198      1.512      1.084      1.039         39        640: 100%|██████████| 213/213 [00:22<00:00,  9.35it/s]\n",
            "                 Class     Images  Instances      Box(P          R      mAP50  mAP50-95)     Mask(P          R      mAP50  mAP50-95): 100%|██████████| 11/11 [00:01<00:00,  6.32it/s]"
          ]
        },
        {
          "name": "stdout",
          "output_type": "stream",
          "text": [
            "                   all        324       1241      0.765      0.613      0.664      0.491      0.761      0.607      0.657        0.5\n"
          ]
        },
        {
          "name": "stderr",
          "output_type": "stream",
          "text": [
            "\n"
          ]
        },
        {
          "name": "stdout",
          "output_type": "stream",
          "text": [
            "\n",
            "      Epoch    GPU_mem   box_loss   seg_loss   cls_loss   dfl_loss  Instances       Size\n"
          ]
        },
        {
          "name": "stderr",
          "output_type": "stream",
          "text": [
            "     20/300      3.61G      1.178       1.47      1.058       1.02         18        640: 100%|██████████| 213/213 [00:22<00:00,  9.47it/s]\n",
            "                 Class     Images  Instances      Box(P          R      mAP50  mAP50-95)     Mask(P          R      mAP50  mAP50-95): 100%|██████████| 11/11 [00:01<00:00,  6.37it/s]"
          ]
        },
        {
          "name": "stdout",
          "output_type": "stream",
          "text": [
            "                   all        324       1241      0.585      0.723       0.67      0.504      0.584      0.725      0.671      0.508\n"
          ]
        },
        {
          "name": "stderr",
          "output_type": "stream",
          "text": [
            "\n"
          ]
        },
        {
          "name": "stdout",
          "output_type": "stream",
          "text": [
            "\n",
            "      Epoch    GPU_mem   box_loss   seg_loss   cls_loss   dfl_loss  Instances       Size\n"
          ]
        },
        {
          "name": "stderr",
          "output_type": "stream",
          "text": [
            "     21/300      3.61G       1.17      1.466       1.08      1.027         58        640: 100%|██████████| 213/213 [00:22<00:00,  9.41it/s]\n",
            "                 Class     Images  Instances      Box(P          R      mAP50  mAP50-95)     Mask(P          R      mAP50  mAP50-95): 100%|██████████| 11/11 [00:01<00:00,  6.66it/s]"
          ]
        },
        {
          "name": "stdout",
          "output_type": "stream",
          "text": [
            "                   all        324       1241      0.785      0.593      0.675      0.512      0.777      0.585      0.666      0.496\n"
          ]
        },
        {
          "name": "stderr",
          "output_type": "stream",
          "text": [
            "\n"
          ]
        },
        {
          "name": "stdout",
          "output_type": "stream",
          "text": [
            "\n",
            "      Epoch    GPU_mem   box_loss   seg_loss   cls_loss   dfl_loss  Instances       Size\n"
          ]
        },
        {
          "name": "stderr",
          "output_type": "stream",
          "text": [
            "     22/300      3.61G      1.166      1.479      1.055      1.016         27        640: 100%|██████████| 213/213 [00:21<00:00,  9.79it/s]\n",
            "                 Class     Images  Instances      Box(P          R      mAP50  mAP50-95)     Mask(P          R      mAP50  mAP50-95): 100%|██████████| 11/11 [00:01<00:00,  6.69it/s]"
          ]
        },
        {
          "name": "stdout",
          "output_type": "stream",
          "text": [
            "                   all        324       1241      0.496      0.698      0.642      0.477      0.497      0.697      0.646        0.5\n"
          ]
        },
        {
          "name": "stderr",
          "output_type": "stream",
          "text": [
            "\n"
          ]
        },
        {
          "name": "stdout",
          "output_type": "stream",
          "text": [
            "\n",
            "      Epoch    GPU_mem   box_loss   seg_loss   cls_loss   dfl_loss  Instances       Size\n"
          ]
        },
        {
          "name": "stderr",
          "output_type": "stream",
          "text": [
            "     23/300      3.61G      1.163      1.473      1.057      1.021         38        640: 100%|██████████| 213/213 [00:21<00:00,  9.85it/s]\n",
            "                 Class     Images  Instances      Box(P          R      mAP50  mAP50-95)     Mask(P          R      mAP50  mAP50-95): 100%|██████████| 11/11 [00:01<00:00,  6.36it/s]"
          ]
        },
        {
          "name": "stdout",
          "output_type": "stream",
          "text": [
            "                   all        324       1241      0.803      0.578      0.634      0.481      0.807      0.578      0.635      0.497\n"
          ]
        },
        {
          "name": "stderr",
          "output_type": "stream",
          "text": [
            "\n"
          ]
        },
        {
          "name": "stdout",
          "output_type": "stream",
          "text": [
            "\n",
            "      Epoch    GPU_mem   box_loss   seg_loss   cls_loss   dfl_loss  Instances       Size\n"
          ]
        },
        {
          "name": "stderr",
          "output_type": "stream",
          "text": [
            "     24/300      3.61G      1.174      1.468      1.048      1.023         46        640: 100%|██████████| 213/213 [00:22<00:00,  9.46it/s]\n",
            "                 Class     Images  Instances      Box(P          R      mAP50  mAP50-95)     Mask(P          R      mAP50  mAP50-95): 100%|██████████| 11/11 [00:01<00:00,  6.45it/s]"
          ]
        },
        {
          "name": "stdout",
          "output_type": "stream",
          "text": [
            "                   all        324       1241      0.476      0.731      0.653      0.484      0.475      0.728      0.654      0.499\n"
          ]
        },
        {
          "name": "stderr",
          "output_type": "stream",
          "text": [
            "\n"
          ]
        },
        {
          "name": "stdout",
          "output_type": "stream",
          "text": [
            "\n",
            "      Epoch    GPU_mem   box_loss   seg_loss   cls_loss   dfl_loss  Instances       Size\n"
          ]
        },
        {
          "name": "stderr",
          "output_type": "stream",
          "text": [
            "     25/300      3.61G      1.158      1.465      1.041      1.014         30        640: 100%|██████████| 213/213 [00:21<00:00,  9.75it/s]\n",
            "                 Class     Images  Instances      Box(P          R      mAP50  mAP50-95)     Mask(P          R      mAP50  mAP50-95): 100%|██████████| 11/11 [00:01<00:00,  6.57it/s]"
          ]
        },
        {
          "name": "stdout",
          "output_type": "stream",
          "text": [
            "                   all        324       1241      0.789      0.589      0.647      0.477      0.801      0.584      0.648      0.483\n"
          ]
        },
        {
          "name": "stderr",
          "output_type": "stream",
          "text": [
            "\n"
          ]
        },
        {
          "name": "stdout",
          "output_type": "stream",
          "text": [
            "\n",
            "      Epoch    GPU_mem   box_loss   seg_loss   cls_loss   dfl_loss  Instances       Size\n"
          ]
        },
        {
          "name": "stderr",
          "output_type": "stream",
          "text": [
            "     26/300      3.61G      1.151      1.442      1.047      1.011         38        640: 100%|██████████| 213/213 [00:21<00:00,  9.76it/s]\n",
            "                 Class     Images  Instances      Box(P          R      mAP50  mAP50-95)     Mask(P          R      mAP50  mAP50-95): 100%|██████████| 11/11 [00:01<00:00,  6.46it/s]"
          ]
        },
        {
          "name": "stdout",
          "output_type": "stream",
          "text": [
            "                   all        324       1241      0.559      0.685      0.652      0.486       0.56      0.687      0.653      0.494\n"
          ]
        },
        {
          "name": "stderr",
          "output_type": "stream",
          "text": [
            "\n"
          ]
        },
        {
          "name": "stdout",
          "output_type": "stream",
          "text": [
            "\n",
            "      Epoch    GPU_mem   box_loss   seg_loss   cls_loss   dfl_loss  Instances       Size\n"
          ]
        },
        {
          "name": "stderr",
          "output_type": "stream",
          "text": [
            "     27/300      3.61G      1.139      1.435      1.027       1.01         47        640: 100%|██████████| 213/213 [00:21<00:00,  9.92it/s]\n",
            "                 Class     Images  Instances      Box(P          R      mAP50  mAP50-95)     Mask(P          R      mAP50  mAP50-95): 100%|██████████| 11/11 [00:01<00:00,  6.61it/s]"
          ]
        },
        {
          "name": "stdout",
          "output_type": "stream",
          "text": [
            "                   all        324       1241      0.566      0.659      0.655      0.488      0.569       0.66      0.651      0.485\n"
          ]
        },
        {
          "name": "stderr",
          "output_type": "stream",
          "text": [
            "\n"
          ]
        },
        {
          "name": "stdout",
          "output_type": "stream",
          "text": [
            "\n",
            "      Epoch    GPU_mem   box_loss   seg_loss   cls_loss   dfl_loss  Instances       Size\n"
          ]
        },
        {
          "name": "stderr",
          "output_type": "stream",
          "text": [
            "     28/300      3.61G       1.15      1.473      1.035      1.014         55        640: 100%|██████████| 213/213 [00:22<00:00,  9.58it/s]\n",
            "                 Class     Images  Instances      Box(P          R      mAP50  mAP50-95)     Mask(P          R      mAP50  mAP50-95): 100%|██████████| 11/11 [00:01<00:00,  6.42it/s]"
          ]
        },
        {
          "name": "stdout",
          "output_type": "stream",
          "text": [
            "                   all        324       1241      0.782      0.629      0.668      0.519      0.783      0.624       0.67      0.513\n"
          ]
        },
        {
          "name": "stderr",
          "output_type": "stream",
          "text": [
            "\n"
          ]
        },
        {
          "name": "stdout",
          "output_type": "stream",
          "text": [
            "\n",
            "      Epoch    GPU_mem   box_loss   seg_loss   cls_loss   dfl_loss  Instances       Size\n"
          ]
        },
        {
          "name": "stderr",
          "output_type": "stream",
          "text": [
            "     29/300      3.61G      1.133      1.417      1.019      1.011         45        640: 100%|██████████| 213/213 [00:22<00:00,  9.53it/s]\n",
            "                 Class     Images  Instances      Box(P          R      mAP50  mAP50-95)     Mask(P          R      mAP50  mAP50-95): 100%|██████████| 11/11 [00:01<00:00,  6.77it/s]\n"
          ]
        },
        {
          "name": "stdout",
          "output_type": "stream",
          "text": [
            "                   all        324       1241      0.498      0.692      0.656      0.491      0.495      0.688      0.653      0.489\n",
            "\n",
            "      Epoch    GPU_mem   box_loss   seg_loss   cls_loss   dfl_loss  Instances       Size\n"
          ]
        },
        {
          "name": "stderr",
          "output_type": "stream",
          "text": [
            "     30/300      3.61G      1.157      1.476      1.028      1.018         21        640: 100%|██████████| 213/213 [00:21<00:00, 10.14it/s]\n",
            "                 Class     Images  Instances      Box(P          R      mAP50  mAP50-95)     Mask(P          R      mAP50  mAP50-95): 100%|██████████| 11/11 [00:01<00:00,  7.00it/s]"
          ]
        },
        {
          "name": "stdout",
          "output_type": "stream",
          "text": [
            "                   all        324       1241      0.823      0.594      0.668      0.505      0.821      0.593      0.663      0.494\n"
          ]
        },
        {
          "name": "stderr",
          "output_type": "stream",
          "text": [
            "\n"
          ]
        },
        {
          "name": "stdout",
          "output_type": "stream",
          "text": [
            "\n",
            "      Epoch    GPU_mem   box_loss   seg_loss   cls_loss   dfl_loss  Instances       Size\n"
          ]
        },
        {
          "name": "stderr",
          "output_type": "stream",
          "text": [
            "     31/300      3.61G       1.14      1.445       1.03      1.007         74        640: 100%|██████████| 213/213 [00:20<00:00, 10.29it/s]\n",
            "                 Class     Images  Instances      Box(P          R      mAP50  mAP50-95)     Mask(P          R      mAP50  mAP50-95): 100%|██████████| 11/11 [00:01<00:00,  6.80it/s]"
          ]
        },
        {
          "name": "stdout",
          "output_type": "stream",
          "text": [
            "                   all        324       1241      0.527      0.642      0.652      0.497      0.528      0.642      0.654      0.503\n"
          ]
        },
        {
          "name": "stderr",
          "output_type": "stream",
          "text": [
            "\n"
          ]
        },
        {
          "name": "stdout",
          "output_type": "stream",
          "text": [
            "\n",
            "      Epoch    GPU_mem   box_loss   seg_loss   cls_loss   dfl_loss  Instances       Size\n"
          ]
        },
        {
          "name": "stderr",
          "output_type": "stream",
          "text": [
            "     32/300      3.61G      1.128      1.445      1.007      1.004         36        640: 100%|██████████| 213/213 [00:21<00:00, 10.13it/s]\n",
            "                 Class     Images  Instances      Box(P          R      mAP50  mAP50-95)     Mask(P          R      mAP50  mAP50-95): 100%|██████████| 11/11 [00:01<00:00,  6.91it/s]"
          ]
        },
        {
          "name": "stdout",
          "output_type": "stream",
          "text": [
            "                   all        324       1241      0.801      0.583      0.641      0.478      0.791      0.595      0.639      0.475\n"
          ]
        },
        {
          "name": "stderr",
          "output_type": "stream",
          "text": [
            "\n"
          ]
        },
        {
          "name": "stdout",
          "output_type": "stream",
          "text": [
            "\n",
            "      Epoch    GPU_mem   box_loss   seg_loss   cls_loss   dfl_loss  Instances       Size\n"
          ]
        },
        {
          "name": "stderr",
          "output_type": "stream",
          "text": [
            "     33/300      3.61G      1.136      1.423      1.023      1.011         25        640: 100%|██████████| 213/213 [00:21<00:00,  9.83it/s]\n",
            "                 Class     Images  Instances      Box(P          R      mAP50  mAP50-95)     Mask(P          R      mAP50  mAP50-95): 100%|██████████| 11/11 [00:01<00:00,  6.67it/s]"
          ]
        },
        {
          "name": "stdout",
          "output_type": "stream",
          "text": [
            "                   all        324       1241      0.811      0.589      0.664      0.515       0.81      0.588      0.663      0.515\n"
          ]
        },
        {
          "name": "stderr",
          "output_type": "stream",
          "text": [
            "\n"
          ]
        },
        {
          "name": "stdout",
          "output_type": "stream",
          "text": [
            "\n",
            "      Epoch    GPU_mem   box_loss   seg_loss   cls_loss   dfl_loss  Instances       Size\n"
          ]
        },
        {
          "name": "stderr",
          "output_type": "stream",
          "text": [
            "     34/300      3.61G      1.135      1.433     0.9994      1.008         26        640: 100%|██████████| 213/213 [00:21<00:00,  9.76it/s]\n",
            "                 Class     Images  Instances      Box(P          R      mAP50  mAP50-95)     Mask(P          R      mAP50  mAP50-95): 100%|██████████| 11/11 [00:01<00:00,  6.73it/s]"
          ]
        },
        {
          "name": "stdout",
          "output_type": "stream",
          "text": [
            "                   all        324       1241      0.572      0.714      0.682      0.516      0.569       0.71       0.68      0.516\n"
          ]
        },
        {
          "name": "stderr",
          "output_type": "stream",
          "text": [
            "\n"
          ]
        },
        {
          "name": "stdout",
          "output_type": "stream",
          "text": [
            "\n",
            "      Epoch    GPU_mem   box_loss   seg_loss   cls_loss   dfl_loss  Instances       Size\n"
          ]
        },
        {
          "name": "stderr",
          "output_type": "stream",
          "text": [
            "     35/300      3.61G      1.154      1.443      1.008      1.009         40        640: 100%|██████████| 213/213 [00:21<00:00,  9.72it/s]\n",
            "                 Class     Images  Instances      Box(P          R      mAP50  mAP50-95)     Mask(P          R      mAP50  mAP50-95): 100%|██████████| 11/11 [00:01<00:00,  6.73it/s]"
          ]
        },
        {
          "name": "stdout",
          "output_type": "stream",
          "text": [
            "                   all        324       1241      0.588      0.686      0.669      0.504      0.587      0.684       0.67      0.508\n"
          ]
        },
        {
          "name": "stderr",
          "output_type": "stream",
          "text": [
            "\n"
          ]
        },
        {
          "name": "stdout",
          "output_type": "stream",
          "text": [
            "\n",
            "      Epoch    GPU_mem   box_loss   seg_loss   cls_loss   dfl_loss  Instances       Size\n"
          ]
        },
        {
          "name": "stderr",
          "output_type": "stream",
          "text": [
            "     36/300      3.61G      1.121      1.416      1.002      1.002         37        640: 100%|██████████| 213/213 [00:21<00:00,  9.78it/s]\n",
            "                 Class     Images  Instances      Box(P          R      mAP50  mAP50-95)     Mask(P          R      mAP50  mAP50-95): 100%|██████████| 11/11 [00:01<00:00,  6.84it/s]"
          ]
        },
        {
          "name": "stdout",
          "output_type": "stream",
          "text": [
            "                   all        324       1241       0.77      0.597      0.668      0.506       0.77      0.598      0.668       0.51\n"
          ]
        },
        {
          "name": "stderr",
          "output_type": "stream",
          "text": [
            "\n"
          ]
        },
        {
          "name": "stdout",
          "output_type": "stream",
          "text": [
            "\n",
            "      Epoch    GPU_mem   box_loss   seg_loss   cls_loss   dfl_loss  Instances       Size\n"
          ]
        },
        {
          "name": "stderr",
          "output_type": "stream",
          "text": [
            "     37/300      3.61G       1.11      1.436      1.006      1.003         37        640: 100%|██████████| 213/213 [00:21<00:00,  9.87it/s]\n",
            "                 Class     Images  Instances      Box(P          R      mAP50  mAP50-95)     Mask(P          R      mAP50  mAP50-95): 100%|██████████| 11/11 [00:01<00:00,  6.88it/s]"
          ]
        },
        {
          "name": "stdout",
          "output_type": "stream",
          "text": [
            "                   all        324       1241      0.773      0.624       0.68      0.525      0.771      0.624      0.679       0.51\n"
          ]
        },
        {
          "name": "stderr",
          "output_type": "stream",
          "text": [
            "\n"
          ]
        },
        {
          "name": "stdout",
          "output_type": "stream",
          "text": [
            "\n",
            "      Epoch    GPU_mem   box_loss   seg_loss   cls_loss   dfl_loss  Instances       Size\n"
          ]
        },
        {
          "name": "stderr",
          "output_type": "stream",
          "text": [
            "     38/300      3.61G      1.125      1.425     0.9987          1         44        640: 100%|██████████| 213/213 [00:21<00:00,  9.78it/s]\n",
            "                 Class     Images  Instances      Box(P          R      mAP50  mAP50-95)     Mask(P          R      mAP50  mAP50-95): 100%|██████████| 11/11 [00:01<00:00,  6.77it/s]"
          ]
        },
        {
          "name": "stdout",
          "output_type": "stream",
          "text": [
            "                   all        324       1241      0.667      0.647      0.675       0.52      0.663      0.643      0.673      0.513\n"
          ]
        },
        {
          "name": "stderr",
          "output_type": "stream",
          "text": [
            "\n"
          ]
        },
        {
          "name": "stdout",
          "output_type": "stream",
          "text": [
            "\n",
            "      Epoch    GPU_mem   box_loss   seg_loss   cls_loss   dfl_loss  Instances       Size\n"
          ]
        },
        {
          "name": "stderr",
          "output_type": "stream",
          "text": [
            "     39/300      3.63G      1.126      1.424      1.008      1.004         54        640: 100%|██████████| 213/213 [00:21<00:00,  9.77it/s]\n",
            "                 Class     Images  Instances      Box(P          R      mAP50  mAP50-95)     Mask(P          R      mAP50  mAP50-95): 100%|██████████| 11/11 [00:01<00:00,  6.72it/s]"
          ]
        },
        {
          "name": "stdout",
          "output_type": "stream",
          "text": [
            "                   all        324       1241      0.762       0.61       0.66        0.5      0.767      0.603      0.656      0.497\n"
          ]
        },
        {
          "name": "stderr",
          "output_type": "stream",
          "text": [
            "\n"
          ]
        },
        {
          "name": "stdout",
          "output_type": "stream",
          "text": [
            "\n",
            "      Epoch    GPU_mem   box_loss   seg_loss   cls_loss   dfl_loss  Instances       Size\n"
          ]
        },
        {
          "name": "stderr",
          "output_type": "stream",
          "text": [
            "     40/300      3.63G      1.108      1.414     0.9991      1.004         18        640: 100%|██████████| 213/213 [00:21<00:00,  9.77it/s]\n",
            "                 Class     Images  Instances      Box(P          R      mAP50  mAP50-95)     Mask(P          R      mAP50  mAP50-95): 100%|██████████| 11/11 [00:01<00:00,  6.72it/s]"
          ]
        },
        {
          "name": "stdout",
          "output_type": "stream",
          "text": [
            "                   all        324       1241      0.577      0.728      0.669      0.521      0.587      0.725      0.671      0.514\n"
          ]
        },
        {
          "name": "stderr",
          "output_type": "stream",
          "text": [
            "\n"
          ]
        },
        {
          "name": "stdout",
          "output_type": "stream",
          "text": [
            "\n",
            "      Epoch    GPU_mem   box_loss   seg_loss   cls_loss   dfl_loss  Instances       Size\n"
          ]
        },
        {
          "name": "stderr",
          "output_type": "stream",
          "text": [
            "     41/300      3.63G      1.115      1.405      1.005      1.002         29        640: 100%|██████████| 213/213 [00:21<00:00,  9.74it/s]\n",
            "                 Class     Images  Instances      Box(P          R      mAP50  mAP50-95)     Mask(P          R      mAP50  mAP50-95): 100%|██████████| 11/11 [00:01<00:00,  6.63it/s]"
          ]
        },
        {
          "name": "stdout",
          "output_type": "stream",
          "text": [
            "                   all        324       1241      0.532       0.74      0.675      0.521      0.531      0.735      0.673      0.518\n"
          ]
        },
        {
          "name": "stderr",
          "output_type": "stream",
          "text": [
            "\n"
          ]
        },
        {
          "name": "stdout",
          "output_type": "stream",
          "text": [
            "\n",
            "      Epoch    GPU_mem   box_loss   seg_loss   cls_loss   dfl_loss  Instances       Size\n"
          ]
        },
        {
          "name": "stderr",
          "output_type": "stream",
          "text": [
            "     42/300      3.63G      1.099      1.409     0.9813     0.9933         38        640: 100%|██████████| 213/213 [00:21<00:00,  9.77it/s]\n",
            "                 Class     Images  Instances      Box(P          R      mAP50  mAP50-95)     Mask(P          R      mAP50  mAP50-95): 100%|██████████| 11/11 [00:01<00:00,  6.61it/s]"
          ]
        },
        {
          "name": "stdout",
          "output_type": "stream",
          "text": [
            "                   all        324       1241      0.577      0.719      0.672      0.515      0.578       0.72      0.675      0.521\n"
          ]
        },
        {
          "name": "stderr",
          "output_type": "stream",
          "text": [
            "\n"
          ]
        },
        {
          "name": "stdout",
          "output_type": "stream",
          "text": [
            "\n",
            "      Epoch    GPU_mem   box_loss   seg_loss   cls_loss   dfl_loss  Instances       Size\n"
          ]
        },
        {
          "name": "stderr",
          "output_type": "stream",
          "text": [
            "     43/300      3.63G       1.11      1.419      0.979     0.9941         41        640: 100%|██████████| 213/213 [00:21<00:00,  9.75it/s]\n",
            "                 Class     Images  Instances      Box(P          R      mAP50  mAP50-95)     Mask(P          R      mAP50  mAP50-95): 100%|██████████| 11/11 [00:01<00:00,  6.58it/s]"
          ]
        },
        {
          "name": "stdout",
          "output_type": "stream",
          "text": [
            "                   all        324       1241       0.63      0.646       0.67      0.524      0.631      0.648      0.673      0.523\n"
          ]
        },
        {
          "name": "stderr",
          "output_type": "stream",
          "text": [
            "\n"
          ]
        },
        {
          "name": "stdout",
          "output_type": "stream",
          "text": [
            "\n",
            "      Epoch    GPU_mem   box_loss   seg_loss   cls_loss   dfl_loss  Instances       Size\n"
          ]
        },
        {
          "name": "stderr",
          "output_type": "stream",
          "text": [
            "     44/300      3.63G      1.114      1.419     0.9869     0.9975         74        640: 100%|██████████| 213/213 [00:21<00:00,  9.69it/s]\n",
            "                 Class     Images  Instances      Box(P          R      mAP50  mAP50-95)     Mask(P          R      mAP50  mAP50-95): 100%|██████████| 11/11 [00:01<00:00,  6.55it/s]"
          ]
        },
        {
          "name": "stdout",
          "output_type": "stream",
          "text": [
            "                   all        324       1241      0.544      0.679      0.656      0.474      0.544      0.644      0.655      0.472\n"
          ]
        },
        {
          "name": "stderr",
          "output_type": "stream",
          "text": [
            "\n"
          ]
        },
        {
          "name": "stdout",
          "output_type": "stream",
          "text": [
            "\n",
            "      Epoch    GPU_mem   box_loss   seg_loss   cls_loss   dfl_loss  Instances       Size\n"
          ]
        },
        {
          "name": "stderr",
          "output_type": "stream",
          "text": [
            "     45/300      3.63G      1.118      1.405     0.9931      1.002         34        640: 100%|██████████| 213/213 [00:21<00:00,  9.77it/s]\n",
            "                 Class     Images  Instances      Box(P          R      mAP50  mAP50-95)     Mask(P          R      mAP50  mAP50-95): 100%|██████████| 11/11 [00:01<00:00,  6.68it/s]"
          ]
        },
        {
          "name": "stdout",
          "output_type": "stream",
          "text": [
            "                   all        324       1241      0.617      0.695      0.681       0.53      0.616      0.695      0.683      0.522\n"
          ]
        },
        {
          "name": "stderr",
          "output_type": "stream",
          "text": [
            "\n"
          ]
        },
        {
          "name": "stdout",
          "output_type": "stream",
          "text": [
            "\n",
            "      Epoch    GPU_mem   box_loss   seg_loss   cls_loss   dfl_loss  Instances       Size\n"
          ]
        },
        {
          "name": "stderr",
          "output_type": "stream",
          "text": [
            "     46/300      3.63G      1.104      1.382     0.9777     0.9958         27        640: 100%|██████████| 213/213 [00:21<00:00,  9.91it/s]\n",
            "                 Class     Images  Instances      Box(P          R      mAP50  mAP50-95)     Mask(P          R      mAP50  mAP50-95): 100%|██████████| 11/11 [00:01<00:00,  6.76it/s]"
          ]
        },
        {
          "name": "stdout",
          "output_type": "stream",
          "text": [
            "                   all        324       1241      0.546      0.724      0.671      0.517      0.542      0.722      0.669      0.513\n"
          ]
        },
        {
          "name": "stderr",
          "output_type": "stream",
          "text": [
            "\n"
          ]
        },
        {
          "name": "stdout",
          "output_type": "stream",
          "text": [
            "\n",
            "      Epoch    GPU_mem   box_loss   seg_loss   cls_loss   dfl_loss  Instances       Size\n"
          ]
        },
        {
          "name": "stderr",
          "output_type": "stream",
          "text": [
            "     47/300      3.63G      1.094      1.407     0.9842     0.9903         48        640: 100%|██████████| 213/213 [00:21<00:00,  9.87it/s]\n",
            "                 Class     Images  Instances      Box(P          R      mAP50  mAP50-95)     Mask(P          R      mAP50  mAP50-95): 100%|██████████| 11/11 [00:01<00:00,  6.74it/s]"
          ]
        },
        {
          "name": "stdout",
          "output_type": "stream",
          "text": [
            "                   all        324       1241      0.593      0.705      0.674      0.528      0.592      0.704      0.676      0.515\n"
          ]
        },
        {
          "name": "stderr",
          "output_type": "stream",
          "text": [
            "\n"
          ]
        },
        {
          "name": "stdout",
          "output_type": "stream",
          "text": [
            "\n",
            "      Epoch    GPU_mem   box_loss   seg_loss   cls_loss   dfl_loss  Instances       Size\n"
          ]
        },
        {
          "name": "stderr",
          "output_type": "stream",
          "text": [
            "     48/300      3.63G      1.107      1.421     0.9911     0.9954         33        640: 100%|██████████| 213/213 [00:21<00:00,  9.93it/s]\n",
            "                 Class     Images  Instances      Box(P          R      mAP50  mAP50-95)     Mask(P          R      mAP50  mAP50-95): 100%|██████████| 11/11 [00:01<00:00,  6.89it/s]"
          ]
        },
        {
          "name": "stdout",
          "output_type": "stream",
          "text": [
            "                   all        324       1241      0.574      0.686      0.666      0.514      0.575      0.686      0.662      0.503\n"
          ]
        },
        {
          "name": "stderr",
          "output_type": "stream",
          "text": [
            "\n"
          ]
        },
        {
          "name": "stdout",
          "output_type": "stream",
          "text": [
            "\n",
            "      Epoch    GPU_mem   box_loss   seg_loss   cls_loss   dfl_loss  Instances       Size\n"
          ]
        },
        {
          "name": "stderr",
          "output_type": "stream",
          "text": [
            "     49/300      3.63G      1.104      1.397     0.9663     0.9953         39        640: 100%|██████████| 213/213 [00:21<00:00,  9.91it/s]\n",
            "                 Class     Images  Instances      Box(P          R      mAP50  mAP50-95)     Mask(P          R      mAP50  mAP50-95): 100%|██████████| 11/11 [00:01<00:00,  6.82it/s]"
          ]
        },
        {
          "name": "stdout",
          "output_type": "stream",
          "text": [
            "                   all        324       1241      0.582       0.73      0.689      0.537      0.583      0.729      0.688      0.527\n"
          ]
        },
        {
          "name": "stderr",
          "output_type": "stream",
          "text": [
            "\n"
          ]
        },
        {
          "name": "stdout",
          "output_type": "stream",
          "text": [
            "\n",
            "      Epoch    GPU_mem   box_loss   seg_loss   cls_loss   dfl_loss  Instances       Size\n"
          ]
        },
        {
          "name": "stderr",
          "output_type": "stream",
          "text": [
            "     50/300      3.63G      1.109      1.432     0.9594     0.9862         50        640: 100%|██████████| 213/213 [00:21<00:00,  9.80it/s]\n",
            "                 Class     Images  Instances      Box(P          R      mAP50  mAP50-95)     Mask(P          R      mAP50  mAP50-95): 100%|██████████| 11/11 [00:01<00:00,  6.78it/s]"
          ]
        },
        {
          "name": "stdout",
          "output_type": "stream",
          "text": [
            "                   all        324       1241      0.574      0.684      0.679      0.526      0.572      0.681      0.674      0.503\n"
          ]
        },
        {
          "name": "stderr",
          "output_type": "stream",
          "text": [
            "\n"
          ]
        },
        {
          "name": "stdout",
          "output_type": "stream",
          "text": [
            "\n",
            "      Epoch    GPU_mem   box_loss   seg_loss   cls_loss   dfl_loss  Instances       Size\n"
          ]
        },
        {
          "name": "stderr",
          "output_type": "stream",
          "text": [
            "     51/300      3.63G      1.089      1.396     0.9674     0.9913         37        640: 100%|██████████| 213/213 [00:21<00:00,  9.88it/s]\n",
            "                 Class     Images  Instances      Box(P          R      mAP50  mAP50-95)     Mask(P          R      mAP50  mAP50-95): 100%|██████████| 11/11 [00:01<00:00,  6.96it/s]"
          ]
        },
        {
          "name": "stdout",
          "output_type": "stream",
          "text": [
            "                   all        324       1241       0.54      0.722      0.675      0.531      0.539      0.721      0.674      0.524\n"
          ]
        },
        {
          "name": "stderr",
          "output_type": "stream",
          "text": [
            "\n"
          ]
        },
        {
          "name": "stdout",
          "output_type": "stream",
          "text": [
            "\n",
            "      Epoch    GPU_mem   box_loss   seg_loss   cls_loss   dfl_loss  Instances       Size\n"
          ]
        },
        {
          "name": "stderr",
          "output_type": "stream",
          "text": [
            "     52/300      3.63G      1.098      1.426     0.9593     0.9923         38        640: 100%|██████████| 213/213 [00:22<00:00,  9.57it/s]\n",
            "                 Class     Images  Instances      Box(P          R      mAP50  mAP50-95)     Mask(P          R      mAP50  mAP50-95): 100%|██████████| 11/11 [00:01<00:00,  6.77it/s]"
          ]
        },
        {
          "name": "stdout",
          "output_type": "stream",
          "text": [
            "                   all        324       1241      0.859       0.57       0.66      0.506      0.862      0.567      0.659      0.509\n"
          ]
        },
        {
          "name": "stderr",
          "output_type": "stream",
          "text": [
            "\n"
          ]
        },
        {
          "name": "stdout",
          "output_type": "stream",
          "text": [
            "\n",
            "      Epoch    GPU_mem   box_loss   seg_loss   cls_loss   dfl_loss  Instances       Size\n"
          ]
        },
        {
          "name": "stderr",
          "output_type": "stream",
          "text": [
            "     53/300      3.63G      1.082       1.38     0.9633     0.9872         41        640: 100%|██████████| 213/213 [00:22<00:00,  9.52it/s]\n",
            "                 Class     Images  Instances      Box(P          R      mAP50  mAP50-95)     Mask(P          R      mAP50  mAP50-95): 100%|██████████| 11/11 [00:01<00:00,  6.61it/s]"
          ]
        },
        {
          "name": "stdout",
          "output_type": "stream",
          "text": [
            "                   all        324       1241      0.537      0.685      0.664        0.5      0.537      0.685      0.666      0.502\n"
          ]
        },
        {
          "name": "stderr",
          "output_type": "stream",
          "text": [
            "\n"
          ]
        },
        {
          "name": "stdout",
          "output_type": "stream",
          "text": [
            "\n",
            "      Epoch    GPU_mem   box_loss   seg_loss   cls_loss   dfl_loss  Instances       Size\n"
          ]
        },
        {
          "name": "stderr",
          "output_type": "stream",
          "text": [
            "     54/300      3.63G       1.11      1.417     0.9731     0.9963         61        640: 100%|██████████| 213/213 [00:21<00:00,  9.76it/s]\n",
            "                 Class     Images  Instances      Box(P          R      mAP50  mAP50-95)     Mask(P          R      mAP50  mAP50-95): 100%|██████████| 11/11 [00:01<00:00,  6.65it/s]"
          ]
        },
        {
          "name": "stdout",
          "output_type": "stream",
          "text": [
            "                   all        324       1241      0.571      0.725      0.676      0.514      0.568      0.722      0.678      0.519\n"
          ]
        },
        {
          "name": "stderr",
          "output_type": "stream",
          "text": [
            "\n"
          ]
        },
        {
          "name": "stdout",
          "output_type": "stream",
          "text": [
            "\n",
            "      Epoch    GPU_mem   box_loss   seg_loss   cls_loss   dfl_loss  Instances       Size\n"
          ]
        },
        {
          "name": "stderr",
          "output_type": "stream",
          "text": [
            "     55/300      3.63G        1.1      1.403     0.9819      0.997         47        640: 100%|██████████| 213/213 [00:21<00:00,  9.78it/s]\n",
            "                 Class     Images  Instances      Box(P          R      mAP50  mAP50-95)     Mask(P          R      mAP50  mAP50-95): 100%|██████████| 11/11 [00:01<00:00,  6.57it/s]"
          ]
        },
        {
          "name": "stdout",
          "output_type": "stream",
          "text": [
            "                   all        324       1241       0.57      0.693      0.672      0.516      0.572      0.693      0.674      0.524\n"
          ]
        },
        {
          "name": "stderr",
          "output_type": "stream",
          "text": [
            "\n"
          ]
        },
        {
          "name": "stdout",
          "output_type": "stream",
          "text": [
            "\n",
            "      Epoch    GPU_mem   box_loss   seg_loss   cls_loss   dfl_loss  Instances       Size\n"
          ]
        },
        {
          "name": "stderr",
          "output_type": "stream",
          "text": [
            "     56/300      3.63G      1.081       1.39     0.9593     0.9886         40        640: 100%|██████████| 213/213 [00:21<00:00,  9.84it/s]\n",
            "                 Class     Images  Instances      Box(P          R      mAP50  mAP50-95)     Mask(P          R      mAP50  mAP50-95): 100%|██████████| 11/11 [00:01<00:00,  6.67it/s]"
          ]
        },
        {
          "name": "stdout",
          "output_type": "stream",
          "text": [
            "                   all        324       1241      0.563      0.723      0.676      0.535       0.56      0.718      0.674      0.517\n"
          ]
        },
        {
          "name": "stderr",
          "output_type": "stream",
          "text": [
            "\n"
          ]
        },
        {
          "name": "stdout",
          "output_type": "stream",
          "text": [
            "\n",
            "      Epoch    GPU_mem   box_loss   seg_loss   cls_loss   dfl_loss  Instances       Size\n"
          ]
        },
        {
          "name": "stderr",
          "output_type": "stream",
          "text": [
            "     57/300      3.63G      1.102      1.414      0.961     0.9928         46        640: 100%|██████████| 213/213 [00:21<00:00,  9.78it/s]\n",
            "                 Class     Images  Instances      Box(P          R      mAP50  mAP50-95)     Mask(P          R      mAP50  mAP50-95): 100%|██████████| 11/11 [00:01<00:00,  6.63it/s]"
          ]
        },
        {
          "name": "stdout",
          "output_type": "stream",
          "text": [
            "                   all        324       1241      0.805      0.604      0.688      0.544      0.837      0.581      0.689      0.522\n"
          ]
        },
        {
          "name": "stderr",
          "output_type": "stream",
          "text": [
            "\n"
          ]
        },
        {
          "name": "stdout",
          "output_type": "stream",
          "text": [
            "\n",
            "      Epoch    GPU_mem   box_loss   seg_loss   cls_loss   dfl_loss  Instances       Size\n"
          ]
        },
        {
          "name": "stderr",
          "output_type": "stream",
          "text": [
            "     58/300      3.63G      1.099      1.438     0.9599     0.9908         36        640: 100%|██████████| 213/213 [00:21<00:00,  9.78it/s]\n",
            "                 Class     Images  Instances      Box(P          R      mAP50  mAP50-95)     Mask(P          R      mAP50  mAP50-95): 100%|██████████| 11/11 [00:01<00:00,  6.74it/s]"
          ]
        },
        {
          "name": "stdout",
          "output_type": "stream",
          "text": [
            "                   all        324       1241      0.583      0.731      0.688      0.539      0.579      0.724      0.686      0.521\n"
          ]
        },
        {
          "name": "stderr",
          "output_type": "stream",
          "text": [
            "\n"
          ]
        },
        {
          "name": "stdout",
          "output_type": "stream",
          "text": [
            "\n",
            "      Epoch    GPU_mem   box_loss   seg_loss   cls_loss   dfl_loss  Instances       Size\n"
          ]
        },
        {
          "name": "stderr",
          "output_type": "stream",
          "text": [
            "     59/300      3.63G       1.08      1.389     0.9526     0.9878         61        640: 100%|██████████| 213/213 [00:21<00:00,  9.71it/s]\n",
            "                 Class     Images  Instances      Box(P          R      mAP50  mAP50-95)     Mask(P          R      mAP50  mAP50-95): 100%|██████████| 11/11 [00:01<00:00,  6.56it/s]"
          ]
        },
        {
          "name": "stdout",
          "output_type": "stream",
          "text": [
            "                   all        324       1241      0.595      0.714      0.679      0.526      0.595      0.716       0.68      0.524\n"
          ]
        },
        {
          "name": "stderr",
          "output_type": "stream",
          "text": [
            "\n"
          ]
        },
        {
          "name": "stdout",
          "output_type": "stream",
          "text": [
            "\n",
            "      Epoch    GPU_mem   box_loss   seg_loss   cls_loss   dfl_loss  Instances       Size\n"
          ]
        },
        {
          "name": "stderr",
          "output_type": "stream",
          "text": [
            "     60/300      3.63G      1.102      1.435     0.9547     0.9899         38        640: 100%|██████████| 213/213 [00:21<00:00,  9.81it/s]\n",
            "                 Class     Images  Instances      Box(P          R      mAP50  mAP50-95)     Mask(P          R      mAP50  mAP50-95): 100%|██████████| 11/11 [00:01<00:00,  6.79it/s]"
          ]
        },
        {
          "name": "stdout",
          "output_type": "stream",
          "text": [
            "                   all        324       1241      0.526      0.687      0.681      0.526      0.524      0.685       0.68       0.52\n"
          ]
        },
        {
          "name": "stderr",
          "output_type": "stream",
          "text": [
            "\n"
          ]
        },
        {
          "name": "stdout",
          "output_type": "stream",
          "text": [
            "\n",
            "      Epoch    GPU_mem   box_loss   seg_loss   cls_loss   dfl_loss  Instances       Size\n"
          ]
        },
        {
          "name": "stderr",
          "output_type": "stream",
          "text": [
            "     61/300      3.63G      1.083      1.383     0.9735     0.9913         31        640: 100%|██████████| 213/213 [00:21<00:00,  9.84it/s]\n",
            "                 Class     Images  Instances      Box(P          R      mAP50  mAP50-95)     Mask(P          R      mAP50  mAP50-95): 100%|██████████| 11/11 [00:01<00:00,  6.73it/s]"
          ]
        },
        {
          "name": "stdout",
          "output_type": "stream",
          "text": [
            "                   all        324       1241      0.591      0.719      0.678      0.539       0.59      0.718      0.675      0.519\n"
          ]
        },
        {
          "name": "stderr",
          "output_type": "stream",
          "text": [
            "\n"
          ]
        },
        {
          "name": "stdout",
          "output_type": "stream",
          "text": [
            "\n",
            "      Epoch    GPU_mem   box_loss   seg_loss   cls_loss   dfl_loss  Instances       Size\n"
          ]
        },
        {
          "name": "stderr",
          "output_type": "stream",
          "text": [
            "     62/300      3.63G      1.091      1.393     0.9494     0.9914         37        640: 100%|██████████| 213/213 [00:21<00:00,  9.82it/s]\n",
            "                 Class     Images  Instances      Box(P          R      mAP50  mAP50-95)     Mask(P          R      mAP50  mAP50-95): 100%|██████████| 11/11 [00:01<00:00,  6.78it/s]"
          ]
        },
        {
          "name": "stdout",
          "output_type": "stream",
          "text": [
            "                   all        324       1241      0.643      0.687      0.692      0.544      0.642      0.686       0.69      0.531\n"
          ]
        },
        {
          "name": "stderr",
          "output_type": "stream",
          "text": [
            "\n"
          ]
        },
        {
          "name": "stdout",
          "output_type": "stream",
          "text": [
            "\n",
            "      Epoch    GPU_mem   box_loss   seg_loss   cls_loss   dfl_loss  Instances       Size\n"
          ]
        },
        {
          "name": "stderr",
          "output_type": "stream",
          "text": [
            "     63/300      3.63G      1.087      1.377     0.9508     0.9869         62        640: 100%|██████████| 213/213 [00:21<00:00,  9.92it/s]\n",
            "                 Class     Images  Instances      Box(P          R      mAP50  mAP50-95)     Mask(P          R      mAP50  mAP50-95): 100%|██████████| 11/11 [00:01<00:00,  6.86it/s]"
          ]
        },
        {
          "name": "stdout",
          "output_type": "stream",
          "text": [
            "                   all        324       1241      0.627      0.711      0.688      0.542      0.624      0.708      0.687      0.525\n"
          ]
        },
        {
          "name": "stderr",
          "output_type": "stream",
          "text": [
            "\n"
          ]
        },
        {
          "name": "stdout",
          "output_type": "stream",
          "text": [
            "\n",
            "      Epoch    GPU_mem   box_loss   seg_loss   cls_loss   dfl_loss  Instances       Size\n"
          ]
        },
        {
          "name": "stderr",
          "output_type": "stream",
          "text": [
            "     64/300      3.63G      1.078      1.395     0.9476     0.9863         60        640: 100%|██████████| 213/213 [00:21<00:00,  9.90it/s]\n",
            "                 Class     Images  Instances      Box(P          R      mAP50  mAP50-95)     Mask(P          R      mAP50  mAP50-95): 100%|██████████| 11/11 [00:01<00:00,  6.86it/s]"
          ]
        },
        {
          "name": "stdout",
          "output_type": "stream",
          "text": [
            "                   all        324       1241      0.588      0.701      0.679      0.543      0.588      0.699       0.68      0.526\n"
          ]
        },
        {
          "name": "stderr",
          "output_type": "stream",
          "text": [
            "\n"
          ]
        },
        {
          "name": "stdout",
          "output_type": "stream",
          "text": [
            "\n",
            "      Epoch    GPU_mem   box_loss   seg_loss   cls_loss   dfl_loss  Instances       Size\n"
          ]
        },
        {
          "name": "stderr",
          "output_type": "stream",
          "text": [
            "     65/300      3.63G      1.069      1.387     0.9481     0.9854         36        640: 100%|██████████| 213/213 [00:21<00:00,  9.88it/s]\n",
            "                 Class     Images  Instances      Box(P          R      mAP50  mAP50-95)     Mask(P          R      mAP50  mAP50-95): 100%|██████████| 11/11 [00:01<00:00,  6.90it/s]"
          ]
        },
        {
          "name": "stdout",
          "output_type": "stream",
          "text": [
            "                   all        324       1241      0.573      0.659      0.674       0.53      0.574      0.659      0.673      0.515\n"
          ]
        },
        {
          "name": "stderr",
          "output_type": "stream",
          "text": [
            "\n"
          ]
        },
        {
          "name": "stdout",
          "output_type": "stream",
          "text": [
            "\n",
            "      Epoch    GPU_mem   box_loss   seg_loss   cls_loss   dfl_loss  Instances       Size\n"
          ]
        },
        {
          "name": "stderr",
          "output_type": "stream",
          "text": [
            "     66/300      3.63G      1.097      1.391     0.9665     0.9872         27        640: 100%|██████████| 213/213 [00:21<00:00,  9.82it/s]\n",
            "                 Class     Images  Instances      Box(P          R      mAP50  mAP50-95)     Mask(P          R      mAP50  mAP50-95): 100%|██████████| 11/11 [00:01<00:00,  6.87it/s]"
          ]
        },
        {
          "name": "stdout",
          "output_type": "stream",
          "text": [
            "                   all        324       1241      0.635      0.664       0.68      0.537      0.636      0.666      0.681      0.528\n"
          ]
        },
        {
          "name": "stderr",
          "output_type": "stream",
          "text": [
            "\n"
          ]
        },
        {
          "name": "stdout",
          "output_type": "stream",
          "text": [
            "\n",
            "      Epoch    GPU_mem   box_loss   seg_loss   cls_loss   dfl_loss  Instances       Size\n"
          ]
        },
        {
          "name": "stderr",
          "output_type": "stream",
          "text": [
            "     67/300      3.63G      1.069      1.388      0.938     0.9776         44        640: 100%|██████████| 213/213 [00:21<00:00,  9.90it/s]\n",
            "                 Class     Images  Instances      Box(P          R      mAP50  mAP50-95)     Mask(P          R      mAP50  mAP50-95): 100%|██████████| 11/11 [00:01<00:00,  6.89it/s]"
          ]
        },
        {
          "name": "stdout",
          "output_type": "stream",
          "text": [
            "                   all        324       1241      0.545      0.738      0.707      0.554      0.543      0.735      0.706      0.547\n"
          ]
        },
        {
          "name": "stderr",
          "output_type": "stream",
          "text": [
            "\n"
          ]
        },
        {
          "name": "stdout",
          "output_type": "stream",
          "text": [
            "\n",
            "      Epoch    GPU_mem   box_loss   seg_loss   cls_loss   dfl_loss  Instances       Size\n"
          ]
        },
        {
          "name": "stderr",
          "output_type": "stream",
          "text": [
            "     68/300      3.63G      1.094      1.406     0.9656      0.993         36        640: 100%|██████████| 213/213 [00:21<00:00,  9.87it/s]\n",
            "                 Class     Images  Instances      Box(P          R      mAP50  mAP50-95)     Mask(P          R      mAP50  mAP50-95): 100%|██████████| 11/11 [00:01<00:00,  6.84it/s]"
          ]
        },
        {
          "name": "stdout",
          "output_type": "stream",
          "text": [
            "                   all        324       1241      0.839      0.571      0.674      0.535      0.837      0.569      0.673      0.516\n"
          ]
        },
        {
          "name": "stderr",
          "output_type": "stream",
          "text": [
            "\n"
          ]
        },
        {
          "name": "stdout",
          "output_type": "stream",
          "text": [
            "\n",
            "      Epoch    GPU_mem   box_loss   seg_loss   cls_loss   dfl_loss  Instances       Size\n"
          ]
        },
        {
          "name": "stderr",
          "output_type": "stream",
          "text": [
            "     69/300      3.63G      1.071      1.368       0.95     0.9844         45        640: 100%|██████████| 213/213 [00:21<00:00,  9.87it/s]\n",
            "                 Class     Images  Instances      Box(P          R      mAP50  mAP50-95)     Mask(P          R      mAP50  mAP50-95): 100%|██████████| 11/11 [00:01<00:00,  6.73it/s]"
          ]
        },
        {
          "name": "stdout",
          "output_type": "stream",
          "text": [
            "                   all        324       1241      0.553        0.7      0.669       0.53      0.552      0.702       0.67      0.518\n"
          ]
        },
        {
          "name": "stderr",
          "output_type": "stream",
          "text": [
            "\n"
          ]
        },
        {
          "name": "stdout",
          "output_type": "stream",
          "text": [
            "\n",
            "      Epoch    GPU_mem   box_loss   seg_loss   cls_loss   dfl_loss  Instances       Size\n"
          ]
        },
        {
          "name": "stderr",
          "output_type": "stream",
          "text": [
            "     70/300      3.63G      1.091       1.41     0.9556     0.9847         61        640: 100%|██████████| 213/213 [00:21<00:00,  9.83it/s]\n",
            "                 Class     Images  Instances      Box(P          R      mAP50  mAP50-95)     Mask(P          R      mAP50  mAP50-95): 100%|██████████| 11/11 [00:01<00:00,  6.58it/s]"
          ]
        },
        {
          "name": "stdout",
          "output_type": "stream",
          "text": [
            "                   all        324       1241      0.649      0.722      0.688      0.549      0.649      0.719      0.689      0.524\n"
          ]
        },
        {
          "name": "stderr",
          "output_type": "stream",
          "text": [
            "\n"
          ]
        },
        {
          "name": "stdout",
          "output_type": "stream",
          "text": [
            "\n",
            "      Epoch    GPU_mem   box_loss   seg_loss   cls_loss   dfl_loss  Instances       Size\n"
          ]
        },
        {
          "name": "stderr",
          "output_type": "stream",
          "text": [
            "     71/300      3.63G      1.077      1.408     0.9486     0.9857         35        640: 100%|██████████| 213/213 [00:21<00:00,  9.81it/s]\n",
            "                 Class     Images  Instances      Box(P          R      mAP50  mAP50-95)     Mask(P          R      mAP50  mAP50-95): 100%|██████████| 11/11 [00:01<00:00,  6.69it/s]"
          ]
        },
        {
          "name": "stdout",
          "output_type": "stream",
          "text": [
            "                   all        324       1241      0.603      0.714      0.684      0.548      0.608      0.713      0.685      0.528\n"
          ]
        },
        {
          "name": "stderr",
          "output_type": "stream",
          "text": [
            "\n"
          ]
        },
        {
          "name": "stdout",
          "output_type": "stream",
          "text": [
            "\n",
            "      Epoch    GPU_mem   box_loss   seg_loss   cls_loss   dfl_loss  Instances       Size\n"
          ]
        },
        {
          "name": "stderr",
          "output_type": "stream",
          "text": [
            "     72/300      3.63G      1.085      1.384     0.9324     0.9854         29        640: 100%|██████████| 213/213 [00:21<00:00,  9.85it/s]\n",
            "                 Class     Images  Instances      Box(P          R      mAP50  mAP50-95)     Mask(P          R      mAP50  mAP50-95): 100%|██████████| 11/11 [00:01<00:00,  6.82it/s]"
          ]
        },
        {
          "name": "stdout",
          "output_type": "stream",
          "text": [
            "                   all        324       1241      0.623      0.725      0.686      0.539      0.622      0.724      0.684      0.518\n"
          ]
        },
        {
          "name": "stderr",
          "output_type": "stream",
          "text": [
            "\n"
          ]
        },
        {
          "name": "stdout",
          "output_type": "stream",
          "text": [
            "\n",
            "      Epoch    GPU_mem   box_loss   seg_loss   cls_loss   dfl_loss  Instances       Size\n"
          ]
        },
        {
          "name": "stderr",
          "output_type": "stream",
          "text": [
            "     73/300      3.63G      1.089       1.42     0.9395     0.9902         33        640: 100%|██████████| 213/213 [00:21<00:00,  9.77it/s]\n",
            "                 Class     Images  Instances      Box(P          R      mAP50  mAP50-95)     Mask(P          R      mAP50  mAP50-95): 100%|██████████| 11/11 [00:01<00:00,  6.80it/s]"
          ]
        },
        {
          "name": "stdout",
          "output_type": "stream",
          "text": [
            "                   all        324       1241      0.589      0.693      0.682      0.541      0.585      0.691      0.681       0.52\n"
          ]
        },
        {
          "name": "stderr",
          "output_type": "stream",
          "text": [
            "\n"
          ]
        },
        {
          "name": "stdout",
          "output_type": "stream",
          "text": [
            "\n",
            "      Epoch    GPU_mem   box_loss   seg_loss   cls_loss   dfl_loss  Instances       Size\n"
          ]
        },
        {
          "name": "stderr",
          "output_type": "stream",
          "text": [
            "     74/300      3.63G      1.068      1.367     0.9367     0.9781         48        640: 100%|██████████| 213/213 [00:21<00:00,  9.81it/s]\n",
            "                 Class     Images  Instances      Box(P          R      mAP50  mAP50-95)     Mask(P          R      mAP50  mAP50-95): 100%|██████████| 11/11 [00:01<00:00,  6.83it/s]"
          ]
        },
        {
          "name": "stdout",
          "output_type": "stream",
          "text": [
            "                   all        324       1241      0.606      0.723      0.689      0.557      0.604      0.721      0.686      0.527\n"
          ]
        },
        {
          "name": "stderr",
          "output_type": "stream",
          "text": [
            "\n"
          ]
        },
        {
          "name": "stdout",
          "output_type": "stream",
          "text": [
            "\n",
            "      Epoch    GPU_mem   box_loss   seg_loss   cls_loss   dfl_loss  Instances       Size\n"
          ]
        },
        {
          "name": "stderr",
          "output_type": "stream",
          "text": [
            "     75/300      3.63G      1.092      1.402     0.9494     0.9914         31        640: 100%|██████████| 213/213 [00:21<00:00,  9.87it/s]\n",
            "                 Class     Images  Instances      Box(P          R      mAP50  mAP50-95)     Mask(P          R      mAP50  mAP50-95): 100%|██████████| 11/11 [00:01<00:00,  6.78it/s]"
          ]
        },
        {
          "name": "stdout",
          "output_type": "stream",
          "text": [
            "                   all        324       1241      0.622      0.695      0.699       0.55      0.622      0.691      0.698      0.539\n"
          ]
        },
        {
          "name": "stderr",
          "output_type": "stream",
          "text": [
            "\n"
          ]
        },
        {
          "name": "stdout",
          "output_type": "stream",
          "text": [
            "\n",
            "      Epoch    GPU_mem   box_loss   seg_loss   cls_loss   dfl_loss  Instances       Size\n"
          ]
        },
        {
          "name": "stderr",
          "output_type": "stream",
          "text": [
            "     76/300      3.63G      1.061      1.369     0.9318     0.9776         49        640: 100%|██████████| 213/213 [00:21<00:00,  9.81it/s]\n",
            "                 Class     Images  Instances      Box(P          R      mAP50  mAP50-95)     Mask(P          R      mAP50  mAP50-95): 100%|██████████| 11/11 [00:01<00:00,  6.71it/s]"
          ]
        },
        {
          "name": "stdout",
          "output_type": "stream",
          "text": [
            "                   all        324       1241      0.583      0.695        0.7      0.562      0.581      0.693        0.7      0.543\n"
          ]
        },
        {
          "name": "stderr",
          "output_type": "stream",
          "text": [
            "\n"
          ]
        },
        {
          "name": "stdout",
          "output_type": "stream",
          "text": [
            "\n",
            "      Epoch    GPU_mem   box_loss   seg_loss   cls_loss   dfl_loss  Instances       Size\n"
          ]
        },
        {
          "name": "stderr",
          "output_type": "stream",
          "text": [
            "     77/300      3.63G      1.051       1.35      0.928     0.9753         30        640: 100%|██████████| 213/213 [00:22<00:00,  9.52it/s]\n",
            "                 Class     Images  Instances      Box(P          R      mAP50  mAP50-95)     Mask(P          R      mAP50  mAP50-95): 100%|██████████| 11/11 [00:01<00:00,  6.54it/s]"
          ]
        },
        {
          "name": "stdout",
          "output_type": "stream",
          "text": [
            "                   all        324       1241      0.579      0.751      0.687      0.547      0.576      0.749      0.687       0.53\n"
          ]
        },
        {
          "name": "stderr",
          "output_type": "stream",
          "text": [
            "\n"
          ]
        },
        {
          "name": "stdout",
          "output_type": "stream",
          "text": [
            "\n",
            "      Epoch    GPU_mem   box_loss   seg_loss   cls_loss   dfl_loss  Instances       Size\n"
          ]
        },
        {
          "name": "stderr",
          "output_type": "stream",
          "text": [
            "     78/300      3.63G      1.063      1.374     0.9449     0.9789         39        640: 100%|██████████| 213/213 [00:22<00:00,  9.31it/s]\n",
            "                 Class     Images  Instances      Box(P          R      mAP50  mAP50-95)     Mask(P          R      mAP50  mAP50-95): 100%|██████████| 11/11 [00:01<00:00,  6.04it/s]"
          ]
        },
        {
          "name": "stdout",
          "output_type": "stream",
          "text": [
            "                   all        324       1241      0.637      0.721      0.695      0.556      0.636       0.72      0.694      0.524\n"
          ]
        },
        {
          "name": "stderr",
          "output_type": "stream",
          "text": [
            "\n"
          ]
        },
        {
          "name": "stdout",
          "output_type": "stream",
          "text": [
            "\n",
            "      Epoch    GPU_mem   box_loss   seg_loss   cls_loss   dfl_loss  Instances       Size\n"
          ]
        },
        {
          "name": "stderr",
          "output_type": "stream",
          "text": [
            "     79/300      3.63G      1.056      1.396     0.9382     0.9837         25        640: 100%|██████████| 213/213 [00:22<00:00,  9.30it/s]\n",
            "                 Class     Images  Instances      Box(P          R      mAP50  mAP50-95)     Mask(P          R      mAP50  mAP50-95): 100%|██████████| 11/11 [00:01<00:00,  6.01it/s]"
          ]
        },
        {
          "name": "stdout",
          "output_type": "stream",
          "text": [
            "                   all        324       1241      0.574      0.694      0.691      0.549      0.573      0.693      0.691      0.535\n"
          ]
        },
        {
          "name": "stderr",
          "output_type": "stream",
          "text": [
            "\n"
          ]
        },
        {
          "name": "stdout",
          "output_type": "stream",
          "text": [
            "\n",
            "      Epoch    GPU_mem   box_loss   seg_loss   cls_loss   dfl_loss  Instances       Size\n"
          ]
        },
        {
          "name": "stderr",
          "output_type": "stream",
          "text": [
            "     80/300      3.63G      1.051      1.364     0.9227     0.9798         53        640: 100%|██████████| 213/213 [00:23<00:00,  9.01it/s]\n",
            "                 Class     Images  Instances      Box(P          R      mAP50  mAP50-95)     Mask(P          R      mAP50  mAP50-95): 100%|██████████| 11/11 [00:01<00:00,  6.09it/s]"
          ]
        },
        {
          "name": "stdout",
          "output_type": "stream",
          "text": [
            "                   all        324       1241      0.665      0.676      0.693      0.554      0.648      0.689      0.695      0.529\n"
          ]
        },
        {
          "name": "stderr",
          "output_type": "stream",
          "text": [
            "\n"
          ]
        },
        {
          "name": "stdout",
          "output_type": "stream",
          "text": [
            "\n",
            "      Epoch    GPU_mem   box_loss   seg_loss   cls_loss   dfl_loss  Instances       Size\n"
          ]
        },
        {
          "name": "stderr",
          "output_type": "stream",
          "text": [
            "     81/300      3.63G       1.07      1.383     0.9384     0.9826         40        640: 100%|██████████| 213/213 [00:25<00:00,  8.45it/s]\n",
            "                 Class     Images  Instances      Box(P          R      mAP50  mAP50-95)     Mask(P          R      mAP50  mAP50-95): 100%|██████████| 11/11 [00:01<00:00,  5.61it/s]"
          ]
        },
        {
          "name": "stdout",
          "output_type": "stream",
          "text": [
            "                   all        324       1241      0.612      0.704      0.683      0.547      0.606      0.698      0.682      0.532\n"
          ]
        },
        {
          "name": "stderr",
          "output_type": "stream",
          "text": [
            "\n"
          ]
        },
        {
          "name": "stdout",
          "output_type": "stream",
          "text": [
            "\n",
            "      Epoch    GPU_mem   box_loss   seg_loss   cls_loss   dfl_loss  Instances       Size\n"
          ]
        },
        {
          "name": "stderr",
          "output_type": "stream",
          "text": [
            "     82/300      3.63G      1.083        1.4     0.9214     0.9875         31        640: 100%|██████████| 213/213 [00:24<00:00,  8.78it/s]\n",
            "                 Class     Images  Instances      Box(P          R      mAP50  mAP50-95)     Mask(P          R      mAP50  mAP50-95): 100%|██████████| 11/11 [00:02<00:00,  5.43it/s]"
          ]
        },
        {
          "name": "stdout",
          "output_type": "stream",
          "text": [
            "                   all        324       1241      0.614      0.729      0.691      0.553      0.616      0.724      0.691      0.527\n"
          ]
        },
        {
          "name": "stderr",
          "output_type": "stream",
          "text": [
            "\n"
          ]
        },
        {
          "name": "stdout",
          "output_type": "stream",
          "text": [
            "\n",
            "      Epoch    GPU_mem   box_loss   seg_loss   cls_loss   dfl_loss  Instances       Size\n"
          ]
        },
        {
          "name": "stderr",
          "output_type": "stream",
          "text": [
            "     83/300      3.63G      1.059      1.353     0.9231     0.9843         28        640: 100%|██████████| 213/213 [00:24<00:00,  8.86it/s]\n",
            "                 Class     Images  Instances      Box(P          R      mAP50  mAP50-95)     Mask(P          R      mAP50  mAP50-95): 100%|██████████| 11/11 [00:01<00:00,  5.80it/s]"
          ]
        },
        {
          "name": "stdout",
          "output_type": "stream",
          "text": [
            "                   all        324       1241      0.611      0.678      0.693       0.56       0.61      0.677      0.692      0.537\n"
          ]
        },
        {
          "name": "stderr",
          "output_type": "stream",
          "text": [
            "\n"
          ]
        },
        {
          "name": "stdout",
          "output_type": "stream",
          "text": [
            "\n",
            "      Epoch    GPU_mem   box_loss   seg_loss   cls_loss   dfl_loss  Instances       Size\n"
          ]
        },
        {
          "name": "stderr",
          "output_type": "stream",
          "text": [
            "     84/300      3.63G       1.06      1.374     0.9243       0.98         46        640: 100%|██████████| 213/213 [00:23<00:00,  9.24it/s]\n",
            "                 Class     Images  Instances      Box(P          R      mAP50  mAP50-95)     Mask(P          R      mAP50  mAP50-95): 100%|██████████| 11/11 [00:01<00:00,  5.77it/s]"
          ]
        },
        {
          "name": "stdout",
          "output_type": "stream",
          "text": [
            "                   all        324       1241       0.62      0.712      0.694      0.561      0.618      0.707      0.695      0.533\n"
          ]
        },
        {
          "name": "stderr",
          "output_type": "stream",
          "text": [
            "\n"
          ]
        },
        {
          "name": "stdout",
          "output_type": "stream",
          "text": [
            "\n",
            "      Epoch    GPU_mem   box_loss   seg_loss   cls_loss   dfl_loss  Instances       Size\n"
          ]
        },
        {
          "name": "stderr",
          "output_type": "stream",
          "text": [
            "     85/300      3.63G      1.079      1.402     0.9377     0.9808         66        640: 100%|██████████| 213/213 [00:23<00:00,  9.26it/s]\n",
            "                 Class     Images  Instances      Box(P          R      mAP50  mAP50-95)     Mask(P          R      mAP50  mAP50-95): 100%|██████████| 11/11 [00:01<00:00,  6.28it/s]"
          ]
        },
        {
          "name": "stdout",
          "output_type": "stream",
          "text": [
            "                   all        324       1241      0.643      0.664      0.685      0.549      0.643      0.663      0.686      0.531\n"
          ]
        },
        {
          "name": "stderr",
          "output_type": "stream",
          "text": [
            "\n"
          ]
        },
        {
          "name": "stdout",
          "output_type": "stream",
          "text": [
            "\n",
            "      Epoch    GPU_mem   box_loss   seg_loss   cls_loss   dfl_loss  Instances       Size\n"
          ]
        },
        {
          "name": "stderr",
          "output_type": "stream",
          "text": [
            "     86/300      3.63G      1.053      1.391     0.9364     0.9744         66        640: 100%|██████████| 213/213 [00:22<00:00,  9.35it/s]\n",
            "                 Class     Images  Instances      Box(P          R      mAP50  mAP50-95)     Mask(P          R      mAP50  mAP50-95): 100%|██████████| 11/11 [00:01<00:00,  6.21it/s]"
          ]
        },
        {
          "name": "stdout",
          "output_type": "stream",
          "text": [
            "                   all        324       1241      0.606      0.713      0.699      0.569      0.606      0.712      0.698      0.537\n"
          ]
        },
        {
          "name": "stderr",
          "output_type": "stream",
          "text": [
            "\n"
          ]
        },
        {
          "name": "stdout",
          "output_type": "stream",
          "text": [
            "\n",
            "      Epoch    GPU_mem   box_loss   seg_loss   cls_loss   dfl_loss  Instances       Size\n"
          ]
        },
        {
          "name": "stderr",
          "output_type": "stream",
          "text": [
            "     87/300      3.63G      1.066      1.375     0.9237     0.9804         42        640: 100%|██████████| 213/213 [00:22<00:00,  9.50it/s]\n",
            "                 Class     Images  Instances      Box(P          R      mAP50  mAP50-95)     Mask(P          R      mAP50  mAP50-95): 100%|██████████| 11/11 [00:01<00:00,  6.03it/s]"
          ]
        },
        {
          "name": "stdout",
          "output_type": "stream",
          "text": [
            "                   all        324       1241      0.656       0.66        0.7      0.566      0.654      0.658      0.699      0.537\n"
          ]
        },
        {
          "name": "stderr",
          "output_type": "stream",
          "text": [
            "\n"
          ]
        },
        {
          "name": "stdout",
          "output_type": "stream",
          "text": [
            "\n",
            "      Epoch    GPU_mem   box_loss   seg_loss   cls_loss   dfl_loss  Instances       Size\n"
          ]
        },
        {
          "name": "stderr",
          "output_type": "stream",
          "text": [
            "     88/300      3.63G      1.054      1.356     0.9287     0.9757         24        640: 100%|██████████| 213/213 [00:22<00:00,  9.50it/s]\n",
            "                 Class     Images  Instances      Box(P          R      mAP50  mAP50-95)     Mask(P          R      mAP50  mAP50-95): 100%|██████████| 11/11 [00:01<00:00,  6.24it/s]"
          ]
        },
        {
          "name": "stdout",
          "output_type": "stream",
          "text": [
            "                   all        324       1241      0.607      0.701      0.682      0.554      0.607      0.699       0.68      0.529\n"
          ]
        },
        {
          "name": "stderr",
          "output_type": "stream",
          "text": [
            "\n"
          ]
        },
        {
          "name": "stdout",
          "output_type": "stream",
          "text": [
            "\n",
            "      Epoch    GPU_mem   box_loss   seg_loss   cls_loss   dfl_loss  Instances       Size\n"
          ]
        },
        {
          "name": "stderr",
          "output_type": "stream",
          "text": [
            "     89/300      3.63G      1.051      1.365     0.9256     0.9751         52        640: 100%|██████████| 213/213 [00:23<00:00,  9.16it/s]\n",
            "                 Class     Images  Instances      Box(P          R      mAP50  mAP50-95)     Mask(P          R      mAP50  mAP50-95): 100%|██████████| 11/11 [00:01<00:00,  6.13it/s]"
          ]
        },
        {
          "name": "stdout",
          "output_type": "stream",
          "text": [
            "                   all        324       1241      0.604      0.712        0.7      0.572      0.603       0.71        0.7      0.539\n"
          ]
        },
        {
          "name": "stderr",
          "output_type": "stream",
          "text": [
            "\n"
          ]
        },
        {
          "name": "stdout",
          "output_type": "stream",
          "text": [
            "\n",
            "      Epoch    GPU_mem   box_loss   seg_loss   cls_loss   dfl_loss  Instances       Size\n"
          ]
        },
        {
          "name": "stderr",
          "output_type": "stream",
          "text": [
            "     90/300      3.63G      1.056      1.359     0.9223     0.9748         47        640: 100%|██████████| 213/213 [00:24<00:00,  8.73it/s]\n",
            "                 Class     Images  Instances      Box(P          R      mAP50  mAP50-95)     Mask(P          R      mAP50  mAP50-95): 100%|██████████| 11/11 [00:01<00:00,  6.14it/s]"
          ]
        },
        {
          "name": "stdout",
          "output_type": "stream",
          "text": [
            "                   all        324       1241      0.676      0.661      0.709      0.578      0.673      0.659      0.707       0.55\n"
          ]
        },
        {
          "name": "stderr",
          "output_type": "stream",
          "text": [
            "\n"
          ]
        },
        {
          "name": "stdout",
          "output_type": "stream",
          "text": [
            "\n",
            "      Epoch    GPU_mem   box_loss   seg_loss   cls_loss   dfl_loss  Instances       Size\n"
          ]
        },
        {
          "name": "stderr",
          "output_type": "stream",
          "text": [
            "     91/300      3.63G      1.051      1.386     0.9253     0.9712         40        640: 100%|██████████| 213/213 [00:23<00:00,  9.15it/s]\n",
            "                 Class     Images  Instances      Box(P          R      mAP50  mAP50-95)     Mask(P          R      mAP50  mAP50-95): 100%|██████████| 11/11 [00:01<00:00,  5.92it/s]"
          ]
        },
        {
          "name": "stdout",
          "output_type": "stream",
          "text": [
            "                   all        324       1241      0.642      0.705      0.698      0.563      0.632      0.709      0.702      0.541\n"
          ]
        },
        {
          "name": "stderr",
          "output_type": "stream",
          "text": [
            "\n"
          ]
        },
        {
          "name": "stdout",
          "output_type": "stream",
          "text": [
            "\n",
            "      Epoch    GPU_mem   box_loss   seg_loss   cls_loss   dfl_loss  Instances       Size\n"
          ]
        },
        {
          "name": "stderr",
          "output_type": "stream",
          "text": [
            "     92/300      3.63G      1.051      1.342     0.9152      0.973         30        640: 100%|██████████| 213/213 [00:23<00:00,  9.01it/s]\n",
            "                 Class     Images  Instances      Box(P          R      mAP50  mAP50-95)     Mask(P          R      mAP50  mAP50-95): 100%|██████████| 11/11 [00:01<00:00,  6.10it/s]"
          ]
        },
        {
          "name": "stdout",
          "output_type": "stream",
          "text": [
            "                   all        324       1241      0.594      0.732      0.708      0.574      0.593      0.731      0.708      0.545\n"
          ]
        },
        {
          "name": "stderr",
          "output_type": "stream",
          "text": [
            "\n"
          ]
        },
        {
          "name": "stdout",
          "output_type": "stream",
          "text": [
            "\n",
            "      Epoch    GPU_mem   box_loss   seg_loss   cls_loss   dfl_loss  Instances       Size\n"
          ]
        },
        {
          "name": "stderr",
          "output_type": "stream",
          "text": [
            "     93/300      3.63G      1.044      1.347     0.9034     0.9747         60        640: 100%|██████████| 213/213 [00:22<00:00,  9.61it/s]\n",
            "                 Class     Images  Instances      Box(P          R      mAP50  mAP50-95)     Mask(P          R      mAP50  mAP50-95): 100%|██████████| 11/11 [00:01<00:00,  6.42it/s]"
          ]
        },
        {
          "name": "stdout",
          "output_type": "stream",
          "text": [
            "                   all        324       1241      0.612      0.671      0.676      0.549      0.631      0.667      0.676       0.52\n"
          ]
        },
        {
          "name": "stderr",
          "output_type": "stream",
          "text": [
            "\n"
          ]
        },
        {
          "name": "stdout",
          "output_type": "stream",
          "text": [
            "\n",
            "      Epoch    GPU_mem   box_loss   seg_loss   cls_loss   dfl_loss  Instances       Size\n"
          ]
        },
        {
          "name": "stderr",
          "output_type": "stream",
          "text": [
            "     94/300      3.63G      1.044      1.361     0.9097     0.9742         39        640: 100%|██████████| 213/213 [00:22<00:00,  9.45it/s]\n",
            "                 Class     Images  Instances      Box(P          R      mAP50  mAP50-95)     Mask(P          R      mAP50  mAP50-95): 100%|██████████| 11/11 [00:01<00:00,  6.41it/s]"
          ]
        },
        {
          "name": "stdout",
          "output_type": "stream",
          "text": [
            "                   all        324       1241       0.64       0.74      0.704       0.57      0.641      0.741      0.704       0.54\n"
          ]
        },
        {
          "name": "stderr",
          "output_type": "stream",
          "text": [
            "\n"
          ]
        },
        {
          "name": "stdout",
          "output_type": "stream",
          "text": [
            "\n",
            "      Epoch    GPU_mem   box_loss   seg_loss   cls_loss   dfl_loss  Instances       Size\n"
          ]
        },
        {
          "name": "stderr",
          "output_type": "stream",
          "text": [
            "     95/300      3.63G      1.056      1.348     0.9184     0.9797         28        640: 100%|██████████| 213/213 [00:23<00:00,  9.07it/s]\n",
            "                 Class     Images  Instances      Box(P          R      mAP50  mAP50-95)     Mask(P          R      mAP50  mAP50-95): 100%|██████████| 11/11 [00:01<00:00,  6.05it/s]"
          ]
        },
        {
          "name": "stdout",
          "output_type": "stream",
          "text": [
            "                   all        324       1241      0.586      0.741      0.686       0.56      0.586       0.74      0.686      0.526\n"
          ]
        },
        {
          "name": "stderr",
          "output_type": "stream",
          "text": [
            "\n"
          ]
        },
        {
          "name": "stdout",
          "output_type": "stream",
          "text": [
            "\n",
            "      Epoch    GPU_mem   box_loss   seg_loss   cls_loss   dfl_loss  Instances       Size\n"
          ]
        },
        {
          "name": "stderr",
          "output_type": "stream",
          "text": [
            "     96/300      3.63G       1.07      1.387     0.9215     0.9787         56        640: 100%|██████████| 213/213 [00:22<00:00,  9.28it/s]\n",
            "                 Class     Images  Instances      Box(P          R      mAP50  mAP50-95)     Mask(P          R      mAP50  mAP50-95): 100%|██████████| 11/11 [00:01<00:00,  6.14it/s]"
          ]
        },
        {
          "name": "stdout",
          "output_type": "stream",
          "text": [
            "                   all        324       1241       0.63      0.698      0.694      0.561      0.632      0.699      0.697      0.538\n"
          ]
        },
        {
          "name": "stderr",
          "output_type": "stream",
          "text": [
            "\n"
          ]
        },
        {
          "name": "stdout",
          "output_type": "stream",
          "text": [
            "\n",
            "      Epoch    GPU_mem   box_loss   seg_loss   cls_loss   dfl_loss  Instances       Size\n"
          ]
        },
        {
          "name": "stderr",
          "output_type": "stream",
          "text": [
            "     97/300      3.63G      1.037      1.353     0.9148     0.9701         39        640: 100%|██████████| 213/213 [00:24<00:00,  8.80it/s]\n",
            "                 Class     Images  Instances      Box(P          R      mAP50  mAP50-95)     Mask(P          R      mAP50  mAP50-95): 100%|██████████| 11/11 [00:01<00:00,  6.57it/s]"
          ]
        },
        {
          "name": "stdout",
          "output_type": "stream",
          "text": [
            "                   all        324       1241      0.611      0.726      0.688       0.56      0.611      0.725      0.689      0.529\n"
          ]
        },
        {
          "name": "stderr",
          "output_type": "stream",
          "text": [
            "\n"
          ]
        },
        {
          "name": "stdout",
          "output_type": "stream",
          "text": [
            "\n",
            "      Epoch    GPU_mem   box_loss   seg_loss   cls_loss   dfl_loss  Instances       Size\n"
          ]
        },
        {
          "name": "stderr",
          "output_type": "stream",
          "text": [
            "     98/300      3.63G      1.047      1.373     0.9024     0.9735         30        640: 100%|██████████| 213/213 [00:23<00:00,  9.08it/s]\n",
            "                 Class     Images  Instances      Box(P          R      mAP50  mAP50-95)     Mask(P          R      mAP50  mAP50-95): 100%|██████████| 11/11 [00:01<00:00,  5.92it/s]"
          ]
        },
        {
          "name": "stdout",
          "output_type": "stream",
          "text": [
            "                   all        324       1241      0.643      0.711      0.696       0.57      0.644      0.708      0.698      0.538\n"
          ]
        },
        {
          "name": "stderr",
          "output_type": "stream",
          "text": [
            "\n"
          ]
        },
        {
          "name": "stdout",
          "output_type": "stream",
          "text": [
            "\n",
            "      Epoch    GPU_mem   box_loss   seg_loss   cls_loss   dfl_loss  Instances       Size\n"
          ]
        },
        {
          "name": "stderr",
          "output_type": "stream",
          "text": [
            "     99/300      3.63G      1.035      1.342     0.9072     0.9719         76        640: 100%|██████████| 213/213 [00:23<00:00,  9.16it/s]\n",
            "                 Class     Images  Instances      Box(P          R      mAP50  mAP50-95)     Mask(P          R      mAP50  mAP50-95): 100%|██████████| 11/11 [00:01<00:00,  6.51it/s]"
          ]
        },
        {
          "name": "stdout",
          "output_type": "stream",
          "text": [
            "                   all        324       1241      0.621      0.719      0.701      0.571      0.621      0.718        0.7      0.539\n"
          ]
        },
        {
          "name": "stderr",
          "output_type": "stream",
          "text": [
            "\n"
          ]
        },
        {
          "name": "stdout",
          "output_type": "stream",
          "text": [
            "\n",
            "      Epoch    GPU_mem   box_loss   seg_loss   cls_loss   dfl_loss  Instances       Size\n"
          ]
        },
        {
          "name": "stderr",
          "output_type": "stream",
          "text": [
            "    100/300      3.63G      1.039      1.356     0.9083     0.9696         61        640: 100%|██████████| 213/213 [00:22<00:00,  9.28it/s]\n",
            "                 Class     Images  Instances      Box(P          R      mAP50  mAP50-95)     Mask(P          R      mAP50  mAP50-95): 100%|██████████| 11/11 [00:01<00:00,  5.65it/s]"
          ]
        },
        {
          "name": "stdout",
          "output_type": "stream",
          "text": [
            "                   all        324       1241      0.608      0.684      0.685      0.555      0.608      0.683      0.684      0.525\n"
          ]
        },
        {
          "name": "stderr",
          "output_type": "stream",
          "text": [
            "\n"
          ]
        },
        {
          "name": "stdout",
          "output_type": "stream",
          "text": [
            "\n",
            "      Epoch    GPU_mem   box_loss   seg_loss   cls_loss   dfl_loss  Instances       Size\n"
          ]
        },
        {
          "name": "stderr",
          "output_type": "stream",
          "text": [
            "    101/300      3.63G      1.031      1.348      0.897     0.9684         72        640: 100%|██████████| 213/213 [00:22<00:00,  9.46it/s]\n",
            "                 Class     Images  Instances      Box(P          R      mAP50  mAP50-95)     Mask(P          R      mAP50  mAP50-95): 100%|██████████| 11/11 [00:01<00:00,  6.32it/s]"
          ]
        },
        {
          "name": "stdout",
          "output_type": "stream",
          "text": [
            "                   all        324       1241      0.596      0.703      0.685       0.56      0.596      0.705      0.688       0.53\n"
          ]
        },
        {
          "name": "stderr",
          "output_type": "stream",
          "text": [
            "\n"
          ]
        },
        {
          "name": "stdout",
          "output_type": "stream",
          "text": [
            "\n",
            "      Epoch    GPU_mem   box_loss   seg_loss   cls_loss   dfl_loss  Instances       Size\n"
          ]
        },
        {
          "name": "stderr",
          "output_type": "stream",
          "text": [
            "    102/300      3.63G      1.047      1.351     0.9099     0.9735         43        640: 100%|██████████| 213/213 [00:23<00:00,  9.19it/s]\n",
            "                 Class     Images  Instances      Box(P          R      mAP50  mAP50-95)     Mask(P          R      mAP50  mAP50-95): 100%|██████████| 11/11 [00:01<00:00,  6.82it/s]"
          ]
        },
        {
          "name": "stdout",
          "output_type": "stream",
          "text": [
            "                   all        324       1241      0.609      0.707      0.698      0.572      0.607      0.704      0.698      0.543\n"
          ]
        },
        {
          "name": "stderr",
          "output_type": "stream",
          "text": [
            "\n"
          ]
        },
        {
          "name": "stdout",
          "output_type": "stream",
          "text": [
            "\n",
            "      Epoch    GPU_mem   box_loss   seg_loss   cls_loss   dfl_loss  Instances       Size\n"
          ]
        },
        {
          "name": "stderr",
          "output_type": "stream",
          "text": [
            "    103/300      3.63G      1.023      1.316      0.891     0.9685         57        640: 100%|██████████| 213/213 [00:21<00:00,  9.76it/s]\n",
            "                 Class     Images  Instances      Box(P          R      mAP50  mAP50-95)     Mask(P          R      mAP50  mAP50-95): 100%|██████████| 11/11 [00:01<00:00,  6.80it/s]"
          ]
        },
        {
          "name": "stdout",
          "output_type": "stream",
          "text": [
            "                   all        324       1241      0.648      0.681      0.703      0.575      0.649       0.68      0.703       0.55\n"
          ]
        },
        {
          "name": "stderr",
          "output_type": "stream",
          "text": [
            "\n"
          ]
        },
        {
          "name": "stdout",
          "output_type": "stream",
          "text": [
            "\n",
            "      Epoch    GPU_mem   box_loss   seg_loss   cls_loss   dfl_loss  Instances       Size\n"
          ]
        },
        {
          "name": "stderr",
          "output_type": "stream",
          "text": [
            "    104/300      3.63G      1.038      1.354     0.8996     0.9693         20        640: 100%|██████████| 213/213 [00:23<00:00,  9.04it/s]\n",
            "                 Class     Images  Instances      Box(P          R      mAP50  mAP50-95)     Mask(P          R      mAP50  mAP50-95): 100%|██████████| 11/11 [00:02<00:00,  5.48it/s]"
          ]
        },
        {
          "name": "stdout",
          "output_type": "stream",
          "text": [
            "                   all        324       1241      0.598      0.739      0.695      0.572      0.596      0.736      0.697       0.54\n"
          ]
        },
        {
          "name": "stderr",
          "output_type": "stream",
          "text": [
            "\n"
          ]
        },
        {
          "name": "stdout",
          "output_type": "stream",
          "text": [
            "\n",
            "      Epoch    GPU_mem   box_loss   seg_loss   cls_loss   dfl_loss  Instances       Size\n"
          ]
        },
        {
          "name": "stderr",
          "output_type": "stream",
          "text": [
            "    105/300      3.63G      1.037      1.346     0.8977     0.9734         34        640: 100%|██████████| 213/213 [00:23<00:00,  8.97it/s]\n",
            "                 Class     Images  Instances      Box(P          R      mAP50  mAP50-95)     Mask(P          R      mAP50  mAP50-95): 100%|██████████| 11/11 [00:01<00:00,  5.72it/s]"
          ]
        },
        {
          "name": "stdout",
          "output_type": "stream",
          "text": [
            "                   all        324       1241      0.616      0.732        0.7      0.575      0.616      0.732        0.7      0.542\n"
          ]
        },
        {
          "name": "stderr",
          "output_type": "stream",
          "text": [
            "\n"
          ]
        },
        {
          "name": "stdout",
          "output_type": "stream",
          "text": [
            "\n",
            "      Epoch    GPU_mem   box_loss   seg_loss   cls_loss   dfl_loss  Instances       Size\n"
          ]
        },
        {
          "name": "stderr",
          "output_type": "stream",
          "text": [
            "    106/300      3.63G       1.03      1.321     0.9023     0.9718         42        640: 100%|██████████| 213/213 [00:23<00:00,  9.15it/s]\n",
            "                 Class     Images  Instances      Box(P          R      mAP50  mAP50-95)     Mask(P          R      mAP50  mAP50-95): 100%|██████████| 11/11 [00:01<00:00,  5.77it/s]"
          ]
        },
        {
          "name": "stdout",
          "output_type": "stream",
          "text": [
            "                   all        324       1241      0.624      0.688      0.693      0.567      0.626      0.688      0.695      0.537\n"
          ]
        },
        {
          "name": "stderr",
          "output_type": "stream",
          "text": [
            "\n"
          ]
        },
        {
          "name": "stdout",
          "output_type": "stream",
          "text": [
            "\n",
            "      Epoch    GPU_mem   box_loss   seg_loss   cls_loss   dfl_loss  Instances       Size\n"
          ]
        },
        {
          "name": "stderr",
          "output_type": "stream",
          "text": [
            "    107/300      3.63G      1.033      1.323     0.8942     0.9699         35        640: 100%|██████████| 213/213 [00:23<00:00,  9.12it/s]\n",
            "                 Class     Images  Instances      Box(P          R      mAP50  mAP50-95)     Mask(P          R      mAP50  mAP50-95): 100%|██████████| 11/11 [00:01<00:00,  6.17it/s]"
          ]
        },
        {
          "name": "stdout",
          "output_type": "stream",
          "text": [
            "                   all        324       1241      0.666      0.681      0.695      0.565      0.665       0.68      0.694      0.541\n"
          ]
        },
        {
          "name": "stderr",
          "output_type": "stream",
          "text": [
            "\n"
          ]
        },
        {
          "name": "stdout",
          "output_type": "stream",
          "text": [
            "\n",
            "      Epoch    GPU_mem   box_loss   seg_loss   cls_loss   dfl_loss  Instances       Size\n"
          ]
        },
        {
          "name": "stderr",
          "output_type": "stream",
          "text": [
            "    108/300      3.63G      1.044      1.343     0.9006     0.9708         55        640: 100%|██████████| 213/213 [00:23<00:00,  9.09it/s]\n",
            "                 Class     Images  Instances      Box(P          R      mAP50  mAP50-95)     Mask(P          R      mAP50  mAP50-95): 100%|██████████| 11/11 [00:01<00:00,  5.54it/s]"
          ]
        },
        {
          "name": "stdout",
          "output_type": "stream",
          "text": [
            "                   all        324       1241      0.626      0.705      0.697      0.574      0.624      0.704      0.698      0.542\n"
          ]
        },
        {
          "name": "stderr",
          "output_type": "stream",
          "text": [
            "\n"
          ]
        },
        {
          "name": "stdout",
          "output_type": "stream",
          "text": [
            "\n",
            "      Epoch    GPU_mem   box_loss   seg_loss   cls_loss   dfl_loss  Instances       Size\n"
          ]
        },
        {
          "name": "stderr",
          "output_type": "stream",
          "text": [
            "    109/300      3.63G      1.033      1.333     0.8926      0.971         51        640: 100%|██████████| 213/213 [00:25<00:00,  8.44it/s]\n",
            "                 Class     Images  Instances      Box(P          R      mAP50  mAP50-95)     Mask(P          R      mAP50  mAP50-95): 100%|██████████| 11/11 [00:01<00:00,  6.11it/s]"
          ]
        },
        {
          "name": "stdout",
          "output_type": "stream",
          "text": [
            "                   all        324       1241      0.654       0.73      0.699      0.563      0.653      0.728      0.698      0.538\n"
          ]
        },
        {
          "name": "stderr",
          "output_type": "stream",
          "text": [
            "\n"
          ]
        },
        {
          "name": "stdout",
          "output_type": "stream",
          "text": [
            "\n",
            "      Epoch    GPU_mem   box_loss   seg_loss   cls_loss   dfl_loss  Instances       Size\n"
          ]
        },
        {
          "name": "stderr",
          "output_type": "stream",
          "text": [
            "    110/300      3.63G      1.028      1.346     0.8905      0.968         25        640: 100%|██████████| 213/213 [00:24<00:00,  8.87it/s]\n",
            "                 Class     Images  Instances      Box(P          R      mAP50  mAP50-95)     Mask(P          R      mAP50  mAP50-95): 100%|██████████| 11/11 [00:01<00:00,  5.84it/s]"
          ]
        },
        {
          "name": "stdout",
          "output_type": "stream",
          "text": [
            "                   all        324       1241      0.647      0.706      0.703      0.575      0.662      0.702      0.704      0.543\n",
            "\u001b[34m\u001b[1mEarlyStopping: \u001b[0mTraining stopped early as no improvement observed in last 20 epochs. Best results observed at epoch 90, best model saved as best.pt.\n",
            "To update EarlyStopping(patience=20) pass a new patience value, i.e. `patience=300` or use `patience=0` to disable EarlyStopping.\n"
          ]
        },
        {
          "name": "stderr",
          "output_type": "stream",
          "text": [
            "\n"
          ]
        },
        {
          "name": "stdout",
          "output_type": "stream",
          "text": [
            "\n",
            "110 epochs completed in 0.750 hours.\n",
            "Optimizer stripped from d:\\Maestria\\2-Cursos\\9-TFM\\Recursos\\Fuente\\model-classification-coffee-leaf\\runs\\segment\\train\\weights\\last.pt, 6.0MB\n",
            "Optimizer stripped from d:\\Maestria\\2-Cursos\\9-TFM\\Recursos\\Fuente\\model-classification-coffee-leaf\\runs\\segment\\train\\weights\\best.pt, 6.0MB\n",
            "\n",
            "Validating d:\\Maestria\\2-Cursos\\9-TFM\\Recursos\\Fuente\\model-classification-coffee-leaf\\runs\\segment\\train\\weights\\best.pt...\n",
            "Ultralytics 8.3.139  Python-3.12.7 torch-2.7.0+cu128 CUDA:0 (NVIDIA GeForce RTX 4070 Ti, 12282MiB)\n",
            "YOLO11n-seg summary (fused): 113 layers, 2,835,543 parameters, 0 gradients, 10.2 GFLOPs\n"
          ]
        },
        {
          "name": "stderr",
          "output_type": "stream",
          "text": [
            "                 Class     Images  Instances      Box(P          R      mAP50  mAP50-95)     Mask(P          R      mAP50  mAP50-95):   0%|          | 0/11 [00:00<?, ?it/s]"
          ]
        },
        {
          "name": "stdout",
          "output_type": "stream",
          "text": [
            "WARNING Limiting validation plots to first 50 items per image for speed...\n",
            "WARNING Limiting validation plots to first 50 items per image for speed...\n",
            "WARNING Limiting validation plots to first 50 items per image for speed...\n",
            "WARNING Limiting validation plots to first 50 items per image for speed...\n",
            "WARNING Limiting validation plots to first 50 items per image for speed...\n",
            "WARNING Limiting validation plots to first 50 items per image for speed...\n",
            "WARNING Limiting validation plots to first 50 items per image for speed...\n"
          ]
        },
        {
          "name": "stderr",
          "output_type": "stream",
          "text": [
            "                 Class     Images  Instances      Box(P          R      mAP50  mAP50-95)     Mask(P          R      mAP50  mAP50-95):   9%|▉         | 1/11 [00:00<00:02,  4.10it/s]"
          ]
        },
        {
          "name": "stdout",
          "output_type": "stream",
          "text": [
            "WARNING Limiting validation plots to first 50 items per image for speed...\n",
            "WARNING Limiting validation plots to first 50 items per image for speed...\n",
            "WARNING Limiting validation plots to first 50 items per image for speed...\n",
            "WARNING Limiting validation plots to first 50 items per image for speed...\n",
            "WARNING Limiting validation plots to first 50 items per image for speed...\n",
            "WARNING Limiting validation plots to first 50 items per image for speed...\n",
            "WARNING Limiting validation plots to first 50 items per image for speed...\n",
            "WARNING Limiting validation plots to first 50 items per image for speed...\n",
            "WARNING Limiting validation plots to first 50 items per image for speed...\n",
            "WARNING Limiting validation plots to first 50 items per image for speed...\n",
            "WARNING Limiting validation plots to first 50 items per image for speed...\n"
          ]
        },
        {
          "name": "stderr",
          "output_type": "stream",
          "text": [
            "                 Class     Images  Instances      Box(P          R      mAP50  mAP50-95)     Mask(P          R      mAP50  mAP50-95):  18%|█▊        | 2/11 [00:00<00:03,  2.86it/s]"
          ]
        },
        {
          "name": "stdout",
          "output_type": "stream",
          "text": [
            "WARNING Limiting validation plots to first 50 items per image for speed...\n",
            "WARNING Limiting validation plots to first 50 items per image for speed...\n",
            "WARNING Limiting validation plots to first 50 items per image for speed...\n",
            "WARNING Limiting validation plots to first 50 items per image for speed...\n",
            "WARNING Limiting validation plots to first 50 items per image for speed...\n",
            "WARNING Limiting validation plots to first 50 items per image for speed...\n",
            "WARNING Limiting validation plots to first 50 items per image for speed...\n",
            "WARNING Limiting validation plots to first 50 items per image for speed...\n",
            "WARNING Limiting validation plots to first 50 items per image for speed...\n",
            "WARNING Limiting validation plots to first 50 items per image for speed...\n",
            "WARNING Limiting validation plots to first 50 items per image for speed...\n",
            "WARNING Limiting validation plots to first 50 items per image for speed...\n",
            "WARNING Limiting validation plots to first 50 items per image for speed...\n",
            "WARNING Limiting validation plots to first 50 items per image for speed...\n",
            "WARNING Limiting validation plots to first 50 items per image for speed...\n",
            "WARNING Limiting validation plots to first 50 items per image for speed...\n",
            "WARNING Limiting validation plots to first 50 items per image for speed...\n",
            "WARNING Limiting validation plots to first 50 items per image for speed...\n"
          ]
        },
        {
          "name": "stderr",
          "output_type": "stream",
          "text": [
            "                 Class     Images  Instances      Box(P          R      mAP50  mAP50-95)     Mask(P          R      mAP50  mAP50-95): 100%|██████████| 11/11 [00:02<00:00,  4.01it/s]\n"
          ]
        },
        {
          "name": "stdout",
          "output_type": "stream",
          "text": [
            "                   all        324       1241      0.676      0.662      0.709      0.578      0.674      0.658      0.707       0.55\n",
            "            Cercospora         14         16      0.271      0.125      0.193      0.166      0.272      0.125      0.193      0.145\n",
            "               Healthy         66         66      0.983       0.97      0.993      0.938      0.983       0.97      0.993      0.992\n",
            "                 Miner         51        104      0.695      0.613      0.713      0.611      0.695      0.612      0.713      0.558\n",
            "                 Phoma        143        314      0.646      0.917      0.863      0.705      0.647      0.917      0.861      0.654\n",
            "                  Rust        115        741      0.784      0.683      0.783      0.467       0.77      0.668      0.773        0.4\n",
            "Speed: 0.1ms preprocess, 1.0ms inference, 0.0ms loss, 1.2ms postprocess per image\n",
            "Results saved to \u001b[1md:\\Maestria\\2-Cursos\\9-TFM\\Recursos\\Fuente\\model-classification-coffee-leaf\\runs\\segment\\train\u001b[0m\n"
          ]
        }
      ],
      "source": [
        "from ultralytics import YOLO\n",
        "\n",
        "model = YOLO(\"yolo11n-seg.pt\")\n",
        "\n",
        "results = model.train(\n",
        "    data=\"../model-segmentation-coffee-leaf/dataset/data.yaml\", \n",
        "    imgsz=640,\n",
        "    epochs=300, \n",
        "    workers=12,\n",
        "    batch=16,     \n",
        "    lr0=0.01,\n",
        "    lrf=0.01,\n",
        "    optimizer=\"Adam\",\n",
        "    patience=20,\n",
        "    seed=0,\n",
        "    plots=True, \n",
        "    device=0)"
      ]
    },
    {
      "cell_type": "code",
      "execution_count": 13,
      "metadata": {},
      "outputs": [
        {
          "data": {
            "image/png": "[encoded data removed]",
            "text/plain": [
              "<IPython.core.display.Image object>"
            ]
          },
          "execution_count": 13,
          "metadata": {
            "image/png": {
              "width": 2000
            }
          },
          "output_type": "execute_result"
        }
      ],
      "source": [
        "from IPython.display import Image as IPyImage\n",
        "\n",
        "IPyImage(filename='../model-segmentation-coffee-leaf/runs/segment/train_yolo11n-seg/results.png', width=2000)"
      ]
    },
    {
      "cell_type": "code",
      "execution_count": 4,
      "metadata": {},
      "outputs": [
        {
          "name": "stdout",
          "output_type": "stream",
          "text": [
            "\n",
            "image 1/162 d:\\Maestria\\2-Cursos\\9-TFM\\Recursos\\Fuente\\model-segmentation\\model-segmentation-coffee-leaf\\..\\model-segmentation-coffee-leaf\\dataset\\images\\test\\1000_jpg.rf.5475d87b90f9e5cd4ec8c4907ef5090d.jpg: 640x640 1 Phoma, 9.5ms\n",
            "image 2/162 d:\\Maestria\\2-Cursos\\9-TFM\\Recursos\\Fuente\\model-segmentation\\model-segmentation-coffee-leaf\\..\\model-segmentation-coffee-leaf\\dataset\\images\\test\\1008_jpg.rf.06fae72b7856b83e773da4036cf189f0.jpg: 640x640 1 Phoma, 9 Rusts, 5.0ms\n",
            "image 3/162 d:\\Maestria\\2-Cursos\\9-TFM\\Recursos\\Fuente\\model-segmentation\\model-segmentation-coffee-leaf\\..\\model-segmentation-coffee-leaf\\dataset\\images\\test\\1015_jpg.rf.04dbb33073834bf5e89aac72ad775912.jpg: 640x640 2 Phomas, 6.6ms\n",
            "image 4/162 d:\\Maestria\\2-Cursos\\9-TFM\\Recursos\\Fuente\\model-segmentation\\model-segmentation-coffee-leaf\\..\\model-segmentation-coffee-leaf\\dataset\\images\\test\\1028_jpg.rf.7610262610c0619439bb76900f70f4c7.jpg: 640x640 2 Phomas, 4.8ms\n",
            "image 5/162 d:\\Maestria\\2-Cursos\\9-TFM\\Recursos\\Fuente\\model-segmentation\\model-segmentation-coffee-leaf\\..\\model-segmentation-coffee-leaf\\dataset\\images\\test\\1042_jpg.rf.da4af4ad474ccbe67996f6538bcfeba5.jpg: 640x640 3 Phomas, 5.4ms\n",
            "image 6/162 d:\\Maestria\\2-Cursos\\9-TFM\\Recursos\\Fuente\\model-segmentation\\model-segmentation-coffee-leaf\\..\\model-segmentation-coffee-leaf\\dataset\\images\\test\\1048_jpg.rf.83ddaa368b5d792a5a1f2eaa08af7348.jpg: 640x640 1 Healthy, 5.6ms\n",
            "image 7/162 d:\\Maestria\\2-Cursos\\9-TFM\\Recursos\\Fuente\\model-segmentation\\model-segmentation-coffee-leaf\\..\\model-segmentation-coffee-leaf\\dataset\\images\\test\\1050_jpg.rf.fecb7b0595ce511a54d301b40e857c0a.jpg: 640x640 3 Phomas, 5.6ms\n",
            "image 8/162 d:\\Maestria\\2-Cursos\\9-TFM\\Recursos\\Fuente\\model-segmentation\\model-segmentation-coffee-leaf\\..\\model-segmentation-coffee-leaf\\dataset\\images\\test\\1082_jpg.rf.e65172a13dae9225f7d41666e6e85923.jpg: 640x640 1 Miner, 5.5ms\n",
            "image 9/162 d:\\Maestria\\2-Cursos\\9-TFM\\Recursos\\Fuente\\model-segmentation\\model-segmentation-coffee-leaf\\..\\model-segmentation-coffee-leaf\\dataset\\images\\test\\1087_jpg.rf.6f0766fb675cd8cfa38c058aef58e43a.jpg: 640x640 3 Phomas, 2 Rusts, 5.8ms\n",
            "image 10/162 d:\\Maestria\\2-Cursos\\9-TFM\\Recursos\\Fuente\\model-segmentation\\model-segmentation-coffee-leaf\\..\\model-segmentation-coffee-leaf\\dataset\\images\\test\\1095_jpg.rf.926c7605c24145d3d8b11b738ba38858.jpg: 640x640 2 Phomas, 3 Rusts, 5.7ms\n",
            "image 11/162 d:\\Maestria\\2-Cursos\\9-TFM\\Recursos\\Fuente\\model-segmentation\\model-segmentation-coffee-leaf\\..\\model-segmentation-coffee-leaf\\dataset\\images\\test\\1096_jpg.rf.08f3fe4b9a122f8ffe98cb68ea1dd555.jpg: 640x640 5 Phomas, 5.2ms\n",
            "image 12/162 d:\\Maestria\\2-Cursos\\9-TFM\\Recursos\\Fuente\\model-segmentation\\model-segmentation-coffee-leaf\\..\\model-segmentation-coffee-leaf\\dataset\\images\\test\\1105_jpg.rf.ed839cfef8458e410ae84a2436cfb1d6.jpg: 640x640 1 Healthy, 5.7ms\n",
            "image 13/162 d:\\Maestria\\2-Cursos\\9-TFM\\Recursos\\Fuente\\model-segmentation\\model-segmentation-coffee-leaf\\..\\model-segmentation-coffee-leaf\\dataset\\images\\test\\1123_jpg.rf.5ed588a9a7841eb93220b27f5c8f216e.jpg: 640x640 2 Phomas, 6.4ms\n",
            "image 14/162 d:\\Maestria\\2-Cursos\\9-TFM\\Recursos\\Fuente\\model-segmentation\\model-segmentation-coffee-leaf\\..\\model-segmentation-coffee-leaf\\dataset\\images\\test\\1142_jpg.rf.581917166372e14e7a58569aa1a3b4b4.jpg: 640x640 2 Miners, 5 Phomas, 5.2ms\n",
            "image 15/162 d:\\Maestria\\2-Cursos\\9-TFM\\Recursos\\Fuente\\model-segmentation\\model-segmentation-coffee-leaf\\..\\model-segmentation-coffee-leaf\\dataset\\images\\test\\1162_jpg.rf.61d3bc5dbda597fad707b8f221f6d0cf.jpg: 640x640 1 Miner, 4 Phomas, 8.9ms\n",
            "image 16/162 d:\\Maestria\\2-Cursos\\9-TFM\\Recursos\\Fuente\\model-segmentation\\model-segmentation-coffee-leaf\\..\\model-segmentation-coffee-leaf\\dataset\\images\\test\\1173_jpg.rf.38833389144c9a9da46f1e42b74dd59d.jpg: 640x640 2 Miners, 2 Phomas, 5.3ms\n",
            "image 17/162 d:\\Maestria\\2-Cursos\\9-TFM\\Recursos\\Fuente\\model-segmentation\\model-segmentation-coffee-leaf\\..\\model-segmentation-coffee-leaf\\dataset\\images\\test\\1196_jpg.rf.af2fe0833f222648dedc72bcf4485295.jpg: 640x640 1 Healthy, 8.0ms\n",
            "image 18/162 d:\\Maestria\\2-Cursos\\9-TFM\\Recursos\\Fuente\\model-segmentation\\model-segmentation-coffee-leaf\\..\\model-segmentation-coffee-leaf\\dataset\\images\\test\\1205_jpg.rf.013ca9b899a7b473f7fdb0a8cc267c0a.jpg: 640x640 1 Healthy, 2 Phomas, 5.5ms\n",
            "image 19/162 d:\\Maestria\\2-Cursos\\9-TFM\\Recursos\\Fuente\\model-segmentation\\model-segmentation-coffee-leaf\\..\\model-segmentation-coffee-leaf\\dataset\\images\\test\\1208_jpg.rf.014f46f6def525dd0702424d7f82e2c4.jpg: 640x640 1 Phoma, 9.3ms\n",
            "image 20/162 d:\\Maestria\\2-Cursos\\9-TFM\\Recursos\\Fuente\\model-segmentation\\model-segmentation-coffee-leaf\\..\\model-segmentation-coffee-leaf\\dataset\\images\\test\\1217_jpg.rf.863ab480f28631b92529a4a21af44474.jpg: 640x640 1 Phoma, 5.8ms\n",
            "image 21/162 d:\\Maestria\\2-Cursos\\9-TFM\\Recursos\\Fuente\\model-segmentation\\model-segmentation-coffee-leaf\\..\\model-segmentation-coffee-leaf\\dataset\\images\\test\\1229_jpg.rf.734a7a4a150c9a96d9adf6313128da37.jpg: 640x640 1 Healthy, 5.4ms\n",
            "image 22/162 d:\\Maestria\\2-Cursos\\9-TFM\\Recursos\\Fuente\\model-segmentation\\model-segmentation-coffee-leaf\\..\\model-segmentation-coffee-leaf\\dataset\\images\\test\\1249_jpg.rf.f8d98bdde7ecea4cbd68df97e50ea0b7.jpg: 640x640 1 Phoma, 8.9ms\n",
            "image 23/162 d:\\Maestria\\2-Cursos\\9-TFM\\Recursos\\Fuente\\model-segmentation\\model-segmentation-coffee-leaf\\..\\model-segmentation-coffee-leaf\\dataset\\images\\test\\1253_jpg.rf.020314695d636ec8ba8d875ff45329e4.jpg: 640x640 2 Phomas, 6 Rusts, 5.7ms\n",
            "image 24/162 d:\\Maestria\\2-Cursos\\9-TFM\\Recursos\\Fuente\\model-segmentation\\model-segmentation-coffee-leaf\\..\\model-segmentation-coffee-leaf\\dataset\\images\\test\\1255_jpg.rf.3ee4a531d5d3ba7730d70ce13bfbff27.jpg: 640x640 1 Phoma, 2 Rusts, 7.3ms\n",
            "image 25/162 d:\\Maestria\\2-Cursos\\9-TFM\\Recursos\\Fuente\\model-segmentation\\model-segmentation-coffee-leaf\\..\\model-segmentation-coffee-leaf\\dataset\\images\\test\\1258_jpg.rf.c05c3709b8c6457f68ca423aaafd3aba.jpg: 640x640 1 Phoma, 5 Rusts, 5.4ms\n",
            "image 26/162 d:\\Maestria\\2-Cursos\\9-TFM\\Recursos\\Fuente\\model-segmentation\\model-segmentation-coffee-leaf\\..\\model-segmentation-coffee-leaf\\dataset\\images\\test\\1259_jpg.rf.d6ccbf594d2974737e503c943d5103ab.jpg: 640x640 1 Cercospora, 3 Rusts, 5.8ms\n",
            "image 27/162 d:\\Maestria\\2-Cursos\\9-TFM\\Recursos\\Fuente\\model-segmentation\\model-segmentation-coffee-leaf\\..\\model-segmentation-coffee-leaf\\dataset\\images\\test\\1264_jpg.rf.3f6e27d8925b0a44d08e66fc03a42abf.jpg: 640x640 12 Rusts, 5.4ms\n",
            "image 28/162 d:\\Maestria\\2-Cursos\\9-TFM\\Recursos\\Fuente\\model-segmentation\\model-segmentation-coffee-leaf\\..\\model-segmentation-coffee-leaf\\dataset\\images\\test\\1266_jpg.rf.8e03903b60fe12bb6a88d9b3364b9de5.jpg: 640x640 1 Cercospora, 6 Rusts, 6.7ms\n",
            "image 29/162 d:\\Maestria\\2-Cursos\\9-TFM\\Recursos\\Fuente\\model-segmentation\\model-segmentation-coffee-leaf\\..\\model-segmentation-coffee-leaf\\dataset\\images\\test\\1287_jpg.rf.4ecbdabf546f41f76a798f47469f473f.jpg: 640x640 2 Rusts, 5.4ms\n",
            "image 30/162 d:\\Maestria\\2-Cursos\\9-TFM\\Recursos\\Fuente\\model-segmentation\\model-segmentation-coffee-leaf\\..\\model-segmentation-coffee-leaf\\dataset\\images\\test\\1290_jpg.rf.215033ed41e34afe261adb371bd7f564.jpg: 640x640 5 Rusts, 5.7ms\n",
            "image 31/162 d:\\Maestria\\2-Cursos\\9-TFM\\Recursos\\Fuente\\model-segmentation\\model-segmentation-coffee-leaf\\..\\model-segmentation-coffee-leaf\\dataset\\images\\test\\1297_jpg.rf.811304735bdaab5d51219a3d5e6e20fb.jpg: 640x640 16 Rusts, 6.5ms\n",
            "image 32/162 d:\\Maestria\\2-Cursos\\9-TFM\\Recursos\\Fuente\\model-segmentation\\model-segmentation-coffee-leaf\\..\\model-segmentation-coffee-leaf\\dataset\\images\\test\\1301_jpg.rf.ff170c4807076b1f07c5cf39ed8ce75e.jpg: 640x640 1 Phoma, 6.4ms\n",
            "image 33/162 d:\\Maestria\\2-Cursos\\9-TFM\\Recursos\\Fuente\\model-segmentation\\model-segmentation-coffee-leaf\\..\\model-segmentation-coffee-leaf\\dataset\\images\\test\\1308_jpg.rf.bd4d7df13736d1930f44f4a8f353afba.jpg: 640x640 22 Rusts, 5.2ms\n",
            "image 34/162 d:\\Maestria\\2-Cursos\\9-TFM\\Recursos\\Fuente\\model-segmentation\\model-segmentation-coffee-leaf\\..\\model-segmentation-coffee-leaf\\dataset\\images\\test\\1318_jpg.rf.864b6221fe39e9a4d30c82f35c879a05.jpg: 640x640 2 Phomas, 3 Rusts, 6.1ms\n",
            "image 35/162 d:\\Maestria\\2-Cursos\\9-TFM\\Recursos\\Fuente\\model-segmentation\\model-segmentation-coffee-leaf\\..\\model-segmentation-coffee-leaf\\dataset\\images\\test\\1337_jpg.rf.7924de00737e5e87e090b991279f7a87.jpg: 640x640 4 Rusts, 5.6ms\n",
            "image 36/162 d:\\Maestria\\2-Cursos\\9-TFM\\Recursos\\Fuente\\model-segmentation\\model-segmentation-coffee-leaf\\..\\model-segmentation-coffee-leaf\\dataset\\images\\test\\133_jpg.rf.74448fafc380105df04af53af70769c0.jpg: 640x640 1 Phoma, 8 Rusts, 5.7ms\n",
            "image 37/162 d:\\Maestria\\2-Cursos\\9-TFM\\Recursos\\Fuente\\model-segmentation\\model-segmentation-coffee-leaf\\..\\model-segmentation-coffee-leaf\\dataset\\images\\test\\1358_jpg.rf.97a7f5e943b2b9f746c641190aa797c3.jpg: 640x640 5 Rusts, 6.0ms\n",
            "image 38/162 d:\\Maestria\\2-Cursos\\9-TFM\\Recursos\\Fuente\\model-segmentation\\model-segmentation-coffee-leaf\\..\\model-segmentation-coffee-leaf\\dataset\\images\\test\\1382_jpg.rf.f36ccef644f03f721895d2f3b0a957ca.jpg: 640x640 7 Rusts, 5.5ms\n",
            "image 39/162 d:\\Maestria\\2-Cursos\\9-TFM\\Recursos\\Fuente\\model-segmentation\\model-segmentation-coffee-leaf\\..\\model-segmentation-coffee-leaf\\dataset\\images\\test\\1385_jpg.rf.c5234e3df6ea474cf0873c192656007f.jpg: 640x640 2 Rusts, 7.8ms\n",
            "image 40/162 d:\\Maestria\\2-Cursos\\9-TFM\\Recursos\\Fuente\\model-segmentation\\model-segmentation-coffee-leaf\\..\\model-segmentation-coffee-leaf\\dataset\\images\\test\\138_jpg.rf.f3ffdb4d404833bf4c805f4c2331a85f.jpg: 640x640 1 Phoma, 24 Rusts, 6.1ms\n",
            "image 41/162 d:\\Maestria\\2-Cursos\\9-TFM\\Recursos\\Fuente\\model-segmentation\\model-segmentation-coffee-leaf\\..\\model-segmentation-coffee-leaf\\dataset\\images\\test\\1396_jpg.rf.4d99c7f85a7ec13ccafa947a9418011f.jpg: 640x640 4 Phomas, 8 Rusts, 5.9ms\n",
            "image 42/162 d:\\Maestria\\2-Cursos\\9-TFM\\Recursos\\Fuente\\model-segmentation\\model-segmentation-coffee-leaf\\..\\model-segmentation-coffee-leaf\\dataset\\images\\test\\1397_jpg.rf.f518dcf003c59b056d92fc0f6772d144.jpg: 640x640 5 Rusts, 5.5ms\n",
            "image 43/162 d:\\Maestria\\2-Cursos\\9-TFM\\Recursos\\Fuente\\model-segmentation\\model-segmentation-coffee-leaf\\..\\model-segmentation-coffee-leaf\\dataset\\images\\test\\1405_jpg.rf.5cae2e07143df7b6c8669097a4c10006.jpg: 640x640 6 Rusts, 6.2ms\n",
            "image 44/162 d:\\Maestria\\2-Cursos\\9-TFM\\Recursos\\Fuente\\model-segmentation\\model-segmentation-coffee-leaf\\..\\model-segmentation-coffee-leaf\\dataset\\images\\test\\1412_jpg.rf.a111ec615f19675b12c57dc5494208d1.jpg: 640x640 1 Miner, 1 Phoma, 1 Rust, 6.1ms\n",
            "image 45/162 d:\\Maestria\\2-Cursos\\9-TFM\\Recursos\\Fuente\\model-segmentation\\model-segmentation-coffee-leaf\\..\\model-segmentation-coffee-leaf\\dataset\\images\\test\\1436_jpg.rf.a782a23f9e9a37b3a87a868a1309ce80.jpg: 640x640 6 Rusts, 5.5ms\n",
            "image 46/162 d:\\Maestria\\2-Cursos\\9-TFM\\Recursos\\Fuente\\model-segmentation\\model-segmentation-coffee-leaf\\..\\model-segmentation-coffee-leaf\\dataset\\images\\test\\1439_jpg.rf.f9683d8c200445fb7179e9acd41dc8b4.jpg: 640x640 1 Phoma, 9 Rusts, 6.3ms\n",
            "image 47/162 d:\\Maestria\\2-Cursos\\9-TFM\\Recursos\\Fuente\\model-segmentation\\model-segmentation-coffee-leaf\\..\\model-segmentation-coffee-leaf\\dataset\\images\\test\\1456_jpg.rf.8c471d1d618179da37c20ea601a28c6e.jpg: 640x640 1 Phoma, 3 Rusts, 5.5ms\n",
            "image 48/162 d:\\Maestria\\2-Cursos\\9-TFM\\Recursos\\Fuente\\model-segmentation\\model-segmentation-coffee-leaf\\..\\model-segmentation-coffee-leaf\\dataset\\images\\test\\1485_jpg.rf.cbd258b031d249009630470e9b4d9ad1.jpg: 640x640 4 Phomas, 6.9ms\n",
            "image 49/162 d:\\Maestria\\2-Cursos\\9-TFM\\Recursos\\Fuente\\model-segmentation\\model-segmentation-coffee-leaf\\..\\model-segmentation-coffee-leaf\\dataset\\images\\test\\1502_jpg.rf.bf28adcd87a4cef57a3c870aa58d9d68.jpg: 640x640 11 Rusts, 7.1ms\n",
            "image 50/162 d:\\Maestria\\2-Cursos\\9-TFM\\Recursos\\Fuente\\model-segmentation\\model-segmentation-coffee-leaf\\..\\model-segmentation-coffee-leaf\\dataset\\images\\test\\1508_jpg.rf.1d117c6fcbcc2d2f3031b11908691b36.jpg: 640x640 1 Rust, 7.2ms\n",
            "image 51/162 d:\\Maestria\\2-Cursos\\9-TFM\\Recursos\\Fuente\\model-segmentation\\model-segmentation-coffee-leaf\\..\\model-segmentation-coffee-leaf\\dataset\\images\\test\\150_jpg.rf.f8c3d8c2ad27b83ba91763fcd4bc78f2.jpg: 640x640 1 Phoma, 24 Rusts, 5.5ms\n",
            "image 52/162 d:\\Maestria\\2-Cursos\\9-TFM\\Recursos\\Fuente\\model-segmentation\\model-segmentation-coffee-leaf\\..\\model-segmentation-coffee-leaf\\dataset\\images\\test\\1520_jpg.rf.f3a14c9eef8efcaaa3df4b7ee502fd34.jpg: 640x640 13 Rusts, 4.9ms\n",
            "image 53/162 d:\\Maestria\\2-Cursos\\9-TFM\\Recursos\\Fuente\\model-segmentation\\model-segmentation-coffee-leaf\\..\\model-segmentation-coffee-leaf\\dataset\\images\\test\\152_jpg.rf.74208a3503f7ba262b3fcb185ddfc9b5.jpg: 640x640 11 Rusts, 5.5ms\n",
            "image 54/162 d:\\Maestria\\2-Cursos\\9-TFM\\Recursos\\Fuente\\model-segmentation\\model-segmentation-coffee-leaf\\..\\model-segmentation-coffee-leaf\\dataset\\images\\test\\1531_jpg.rf.1a265e4805f1837d5ac9a592706dbebe.jpg: 640x640 9 Rusts, 5.3ms\n",
            "image 55/162 d:\\Maestria\\2-Cursos\\9-TFM\\Recursos\\Fuente\\model-segmentation\\model-segmentation-coffee-leaf\\..\\model-segmentation-coffee-leaf\\dataset\\images\\test\\1538_jpg.rf.3a73d6d1fb866adb3c2b4bd31aa40052.jpg: 640x640 3 Phomas, 1 Rust, 5.5ms\n",
            "image 56/162 d:\\Maestria\\2-Cursos\\9-TFM\\Recursos\\Fuente\\model-segmentation\\model-segmentation-coffee-leaf\\..\\model-segmentation-coffee-leaf\\dataset\\images\\test\\1563_jpg.rf.1fab0718d8d951e526a46688bfb9d04a.jpg: 640x640 8 Rusts, 8.3ms\n",
            "image 57/162 d:\\Maestria\\2-Cursos\\9-TFM\\Recursos\\Fuente\\model-segmentation\\model-segmentation-coffee-leaf\\..\\model-segmentation-coffee-leaf\\dataset\\images\\test\\1566_jpg.rf.a283c369a1d1efb5eaf098b23063b0f0.jpg: 640x640 3 Rusts, 5.4ms\n",
            "image 58/162 d:\\Maestria\\2-Cursos\\9-TFM\\Recursos\\Fuente\\model-segmentation\\model-segmentation-coffee-leaf\\..\\model-segmentation-coffee-leaf\\dataset\\images\\test\\1569_jpg.rf.436a6b22316afec7f67095c962869729.jpg: 640x640 1 Miner, 1 Rust, 5.0ms\n",
            "image 59/162 d:\\Maestria\\2-Cursos\\9-TFM\\Recursos\\Fuente\\model-segmentation\\model-segmentation-coffee-leaf\\..\\model-segmentation-coffee-leaf\\dataset\\images\\test\\1573_jpg.rf.e84ddf5c73a889d53b5d3e70bf986070.jpg: 640x640 2 Phomas, 5.7ms\n",
            "image 60/162 d:\\Maestria\\2-Cursos\\9-TFM\\Recursos\\Fuente\\model-segmentation\\model-segmentation-coffee-leaf\\..\\model-segmentation-coffee-leaf\\dataset\\images\\test\\1582_jpg.rf.67bed573760887125dfd3e306b6ba174.jpg: 640x640 4 Phomas, 5.0ms\n",
            "image 61/162 d:\\Maestria\\2-Cursos\\9-TFM\\Recursos\\Fuente\\model-segmentation\\model-segmentation-coffee-leaf\\..\\model-segmentation-coffee-leaf\\dataset\\images\\test\\1593_jpg.rf.134a8319b6aa9ede6796a8a4c70033eb.jpg: 640x640 5 Rusts, 5.8ms\n",
            "image 62/162 d:\\Maestria\\2-Cursos\\9-TFM\\Recursos\\Fuente\\model-segmentation\\model-segmentation-coffee-leaf\\..\\model-segmentation-coffee-leaf\\dataset\\images\\test\\1601_jpg.rf.c84c799bbe1954944f4ef0e2274c4da1.jpg: 640x640 1 Phoma, 5.2ms\n",
            "image 63/162 d:\\Maestria\\2-Cursos\\9-TFM\\Recursos\\Fuente\\model-segmentation\\model-segmentation-coffee-leaf\\..\\model-segmentation-coffee-leaf\\dataset\\images\\test\\1605_jpg.rf.fa2cf10e88745b091c1d89db05c89a41.jpg: 640x640 3 Phomas, 9 Rusts, 7.0ms\n",
            "image 64/162 d:\\Maestria\\2-Cursos\\9-TFM\\Recursos\\Fuente\\model-segmentation\\model-segmentation-coffee-leaf\\..\\model-segmentation-coffee-leaf\\dataset\\images\\test\\1629_jpg.rf.8cf1cb8b546a3ea4fd2c9251dbf55069.jpg: 640x640 5 Rusts, 6.2ms\n",
            "image 65/162 d:\\Maestria\\2-Cursos\\9-TFM\\Recursos\\Fuente\\model-segmentation\\model-segmentation-coffee-leaf\\..\\model-segmentation-coffee-leaf\\dataset\\images\\test\\1633_jpg.rf.862862c6dbb6a63b0f78a8464ed68242.jpg: 640x640 2 Phomas, 13 Rusts, 5.2ms\n",
            "image 66/162 d:\\Maestria\\2-Cursos\\9-TFM\\Recursos\\Fuente\\model-segmentation\\model-segmentation-coffee-leaf\\..\\model-segmentation-coffee-leaf\\dataset\\images\\test\\1679_jpg.rf.fef7b4d552eb5f961fa98a03ab8e5d6d.jpg: 640x640 1 Miner, 3 Phomas, 5 Rusts, 5.3ms\n",
            "image 67/162 d:\\Maestria\\2-Cursos\\9-TFM\\Recursos\\Fuente\\model-segmentation\\model-segmentation-coffee-leaf\\..\\model-segmentation-coffee-leaf\\dataset\\images\\test\\1683_jpg.rf.cda7e1bd4219a0cf24023cf2d92c1e2c.jpg: 640x640 1 Healthy, 5.2ms\n",
            "image 68/162 d:\\Maestria\\2-Cursos\\9-TFM\\Recursos\\Fuente\\model-segmentation\\model-segmentation-coffee-leaf\\..\\model-segmentation-coffee-leaf\\dataset\\images\\test\\1692_jpg.rf.0bad857ff5f76e9347087bf1362631d1.jpg: 640x640 2 Phomas, 3 Rusts, 5.2ms\n",
            "image 69/162 d:\\Maestria\\2-Cursos\\9-TFM\\Recursos\\Fuente\\model-segmentation\\model-segmentation-coffee-leaf\\..\\model-segmentation-coffee-leaf\\dataset\\images\\test\\1696_jpg.rf.51ded80610af1caf650522350b257027.jpg: 640x640 1 Miner, 1 Rust, 5.1ms\n",
            "image 70/162 d:\\Maestria\\2-Cursos\\9-TFM\\Recursos\\Fuente\\model-segmentation\\model-segmentation-coffee-leaf\\..\\model-segmentation-coffee-leaf\\dataset\\images\\test\\1704_jpg.rf.5f042c24612744dbbc235e3008c0fc10.jpg: 640x640 1 Miner, 4 Phomas, 7 Rusts, 5.2ms\n",
            "image 71/162 d:\\Maestria\\2-Cursos\\9-TFM\\Recursos\\Fuente\\model-segmentation\\model-segmentation-coffee-leaf\\..\\model-segmentation-coffee-leaf\\dataset\\images\\test\\1707_jpg.rf.156a6ac2acbda7a19957254ed0a2ec39.jpg: 640x640 2 Phomas, 13 Rusts, 5.3ms\n",
            "image 72/162 d:\\Maestria\\2-Cursos\\9-TFM\\Recursos\\Fuente\\model-segmentation\\model-segmentation-coffee-leaf\\..\\model-segmentation-coffee-leaf\\dataset\\images\\test\\1710_jpg.rf.d633341d2042552bd98b2c4d42447d50.jpg: 640x640 1 Cercospora, 6 Rusts, 5.1ms\n",
            "image 73/162 d:\\Maestria\\2-Cursos\\9-TFM\\Recursos\\Fuente\\model-segmentation\\model-segmentation-coffee-leaf\\..\\model-segmentation-coffee-leaf\\dataset\\images\\test\\171_jpg.rf.102147891c08f04b5899aab5e594034f.jpg: 640x640 6 Rusts, 5.1ms\n",
            "image 74/162 d:\\Maestria\\2-Cursos\\9-TFM\\Recursos\\Fuente\\model-segmentation\\model-segmentation-coffee-leaf\\..\\model-segmentation-coffee-leaf\\dataset\\images\\test\\1722_jpg.rf.3fbb027f3906ffc7ec8c21f3986b3363.jpg: 640x640 2 Phomas, 2 Rusts, 5.3ms\n",
            "image 75/162 d:\\Maestria\\2-Cursos\\9-TFM\\Recursos\\Fuente\\model-segmentation\\model-segmentation-coffee-leaf\\..\\model-segmentation-coffee-leaf\\dataset\\images\\test\\178_jpg.rf.a572095f3a4ebfd06580909660c0a6b4.jpg: 640x640 1 Healthy, 6.1ms\n",
            "image 76/162 d:\\Maestria\\2-Cursos\\9-TFM\\Recursos\\Fuente\\model-segmentation\\model-segmentation-coffee-leaf\\..\\model-segmentation-coffee-leaf\\dataset\\images\\test\\179_jpg.rf.2b4145c2b8c4fde72e67fb9013e2da35.jpg: 640x640 1 Healthy, 5.3ms\n",
            "image 77/162 d:\\Maestria\\2-Cursos\\9-TFM\\Recursos\\Fuente\\model-segmentation\\model-segmentation-coffee-leaf\\..\\model-segmentation-coffee-leaf\\dataset\\images\\test\\196_jpg.rf.ade8f279e723e7df9b20c1f0a52c6489.jpg: 640x640 1 Healthy, 6.3ms\n",
            "image 78/162 d:\\Maestria\\2-Cursos\\9-TFM\\Recursos\\Fuente\\model-segmentation\\model-segmentation-coffee-leaf\\..\\model-segmentation-coffee-leaf\\dataset\\images\\test\\204_jpg.rf.a51107dd7f45bcc21fa943496096421b.jpg: 640x640 1 Healthy, 5.9ms\n",
            "image 79/162 d:\\Maestria\\2-Cursos\\9-TFM\\Recursos\\Fuente\\model-segmentation\\model-segmentation-coffee-leaf\\..\\model-segmentation-coffee-leaf\\dataset\\images\\test\\211_jpg.rf.0d6aadfb3dc1752cdb5140cc1c854b49.jpg: 640x640 1 Healthy, 5.8ms\n",
            "image 80/162 d:\\Maestria\\2-Cursos\\9-TFM\\Recursos\\Fuente\\model-segmentation\\model-segmentation-coffee-leaf\\..\\model-segmentation-coffee-leaf\\dataset\\images\\test\\212_jpg.rf.147a62636428a99fc81b8882221b449c.jpg: 640x640 1 Phoma, 5.9ms\n",
            "image 81/162 d:\\Maestria\\2-Cursos\\9-TFM\\Recursos\\Fuente\\model-segmentation\\model-segmentation-coffee-leaf\\..\\model-segmentation-coffee-leaf\\dataset\\images\\test\\239_jpg.rf.c6ccfb9ba42e99ed91856d79bc0e6616.jpg: 640x640 2 Phomas, 5.7ms\n",
            "image 82/162 d:\\Maestria\\2-Cursos\\9-TFM\\Recursos\\Fuente\\model-segmentation\\model-segmentation-coffee-leaf\\..\\model-segmentation-coffee-leaf\\dataset\\images\\test\\249_jpg.rf.b696c48afa652a0e967855d407091d52.jpg: 640x640 2 Phomas, 7.5ms\n",
            "image 83/162 d:\\Maestria\\2-Cursos\\9-TFM\\Recursos\\Fuente\\model-segmentation\\model-segmentation-coffee-leaf\\..\\model-segmentation-coffee-leaf\\dataset\\images\\test\\251_jpg.rf.a0cd5b1cf0ed2e90223ebcf4f0c23d5a.jpg: 640x640 7 Phomas, 6.8ms\n",
            "image 84/162 d:\\Maestria\\2-Cursos\\9-TFM\\Recursos\\Fuente\\model-segmentation\\model-segmentation-coffee-leaf\\..\\model-segmentation-coffee-leaf\\dataset\\images\\test\\256_jpg.rf.330b07351c6783fabf4e8817513754fa.jpg: 640x640 4 Phomas, 6.5ms\n",
            "image 85/162 d:\\Maestria\\2-Cursos\\9-TFM\\Recursos\\Fuente\\model-segmentation\\model-segmentation-coffee-leaf\\..\\model-segmentation-coffee-leaf\\dataset\\images\\test\\259_jpg.rf.77144bbaba20119c1c3106063df415c2.jpg: 640x640 2 Phomas, 8.1ms\n",
            "image 86/162 d:\\Maestria\\2-Cursos\\9-TFM\\Recursos\\Fuente\\model-segmentation\\model-segmentation-coffee-leaf\\..\\model-segmentation-coffee-leaf\\dataset\\images\\test\\25_jpg.rf.9a430a8266ee9cb798cc2c36752b36a7.jpg: 640x640 2 Miners, 2 Phomas, 6.4ms\n",
            "image 87/162 d:\\Maestria\\2-Cursos\\9-TFM\\Recursos\\Fuente\\model-segmentation\\model-segmentation-coffee-leaf\\..\\model-segmentation-coffee-leaf\\dataset\\images\\test\\276_jpg.rf.ae22145be651077c6af83eaaf3cb7456.jpg: 640x640 2 Phomas, 6.4ms\n",
            "image 88/162 d:\\Maestria\\2-Cursos\\9-TFM\\Recursos\\Fuente\\model-segmentation\\model-segmentation-coffee-leaf\\..\\model-segmentation-coffee-leaf\\dataset\\images\\test\\277_jpg.rf.685e44352ed765e25d617351f3b7d475.jpg: 640x640 1 Phoma, 5.8ms\n",
            "image 89/162 d:\\Maestria\\2-Cursos\\9-TFM\\Recursos\\Fuente\\model-segmentation\\model-segmentation-coffee-leaf\\..\\model-segmentation-coffee-leaf\\dataset\\images\\test\\28_jpg.rf.3645088fc344699cfc2bc333f1879a20.jpg: 640x640 8 Miners, 5.2ms\n",
            "image 90/162 d:\\Maestria\\2-Cursos\\9-TFM\\Recursos\\Fuente\\model-segmentation\\model-segmentation-coffee-leaf\\..\\model-segmentation-coffee-leaf\\dataset\\images\\test\\292_jpg.rf.1daec5d6ad8951772daf0645c2229a4f.jpg: 640x640 3 Phomas, 4.9ms\n",
            "image 91/162 d:\\Maestria\\2-Cursos\\9-TFM\\Recursos\\Fuente\\model-segmentation\\model-segmentation-coffee-leaf\\..\\model-segmentation-coffee-leaf\\dataset\\images\\test\\295_jpg.rf.194b8336b747e0175bf8dc3997db9272.jpg: 640x640 1 Phoma, 6.2ms\n",
            "image 92/162 d:\\Maestria\\2-Cursos\\9-TFM\\Recursos\\Fuente\\model-segmentation\\model-segmentation-coffee-leaf\\..\\model-segmentation-coffee-leaf\\dataset\\images\\test\\297_jpg.rf.1202c738add61dc23fffcb56656b9fef.jpg: 640x640 3 Phomas, 6.1ms\n",
            "image 93/162 d:\\Maestria\\2-Cursos\\9-TFM\\Recursos\\Fuente\\model-segmentation\\model-segmentation-coffee-leaf\\..\\model-segmentation-coffee-leaf\\dataset\\images\\test\\2_jpg.rf.336cc1e2aa084051af6040895cc847c1.jpg: 640x640 1 Healthy, 8.3ms\n",
            "image 94/162 d:\\Maestria\\2-Cursos\\9-TFM\\Recursos\\Fuente\\model-segmentation\\model-segmentation-coffee-leaf\\..\\model-segmentation-coffee-leaf\\dataset\\images\\test\\302_jpg.rf.1c87a68bf8f9c71ed138373a12513c40.jpg: 640x640 2 Phomas, 5.5ms\n",
            "image 95/162 d:\\Maestria\\2-Cursos\\9-TFM\\Recursos\\Fuente\\model-segmentation\\model-segmentation-coffee-leaf\\..\\model-segmentation-coffee-leaf\\dataset\\images\\test\\307_jpg.rf.6f98f51fd867e3fe018b7914a0bac21f.jpg: 640x640 2 Phomas, 5.1ms\n",
            "image 96/162 d:\\Maestria\\2-Cursos\\9-TFM\\Recursos\\Fuente\\model-segmentation\\model-segmentation-coffee-leaf\\..\\model-segmentation-coffee-leaf\\dataset\\images\\test\\30_jpg.rf.3e20cbd8b3a79408261867cbebd81146.jpg: 640x640 3 Miners, 5.1ms\n",
            "image 97/162 d:\\Maestria\\2-Cursos\\9-TFM\\Recursos\\Fuente\\model-segmentation\\model-segmentation-coffee-leaf\\..\\model-segmentation-coffee-leaf\\dataset\\images\\test\\372_jpg.rf.d8eb63140108be0e6f46945b81a65af4.jpg: 640x640 4 Phomas, 5.1ms\n",
            "image 98/162 d:\\Maestria\\2-Cursos\\9-TFM\\Recursos\\Fuente\\model-segmentation\\model-segmentation-coffee-leaf\\..\\model-segmentation-coffee-leaf\\dataset\\images\\test\\392_jpg.rf.599f36a2ce96cfc9857ffa8c6738234a.jpg: 640x640 2 Phomas, 4.9ms\n",
            "image 99/162 d:\\Maestria\\2-Cursos\\9-TFM\\Recursos\\Fuente\\model-segmentation\\model-segmentation-coffee-leaf\\..\\model-segmentation-coffee-leaf\\dataset\\images\\test\\39_jpg.rf.9c628a58794d46466f0ee570c1ff500f.jpg: 640x640 2 Miners, 5.0ms\n",
            "image 100/162 d:\\Maestria\\2-Cursos\\9-TFM\\Recursos\\Fuente\\model-segmentation\\model-segmentation-coffee-leaf\\..\\model-segmentation-coffee-leaf\\dataset\\images\\test\\409_jpg.rf.e2b2be1493a84fc3be58d3bcb25f5000.jpg: 640x640 4 Phomas, 5.1ms\n",
            "image 101/162 d:\\Maestria\\2-Cursos\\9-TFM\\Recursos\\Fuente\\model-segmentation\\model-segmentation-coffee-leaf\\..\\model-segmentation-coffee-leaf\\dataset\\images\\test\\432_jpg.rf.eb21c8982ee8afc93b6a56e0a16ecfd1.jpg: 640x640 2 Phomas, 9.0ms\n",
            "image 102/162 d:\\Maestria\\2-Cursos\\9-TFM\\Recursos\\Fuente\\model-segmentation\\model-segmentation-coffee-leaf\\..\\model-segmentation-coffee-leaf\\dataset\\images\\test\\433_jpg.rf.fa79b2bce7c697f5d5fc8af1ad765d32.jpg: 640x640 4 Phomas, 5.3ms\n",
            "image 103/162 d:\\Maestria\\2-Cursos\\9-TFM\\Recursos\\Fuente\\model-segmentation\\model-segmentation-coffee-leaf\\..\\model-segmentation-coffee-leaf\\dataset\\images\\test\\444_jpg.rf.640bec9583d489478f7e52c5fa2f7c55.jpg: 640x640 1 Phoma, 5.6ms\n",
            "image 104/162 d:\\Maestria\\2-Cursos\\9-TFM\\Recursos\\Fuente\\model-segmentation\\model-segmentation-coffee-leaf\\..\\model-segmentation-coffee-leaf\\dataset\\images\\test\\449_jpg.rf.694726543f0d0c001f5cff78535f7383.jpg: 640x640 4 Phomas, 5.5ms\n",
            "image 105/162 d:\\Maestria\\2-Cursos\\9-TFM\\Recursos\\Fuente\\model-segmentation\\model-segmentation-coffee-leaf\\..\\model-segmentation-coffee-leaf\\dataset\\images\\test\\450_jpg.rf.ac3c049d0af839e3f2900d0ea1466e24.jpg: 640x640 3 Phomas, 5.2ms\n",
            "image 106/162 d:\\Maestria\\2-Cursos\\9-TFM\\Recursos\\Fuente\\model-segmentation\\model-segmentation-coffee-leaf\\..\\model-segmentation-coffee-leaf\\dataset\\images\\test\\454_jpg.rf.9dca657e861038c0eb39183ceee48674.jpg: 640x640 3 Phomas, 7.6ms\n",
            "image 107/162 d:\\Maestria\\2-Cursos\\9-TFM\\Recursos\\Fuente\\model-segmentation\\model-segmentation-coffee-leaf\\..\\model-segmentation-coffee-leaf\\dataset\\images\\test\\475_jpg.rf.343da0ef2041a4095d8521c43594d7eb.jpg: 640x640 3 Phomas, 6.7ms\n",
            "image 108/162 d:\\Maestria\\2-Cursos\\9-TFM\\Recursos\\Fuente\\model-segmentation\\model-segmentation-coffee-leaf\\..\\model-segmentation-coffee-leaf\\dataset\\images\\test\\485_jpg.rf.a3668a42e9b21758343349ed1c498c1c.jpg: 640x640 1 Phoma, 5.5ms\n",
            "image 109/162 d:\\Maestria\\2-Cursos\\9-TFM\\Recursos\\Fuente\\model-segmentation\\model-segmentation-coffee-leaf\\..\\model-segmentation-coffee-leaf\\dataset\\images\\test\\487_jpg.rf.12c47b56ce94759a2bf6c9bd0584f19c.jpg: 640x640 4 Phomas, 5.8ms\n",
            "image 110/162 d:\\Maestria\\2-Cursos\\9-TFM\\Recursos\\Fuente\\model-segmentation\\model-segmentation-coffee-leaf\\..\\model-segmentation-coffee-leaf\\dataset\\images\\test\\496_jpg.rf.37cc1a69872efbdbe0b0b269037c4024.jpg: 640x640 4 Phomas, 5.6ms\n",
            "image 111/162 d:\\Maestria\\2-Cursos\\9-TFM\\Recursos\\Fuente\\model-segmentation\\model-segmentation-coffee-leaf\\..\\model-segmentation-coffee-leaf\\dataset\\images\\test\\49_jpg.rf.d2181054b2f01d804158402f23479538.jpg: 640x640 6 Miners, 1 Rust, 5.7ms\n",
            "image 112/162 d:\\Maestria\\2-Cursos\\9-TFM\\Recursos\\Fuente\\model-segmentation\\model-segmentation-coffee-leaf\\..\\model-segmentation-coffee-leaf\\dataset\\images\\test\\507_jpg.rf.2dc0bce6900e368731cadced0d301a8c.jpg: 640x640 6 Phomas, 6.5ms\n",
            "image 113/162 d:\\Maestria\\2-Cursos\\9-TFM\\Recursos\\Fuente\\model-segmentation\\model-segmentation-coffee-leaf\\..\\model-segmentation-coffee-leaf\\dataset\\images\\test\\513_jpg.rf.f9305281ad6c0ffa549f77cded98367c.jpg: 640x640 1 Phoma, 5.2ms\n",
            "image 114/162 d:\\Maestria\\2-Cursos\\9-TFM\\Recursos\\Fuente\\model-segmentation\\model-segmentation-coffee-leaf\\..\\model-segmentation-coffee-leaf\\dataset\\images\\test\\51_jpg.rf.7c7bb3c5b360e32c270c700135b6a41d.jpg: 640x640 1 Miner, 6.2ms\n",
            "image 115/162 d:\\Maestria\\2-Cursos\\9-TFM\\Recursos\\Fuente\\model-segmentation\\model-segmentation-coffee-leaf\\..\\model-segmentation-coffee-leaf\\dataset\\images\\test\\540_jpg.rf.7d2d5674c384d08cd4642bc8a2cfcbed.jpg: 640x640 7 Phomas, 5.4ms\n",
            "image 116/162 d:\\Maestria\\2-Cursos\\9-TFM\\Recursos\\Fuente\\model-segmentation\\model-segmentation-coffee-leaf\\..\\model-segmentation-coffee-leaf\\dataset\\images\\test\\544_jpg.rf.0e32cf2c1d2bb7229014bbb64253fbc9.jpg: 640x640 1 Phoma, 5.7ms\n",
            "image 117/162 d:\\Maestria\\2-Cursos\\9-TFM\\Recursos\\Fuente\\model-segmentation\\model-segmentation-coffee-leaf\\..\\model-segmentation-coffee-leaf\\dataset\\images\\test\\546_jpg.rf.b949447e3be5ac6413683e98fe660285.jpg: 640x640 1 Phoma, 5.4ms\n",
            "image 118/162 d:\\Maestria\\2-Cursos\\9-TFM\\Recursos\\Fuente\\model-segmentation\\model-segmentation-coffee-leaf\\..\\model-segmentation-coffee-leaf\\dataset\\images\\test\\54_jpg.rf.ec7369ab1ac989f66dde70e6e36bce5b.jpg: 640x640 3 Miners, 2 Phomas, 5.5ms\n",
            "image 119/162 d:\\Maestria\\2-Cursos\\9-TFM\\Recursos\\Fuente\\model-segmentation\\model-segmentation-coffee-leaf\\..\\model-segmentation-coffee-leaf\\dataset\\images\\test\\561_jpg.rf.9cc25e3e2e711ffdbeef00f8f021a28d.jpg: 640x640 1 Cercospora, 5 Phomas, 10 Rusts, 5.1ms\n",
            "image 120/162 d:\\Maestria\\2-Cursos\\9-TFM\\Recursos\\Fuente\\model-segmentation\\model-segmentation-coffee-leaf\\..\\model-segmentation-coffee-leaf\\dataset\\images\\test\\573_jpg.rf.d5a686411736cbb196338aa5c4a36440.jpg: 640x640 1 Healthy, 5.9ms\n",
            "image 121/162 d:\\Maestria\\2-Cursos\\9-TFM\\Recursos\\Fuente\\model-segmentation\\model-segmentation-coffee-leaf\\..\\model-segmentation-coffee-leaf\\dataset\\images\\test\\576_jpg.rf.db80ef3c9cd5517083b8ee3b59f6cc77.jpg: 640x640 1 Phoma, 5.5ms\n",
            "image 122/162 d:\\Maestria\\2-Cursos\\9-TFM\\Recursos\\Fuente\\model-segmentation\\model-segmentation-coffee-leaf\\..\\model-segmentation-coffee-leaf\\dataset\\images\\test\\585_jpg.rf.afcbb9090b7ef9d583972e90b706d415.jpg: 640x640 1 Phoma, 6.3ms\n",
            "image 123/162 d:\\Maestria\\2-Cursos\\9-TFM\\Recursos\\Fuente\\model-segmentation\\model-segmentation-coffee-leaf\\..\\model-segmentation-coffee-leaf\\dataset\\images\\test\\624_jpg.rf.0b82347b776910c24c4f9e7aab73c690.jpg: 640x640 2 Phomas, 7.2ms\n",
            "image 124/162 d:\\Maestria\\2-Cursos\\9-TFM\\Recursos\\Fuente\\model-segmentation\\model-segmentation-coffee-leaf\\..\\model-segmentation-coffee-leaf\\dataset\\images\\test\\631_jpg.rf.48a33b23730f25e9b91e6a10d15e9877.jpg: 640x640 1 Healthy, 6.0ms\n",
            "image 125/162 d:\\Maestria\\2-Cursos\\9-TFM\\Recursos\\Fuente\\model-segmentation\\model-segmentation-coffee-leaf\\..\\model-segmentation-coffee-leaf\\dataset\\images\\test\\663_jpg.rf.67bd6d9c6611383b20563c820ae437a4.jpg: 640x640 2 Miners, 3 Phomas, 1 Rust, 5.9ms\n",
            "image 126/162 d:\\Maestria\\2-Cursos\\9-TFM\\Recursos\\Fuente\\model-segmentation\\model-segmentation-coffee-leaf\\..\\model-segmentation-coffee-leaf\\dataset\\images\\test\\683_jpg.rf.8057c6d5863ccf227fb7a73186a7c9e4.jpg: 640x640 3 Phomas, 6.8ms\n",
            "image 127/162 d:\\Maestria\\2-Cursos\\9-TFM\\Recursos\\Fuente\\model-segmentation\\model-segmentation-coffee-leaf\\..\\model-segmentation-coffee-leaf\\dataset\\images\\test\\694_jpg.rf.146af2dbc2fdad4a9aff1e0aa62e5c0b.jpg: 640x640 1 Healthy, 5.3ms\n",
            "image 128/162 d:\\Maestria\\2-Cursos\\9-TFM\\Recursos\\Fuente\\model-segmentation\\model-segmentation-coffee-leaf\\..\\model-segmentation-coffee-leaf\\dataset\\images\\test\\696_jpg.rf.53da7d794d9311c67ed4595696406fdb.jpg: 640x640 1 Healthy, 7.5ms\n",
            "image 129/162 d:\\Maestria\\2-Cursos\\9-TFM\\Recursos\\Fuente\\model-segmentation\\model-segmentation-coffee-leaf\\..\\model-segmentation-coffee-leaf\\dataset\\images\\test\\697_jpg.rf.f6b8c21bb079f4174a8175cd50e054a0.jpg: 640x640 1 Miner, 2 Phomas, 1 Rust, 5.3ms\n",
            "image 130/162 d:\\Maestria\\2-Cursos\\9-TFM\\Recursos\\Fuente\\model-segmentation\\model-segmentation-coffee-leaf\\..\\model-segmentation-coffee-leaf\\dataset\\images\\test\\69_jpg.rf.49d94e34edb8dfb10504abc92c4c03a1.jpg: 640x640 2 Miners, 6.8ms\n",
            "image 131/162 d:\\Maestria\\2-Cursos\\9-TFM\\Recursos\\Fuente\\model-segmentation\\model-segmentation-coffee-leaf\\..\\model-segmentation-coffee-leaf\\dataset\\images\\test\\705_jpg.rf.8efaa9d54e9614c2dbadb47f59feb82d.jpg: 640x640 1 Miner, 2 Phomas, 5.1ms\n",
            "image 132/162 d:\\Maestria\\2-Cursos\\9-TFM\\Recursos\\Fuente\\model-segmentation\\model-segmentation-coffee-leaf\\..\\model-segmentation-coffee-leaf\\dataset\\images\\test\\713_jpg.rf.eb67eed57f7196a2e2498495c9068c30.jpg: 640x640 3 Rusts, 5.1ms\n",
            "image 133/162 d:\\Maestria\\2-Cursos\\9-TFM\\Recursos\\Fuente\\model-segmentation\\model-segmentation-coffee-leaf\\..\\model-segmentation-coffee-leaf\\dataset\\images\\test\\714_jpg.rf.347abd9bf30d255a5ef79a2c1281f742.jpg: 640x640 1 Miner, 2 Phomas, 1 Rust, 8.7ms\n",
            "image 134/162 d:\\Maestria\\2-Cursos\\9-TFM\\Recursos\\Fuente\\model-segmentation\\model-segmentation-coffee-leaf\\..\\model-segmentation-coffee-leaf\\dataset\\images\\test\\719_jpg.rf.f94309cb90f800846236a3f96eacd725.jpg: 640x640 2 Phomas, 5.0ms\n",
            "image 135/162 d:\\Maestria\\2-Cursos\\9-TFM\\Recursos\\Fuente\\model-segmentation\\model-segmentation-coffee-leaf\\..\\model-segmentation-coffee-leaf\\dataset\\images\\test\\728_jpg.rf.00473a0e51574a4e4112e7aaac5475e3.jpg: 640x640 1 Phoma, 1 Rust, 5.1ms\n",
            "image 136/162 d:\\Maestria\\2-Cursos\\9-TFM\\Recursos\\Fuente\\model-segmentation\\model-segmentation-coffee-leaf\\..\\model-segmentation-coffee-leaf\\dataset\\images\\test\\748_jpg.rf.72b32eba81137ca6f6d3b78514e4e112.jpg: 640x640 2 Phomas, 8.9ms\n",
            "image 137/162 d:\\Maestria\\2-Cursos\\9-TFM\\Recursos\\Fuente\\model-segmentation\\model-segmentation-coffee-leaf\\..\\model-segmentation-coffee-leaf\\dataset\\images\\test\\764_jpg.rf.2d1bae6e4261bf846978630e4ad3b40e.jpg: 640x640 1 Rust, 5.0ms\n",
            "image 138/162 d:\\Maestria\\2-Cursos\\9-TFM\\Recursos\\Fuente\\model-segmentation\\model-segmentation-coffee-leaf\\..\\model-segmentation-coffee-leaf\\dataset\\images\\test\\775_jpg.rf.dd84ab21429162c9df235a9d5f616f1b.jpg: 640x640 1 Healthy, 5.1ms\n",
            "image 139/162 d:\\Maestria\\2-Cursos\\9-TFM\\Recursos\\Fuente\\model-segmentation\\model-segmentation-coffee-leaf\\..\\model-segmentation-coffee-leaf\\dataset\\images\\test\\781_jpg.rf.271664f3fcd58b3a2a4b2d2e6a3be8a1.jpg: 640x640 1 Healthy, 5.0ms\n",
            "image 140/162 d:\\Maestria\\2-Cursos\\9-TFM\\Recursos\\Fuente\\model-segmentation\\model-segmentation-coffee-leaf\\..\\model-segmentation-coffee-leaf\\dataset\\images\\test\\793_jpg.rf.87db28c78cfe2d92843191f1fa25a3fc.jpg: 640x640 1 Healthy, 5.7ms\n",
            "image 141/162 d:\\Maestria\\2-Cursos\\9-TFM\\Recursos\\Fuente\\model-segmentation\\model-segmentation-coffee-leaf\\..\\model-segmentation-coffee-leaf\\dataset\\images\\test\\7_jpg.rf.1f898bbf4a454c3f5a4ab3a1ef55a0e1.jpg: 640x640 1 Healthy, 5.0ms\n",
            "image 142/162 d:\\Maestria\\2-Cursos\\9-TFM\\Recursos\\Fuente\\model-segmentation\\model-segmentation-coffee-leaf\\..\\model-segmentation-coffee-leaf\\dataset\\images\\test\\801_jpg.rf.0e9eaffe4db8e87a3fa412a405dc16c0.jpg: 640x640 1 Phoma, 10 Rusts, 5.5ms\n",
            "image 143/162 d:\\Maestria\\2-Cursos\\9-TFM\\Recursos\\Fuente\\model-segmentation\\model-segmentation-coffee-leaf\\..\\model-segmentation-coffee-leaf\\dataset\\images\\test\\835_jpg.rf.f0e1d5af04dd79ee78863b919d846304.jpg: 640x640 2 Miners, 1 Phoma, 6.2ms\n",
            "image 144/162 d:\\Maestria\\2-Cursos\\9-TFM\\Recursos\\Fuente\\model-segmentation\\model-segmentation-coffee-leaf\\..\\model-segmentation-coffee-leaf\\dataset\\images\\test\\843_jpg.rf.6a71e08a8ed950c331885113c4b74f7b.jpg: 640x640 1 Miner, 3 Phomas, 2 Rusts, 6.1ms\n",
            "image 145/162 d:\\Maestria\\2-Cursos\\9-TFM\\Recursos\\Fuente\\model-segmentation\\model-segmentation-coffee-leaf\\..\\model-segmentation-coffee-leaf\\dataset\\images\\test\\863_jpg.rf.b40e919f2910314e9d997a45f1d14223.jpg: 640x640 1 Phoma, 5.9ms\n",
            "image 146/162 d:\\Maestria\\2-Cursos\\9-TFM\\Recursos\\Fuente\\model-segmentation\\model-segmentation-coffee-leaf\\..\\model-segmentation-coffee-leaf\\dataset\\images\\test\\867_jpg.rf.16e3ae9c33c36b31c33a1843eb9c426d.jpg: 640x640 1 Phoma, 5.8ms\n",
            "image 147/162 d:\\Maestria\\2-Cursos\\9-TFM\\Recursos\\Fuente\\model-segmentation\\model-segmentation-coffee-leaf\\..\\model-segmentation-coffee-leaf\\dataset\\images\\test\\869_jpg.rf.f046bafe7296c9e94c8485f1654c3ac2.jpg: 640x640 2 Miners, 3 Phomas, 3 Rusts, 5.2ms\n",
            "image 148/162 d:\\Maestria\\2-Cursos\\9-TFM\\Recursos\\Fuente\\model-segmentation\\model-segmentation-coffee-leaf\\..\\model-segmentation-coffee-leaf\\dataset\\images\\test\\883_jpg.rf.f99d6d3a4d8ffbc8924ce32c74d5341e.jpg: 640x640 1 Phoma, 4 Rusts, 5.5ms\n",
            "image 149/162 d:\\Maestria\\2-Cursos\\9-TFM\\Recursos\\Fuente\\model-segmentation\\model-segmentation-coffee-leaf\\..\\model-segmentation-coffee-leaf\\dataset\\images\\test\\896_jpg.rf.cff1995f7f3da06dfa827cd10d481184.jpg: 640x640 1 Miner, 1 Phoma, 5.5ms\n",
            "image 150/162 d:\\Maestria\\2-Cursos\\9-TFM\\Recursos\\Fuente\\model-segmentation\\model-segmentation-coffee-leaf\\..\\model-segmentation-coffee-leaf\\dataset\\images\\test\\913_jpg.rf.56e51b616296b5f3782fac8cfc17df67.jpg: 640x640 1 Healthy, 6.4ms\n",
            "image 151/162 d:\\Maestria\\2-Cursos\\9-TFM\\Recursos\\Fuente\\model-segmentation\\model-segmentation-coffee-leaf\\..\\model-segmentation-coffee-leaf\\dataset\\images\\test\\922_jpg.rf.94869596e6642ef3d5abee9573e384ae.jpg: 640x640 1 Phoma, 5.2ms\n",
            "image 152/162 d:\\Maestria\\2-Cursos\\9-TFM\\Recursos\\Fuente\\model-segmentation\\model-segmentation-coffee-leaf\\..\\model-segmentation-coffee-leaf\\dataset\\images\\test\\923_jpg.rf.6584a6dbbbd54503111209efd7cdee99.jpg: 640x640 2 Phomas, 5.6ms\n",
            "image 153/162 d:\\Maestria\\2-Cursos\\9-TFM\\Recursos\\Fuente\\model-segmentation\\model-segmentation-coffee-leaf\\..\\model-segmentation-coffee-leaf\\dataset\\images\\test\\935_jpg.rf.632f948cb8e398f6efd50b3d6b09c7af.jpg: 640x640 1 Healthy, 5.3ms\n",
            "image 154/162 d:\\Maestria\\2-Cursos\\9-TFM\\Recursos\\Fuente\\model-segmentation\\model-segmentation-coffee-leaf\\..\\model-segmentation-coffee-leaf\\dataset\\images\\test\\937_jpg.rf.961e6c3733888db7d86b6000b61a4a3b.jpg: 640x640 1 Healthy, 5.8ms\n",
            "image 155/162 d:\\Maestria\\2-Cursos\\9-TFM\\Recursos\\Fuente\\model-segmentation\\model-segmentation-coffee-leaf\\..\\model-segmentation-coffee-leaf\\dataset\\images\\test\\955_jpg.rf.230450e3b9cc54c67114a3ebecdd7f95.jpg: 640x640 1 Healthy, 9.1ms\n",
            "image 156/162 d:\\Maestria\\2-Cursos\\9-TFM\\Recursos\\Fuente\\model-segmentation\\model-segmentation-coffee-leaf\\..\\model-segmentation-coffee-leaf\\dataset\\images\\test\\961_jpg.rf.113030e0aeb99f018fbf89bb72ea2892.jpg: 640x640 1 Healthy, 5.7ms\n",
            "image 157/162 d:\\Maestria\\2-Cursos\\9-TFM\\Recursos\\Fuente\\model-segmentation\\model-segmentation-coffee-leaf\\..\\model-segmentation-coffee-leaf\\dataset\\images\\test\\965_jpg.rf.4700941f0c30b8c772114ccb80da443c.jpg: 640x640 1 Healthy, 5.2ms\n",
            "image 158/162 d:\\Maestria\\2-Cursos\\9-TFM\\Recursos\\Fuente\\model-segmentation\\model-segmentation-coffee-leaf\\..\\model-segmentation-coffee-leaf\\dataset\\images\\test\\972_jpg.rf.f69d3f59da68e218aabbbb9b0ca72c84.jpg: 640x640 1 Healthy, 5.5ms\n",
            "image 159/162 d:\\Maestria\\2-Cursos\\9-TFM\\Recursos\\Fuente\\model-segmentation\\model-segmentation-coffee-leaf\\..\\model-segmentation-coffee-leaf\\dataset\\images\\test\\975_jpg.rf.f19f5474adc9a07f906eab95b3ac04c6.jpg: 640x640 1 Healthy, 5.6ms\n",
            "image 160/162 d:\\Maestria\\2-Cursos\\9-TFM\\Recursos\\Fuente\\model-segmentation\\model-segmentation-coffee-leaf\\..\\model-segmentation-coffee-leaf\\dataset\\images\\test\\980_jpg.rf.de2e87ea3ec3644c38765ae657964d07.jpg: 640x640 1 Healthy, 6.1ms\n",
            "image 161/162 d:\\Maestria\\2-Cursos\\9-TFM\\Recursos\\Fuente\\model-segmentation\\model-segmentation-coffee-leaf\\..\\model-segmentation-coffee-leaf\\dataset\\images\\test\\983_jpg.rf.aa8cd2f22270458464490528551cc7f2.jpg: 640x640 1 Healthy, 5.8ms\n",
            "image 162/162 d:\\Maestria\\2-Cursos\\9-TFM\\Recursos\\Fuente\\model-segmentation\\model-segmentation-coffee-leaf\\..\\model-segmentation-coffee-leaf\\dataset\\images\\test\\9_jpg.rf.4da47c699e0b3d3fa3789fb556f79d3a.jpg: 640x640 1 Healthy, 5.7ms\n",
            "Speed: 1.3ms preprocess, 6.0ms inference, 1.5ms postprocess per image at shape (1, 3, 640, 640)\n"
          ]
        }
      ],
      "source": [
        "from ultralytics import YOLO\n",
        "\n",
        "model_pred = YOLO(\"../model-segmentation-coffee-leaf/runs/segment/train_yolo11n-seg/weights/best.pt\")\n",
        "\n",
        "results = model_pred(source=\"../model-segmentation-coffee-leaf/dataset/images/test\")"
      ]
    },
    {
      "cell_type": "code",
      "execution_count": 5,
      "metadata": {},
      "outputs": [
        {
          "name": "stdout",
          "output_type": "stream",
          "text": [
            "Ultralytics 8.3.139  Python-3.12.7 torch-2.7.0+cu128 CUDA:0 (NVIDIA GeForce RTX 4070 Ti, 12282MiB)\n",
            "\u001b[34m\u001b[1mval: \u001b[0mFast image access  (ping: 0.00.0 ms, read: 650.0167.3 MB/s, size: 25.4 KB)\n"
          ]
        },
        {
          "name": "stderr",
          "output_type": "stream",
          "text": [
            "\u001b[34m\u001b[1mval: \u001b[0mScanning D:\\Maestria\\2-Cursos\\9-TFM\\Recursos\\Fuente\\model-segmentation\\model-segmentation-coffee-leaf\\dataset\\labels\\val.cache... 324 images, 1 backgrounds, 0 corrupt: 100%|██████████| 324/324 [00:00<?, ?it/s]\n",
            "                 Class     Images  Instances      Box(P          R      mAP50  mAP50-95)     Mask(P          R      mAP50  mAP50-95):   0%|          | 0/21 [00:00<?, ?it/s]"
          ]
        },
        {
          "name": "stdout",
          "output_type": "stream",
          "text": [
            "WARNING Limiting validation plots to first 50 items per image for speed...\n",
            "WARNING Limiting validation plots to first 50 items per image for speed...\n"
          ]
        },
        {
          "name": "stderr",
          "output_type": "stream",
          "text": [
            "                 Class     Images  Instances      Box(P          R      mAP50  mAP50-95)     Mask(P          R      mAP50  mAP50-95):   5%|▍         | 1/21 [00:00<00:04,  4.65it/s]"
          ]
        },
        {
          "name": "stdout",
          "output_type": "stream",
          "text": [
            "WARNING Limiting validation plots to first 50 items per image for speed...\n",
            "WARNING Limiting validation plots to first 50 items per image for speed...\n",
            "WARNING Limiting validation plots to first 50 items per image for speed...\n",
            "WARNING Limiting validation plots to first 50 items per image for speed...\n",
            "WARNING Limiting validation plots to first 50 items per image for speed...\n"
          ]
        },
        {
          "name": "stderr",
          "output_type": "stream",
          "text": [
            "                 Class     Images  Instances      Box(P          R      mAP50  mAP50-95)     Mask(P          R      mAP50  mAP50-95):  10%|▉         | 2/21 [00:00<00:04,  4.74it/s]"
          ]
        },
        {
          "name": "stdout",
          "output_type": "stream",
          "text": [
            "WARNING Limiting validation plots to first 50 items per image for speed...\n",
            "WARNING Limiting validation plots to first 50 items per image for speed...\n"
          ]
        },
        {
          "name": "stderr",
          "output_type": "stream",
          "text": [
            "                 Class     Images  Instances      Box(P          R      mAP50  mAP50-95)     Mask(P          R      mAP50  mAP50-95): 100%|██████████| 21/21 [00:02<00:00,  8.88it/s]\n"
          ]
        },
        {
          "name": "stdout",
          "output_type": "stream",
          "text": [
            "                   all        324       1241      0.676      0.662      0.709      0.578      0.672      0.657      0.706      0.544\n",
            "            Cercospora         14         16      0.271      0.125      0.193      0.165      0.272      0.125      0.193      0.143\n",
            "               Healthy         66         66      0.983       0.97      0.993      0.938      0.983       0.97      0.993      0.992\n",
            "                 Miner         51        104      0.695      0.613      0.714      0.612      0.694      0.612      0.714      0.555\n",
            "                 Phoma        143        314      0.647      0.917      0.863       0.71      0.648      0.917      0.862      0.647\n",
            "                  Rust        115        741      0.786      0.683      0.783      0.467      0.764      0.663      0.767      0.386\n",
            "Speed: 0.3ms preprocess, 1.7ms inference, 0.0ms loss, 0.8ms postprocess per image\n",
            "Results saved to \u001b[1md:\\Maestria\\2-Cursos\\9-TFM\\Recursos\\Fuente\\model-classification-coffee-leaf\\runs\\segment\\val7\u001b[0m\n",
            "map50-95(B): 0.5783357738221109\n",
            "map50(B): 0.7092399817788309\n",
            "map75(B): 0.6343670269359755\n",
            "maps(B): [    0.16537     0.93844     0.61176     0.70959     0.46652]\n",
            "map50-95(M): 0.5444699626245127\n",
            "map50(M): 0.7057894823323293\n",
            "map75(M): 0.5671385572463601\n",
            "maps(M): [    0.14264     0.99229     0.55455     0.64652     0.38636]\n"
          ]
        }
      ],
      "source": [
        "metrics = model_pred.val()\n",
        "print(f\"map50-95(B): {metrics.box.map}\")\n",
        "print(f\"map50(B): {metrics.box.map50}\")\n",
        "print(f\"map75(B): {metrics.box.map75}\")\n",
        "print(f\"maps(B): {metrics.box.maps}\")\n",
        "print(f\"map50-95(M): {metrics.seg.map}\")\n",
        "print(f\"map50(M): {metrics.seg.map50}\")\n",
        "print(f\"map75(M): {metrics.seg.map75}\")\n",
        "print(f\"maps(M): {metrics.seg.maps}\")"
      ]
    },
    {
      "cell_type": "code",
      "execution_count": 12,
      "metadata": {},
      "outputs": [
        {
          "data": {
            "text/plain": [
              "<Figure size 1400x1200 with 1 Axes>"
            ]
          },
          "metadata": {},
          "output_type": "display_data"
        }
      ],
      "source": [
        "import matplotlib.pyplot as plt\n",
        "\n",
        "img = results[110].plot(boxes=False, masks=True) \n",
        "\n",
        "fig, ax = plt.subplots(figsize=(14, 12))\n",
        "ax.imshow(img[..., ::-1])\n",
        "ax.axis('off')\n",
        "plt.show()"
      ]
    },
    {
      "cell_type": "code",
      "execution_count": 11,
      "metadata": {},
      "outputs": [
        {
          "name": "stdout",
          "output_type": "stream",
          "text": [
            "Clases encontradas: [0, 1, 2, 3, 4]\n",
            "Guardado: ./masks_output_yolo11n_seg\\yolo11n_seg_0000.png\n",
            "Guardado: ./masks_output_yolo11n_seg\\yolo11n_seg_0001.png\n",
            "Guardado: ./masks_output_yolo11n_seg\\yolo11n_seg_0002.png\n",
            "Guardado: ./masks_output_yolo11n_seg\\yolo11n_seg_0003.png\n",
            "Guardado: ./masks_output_yolo11n_seg\\yolo11n_seg_0004.png\n",
            "Guardado: ./masks_output_yolo11n_seg\\yolo11n_seg_0005.png\n",
            "Guardado: ./masks_output_yolo11n_seg\\yolo11n_seg_0006.png\n",
            "Guardado: ./masks_output_yolo11n_seg\\yolo11n_seg_0007.png\n",
            "Guardado: ./masks_output_yolo11n_seg\\yolo11n_seg_0008.png\n",
            "Guardado: ./masks_output_yolo11n_seg\\yolo11n_seg_0009.png\n",
            "Guardado: ./masks_output_yolo11n_seg\\yolo11n_seg_0010.png\n",
            "Guardado: ./masks_output_yolo11n_seg\\yolo11n_seg_0011.png\n",
            "Guardado: ./masks_output_yolo11n_seg\\yolo11n_seg_0012.png\n",
            "Guardado: ./masks_output_yolo11n_seg\\yolo11n_seg_0013.png\n",
            "Guardado: ./masks_output_yolo11n_seg\\yolo11n_seg_0014.png\n",
            "Guardado: ./masks_output_yolo11n_seg\\yolo11n_seg_0015.png\n",
            "Guardado: ./masks_output_yolo11n_seg\\yolo11n_seg_0016.png\n",
            "Guardado: ./masks_output_yolo11n_seg\\yolo11n_seg_0017.png\n",
            "Guardado: ./masks_output_yolo11n_seg\\yolo11n_seg_0018.png\n",
            "Guardado: ./masks_output_yolo11n_seg\\yolo11n_seg_0019.png\n",
            "Guardado: ./masks_output_yolo11n_seg\\yolo11n_seg_0020.png\n",
            "Guardado: ./masks_output_yolo11n_seg\\yolo11n_seg_0021.png\n",
            "Guardado: ./masks_output_yolo11n_seg\\yolo11n_seg_0022.png\n",
            "Guardado: ./masks_output_yolo11n_seg\\yolo11n_seg_0023.png\n",
            "Guardado: ./masks_output_yolo11n_seg\\yolo11n_seg_0024.png\n",
            "Guardado: ./masks_output_yolo11n_seg\\yolo11n_seg_0025.png\n",
            "Guardado: ./masks_output_yolo11n_seg\\yolo11n_seg_0026.png\n",
            "Guardado: ./masks_output_yolo11n_seg\\yolo11n_seg_0027.png\n",
            "Guardado: ./masks_output_yolo11n_seg\\yolo11n_seg_0028.png\n",
            "Guardado: ./masks_output_yolo11n_seg\\yolo11n_seg_0029.png\n",
            "Guardado: ./masks_output_yolo11n_seg\\yolo11n_seg_0030.png\n",
            "Guardado: ./masks_output_yolo11n_seg\\yolo11n_seg_0031.png\n",
            "Guardado: ./masks_output_yolo11n_seg\\yolo11n_seg_0032.png\n",
            "Guardado: ./masks_output_yolo11n_seg\\yolo11n_seg_0033.png\n",
            "Guardado: ./masks_output_yolo11n_seg\\yolo11n_seg_0034.png\n",
            "Guardado: ./masks_output_yolo11n_seg\\yolo11n_seg_0035.png\n",
            "Guardado: ./masks_output_yolo11n_seg\\yolo11n_seg_0036.png\n",
            "Guardado: ./masks_output_yolo11n_seg\\yolo11n_seg_0037.png\n",
            "Guardado: ./masks_output_yolo11n_seg\\yolo11n_seg_0038.png\n",
            "Guardado: ./masks_output_yolo11n_seg\\yolo11n_seg_0039.png\n",
            "Guardado: ./masks_output_yolo11n_seg\\yolo11n_seg_0040.png\n",
            "Guardado: ./masks_output_yolo11n_seg\\yolo11n_seg_0041.png\n",
            "Guardado: ./masks_output_yolo11n_seg\\yolo11n_seg_0042.png\n",
            "Guardado: ./masks_output_yolo11n_seg\\yolo11n_seg_0043.png\n",
            "Guardado: ./masks_output_yolo11n_seg\\yolo11n_seg_0044.png\n",
            "Guardado: ./masks_output_yolo11n_seg\\yolo11n_seg_0045.png\n",
            "Guardado: ./masks_output_yolo11n_seg\\yolo11n_seg_0046.png\n",
            "Guardado: ./masks_output_yolo11n_seg\\yolo11n_seg_0047.png\n",
            "Guardado: ./masks_output_yolo11n_seg\\yolo11n_seg_0048.png\n",
            "Guardado: ./masks_output_yolo11n_seg\\yolo11n_seg_0049.png\n",
            "Guardado: ./masks_output_yolo11n_seg\\yolo11n_seg_0050.png\n",
            "Guardado: ./masks_output_yolo11n_seg\\yolo11n_seg_0051.png\n",
            "Guardado: ./masks_output_yolo11n_seg\\yolo11n_seg_0052.png\n",
            "Guardado: ./masks_output_yolo11n_seg\\yolo11n_seg_0053.png\n",
            "Guardado: ./masks_output_yolo11n_seg\\yolo11n_seg_0054.png\n",
            "Guardado: ./masks_output_yolo11n_seg\\yolo11n_seg_0055.png\n",
            "Guardado: ./masks_output_yolo11n_seg\\yolo11n_seg_0056.png\n",
            "Guardado: ./masks_output_yolo11n_seg\\yolo11n_seg_0057.png\n",
            "Guardado: ./masks_output_yolo11n_seg\\yolo11n_seg_0058.png\n",
            "Guardado: ./masks_output_yolo11n_seg\\yolo11n_seg_0059.png\n",
            "Guardado: ./masks_output_yolo11n_seg\\yolo11n_seg_0060.png\n",
            "Guardado: ./masks_output_yolo11n_seg\\yolo11n_seg_0061.png\n",
            "Guardado: ./masks_output_yolo11n_seg\\yolo11n_seg_0062.png\n",
            "Guardado: ./masks_output_yolo11n_seg\\yolo11n_seg_0063.png\n",
            "Guardado: ./masks_output_yolo11n_seg\\yolo11n_seg_0064.png\n",
            "Guardado: ./masks_output_yolo11n_seg\\yolo11n_seg_0065.png\n",
            "Guardado: ./masks_output_yolo11n_seg\\yolo11n_seg_0066.png\n",
            "Guardado: ./masks_output_yolo11n_seg\\yolo11n_seg_0067.png\n",
            "Guardado: ./masks_output_yolo11n_seg\\yolo11n_seg_0068.png\n",
            "Guardado: ./masks_output_yolo11n_seg\\yolo11n_seg_0069.png\n",
            "Guardado: ./masks_output_yolo11n_seg\\yolo11n_seg_0070.png\n",
            "Guardado: ./masks_output_yolo11n_seg\\yolo11n_seg_0071.png\n",
            "Guardado: ./masks_output_yolo11n_seg\\yolo11n_seg_0072.png\n",
            "Guardado: ./masks_output_yolo11n_seg\\yolo11n_seg_0073.png\n",
            "Guardado: ./masks_output_yolo11n_seg\\yolo11n_seg_0074.png\n",
            "Guardado: ./masks_output_yolo11n_seg\\yolo11n_seg_0075.png\n",
            "Guardado: ./masks_output_yolo11n_seg\\yolo11n_seg_0076.png\n",
            "Guardado: ./masks_output_yolo11n_seg\\yolo11n_seg_0077.png\n",
            "Guardado: ./masks_output_yolo11n_seg\\yolo11n_seg_0078.png\n",
            "Guardado: ./masks_output_yolo11n_seg\\yolo11n_seg_0079.png\n",
            "Guardado: ./masks_output_yolo11n_seg\\yolo11n_seg_0080.png\n",
            "Guardado: ./masks_output_yolo11n_seg\\yolo11n_seg_0081.png\n",
            "Guardado: ./masks_output_yolo11n_seg\\yolo11n_seg_0082.png\n",
            "Guardado: ./masks_output_yolo11n_seg\\yolo11n_seg_0083.png\n",
            "Guardado: ./masks_output_yolo11n_seg\\yolo11n_seg_0084.png\n",
            "Guardado: ./masks_output_yolo11n_seg\\yolo11n_seg_0085.png\n",
            "Guardado: ./masks_output_yolo11n_seg\\yolo11n_seg_0086.png\n",
            "Guardado: ./masks_output_yolo11n_seg\\yolo11n_seg_0087.png\n",
            "Guardado: ./masks_output_yolo11n_seg\\yolo11n_seg_0088.png\n",
            "Guardado: ./masks_output_yolo11n_seg\\yolo11n_seg_0089.png\n",
            "Guardado: ./masks_output_yolo11n_seg\\yolo11n_seg_0090.png\n",
            "Guardado: ./masks_output_yolo11n_seg\\yolo11n_seg_0091.png\n",
            "Guardado: ./masks_output_yolo11n_seg\\yolo11n_seg_0092.png\n",
            "Guardado: ./masks_output_yolo11n_seg\\yolo11n_seg_0093.png\n",
            "Guardado: ./masks_output_yolo11n_seg\\yolo11n_seg_0094.png\n",
            "Guardado: ./masks_output_yolo11n_seg\\yolo11n_seg_0095.png\n",
            "Guardado: ./masks_output_yolo11n_seg\\yolo11n_seg_0096.png\n",
            "Guardado: ./masks_output_yolo11n_seg\\yolo11n_seg_0097.png\n",
            "Guardado: ./masks_output_yolo11n_seg\\yolo11n_seg_0098.png\n",
            "Guardado: ./masks_output_yolo11n_seg\\yolo11n_seg_0099.png\n",
            "Guardado: ./masks_output_yolo11n_seg\\yolo11n_seg_0100.png\n",
            "Guardado: ./masks_output_yolo11n_seg\\yolo11n_seg_0101.png\n",
            "Guardado: ./masks_output_yolo11n_seg\\yolo11n_seg_0102.png\n",
            "Guardado: ./masks_output_yolo11n_seg\\yolo11n_seg_0103.png\n",
            "Guardado: ./masks_output_yolo11n_seg\\yolo11n_seg_0104.png\n",
            "Guardado: ./masks_output_yolo11n_seg\\yolo11n_seg_0105.png\n",
            "Guardado: ./masks_output_yolo11n_seg\\yolo11n_seg_0106.png\n",
            "Guardado: ./masks_output_yolo11n_seg\\yolo11n_seg_0107.png\n",
            "Guardado: ./masks_output_yolo11n_seg\\yolo11n_seg_0108.png\n",
            "Guardado: ./masks_output_yolo11n_seg\\yolo11n_seg_0109.png\n",
            "Guardado: ./masks_output_yolo11n_seg\\yolo11n_seg_0110.png\n",
            "Guardado: ./masks_output_yolo11n_seg\\yolo11n_seg_0111.png\n",
            "Guardado: ./masks_output_yolo11n_seg\\yolo11n_seg_0112.png\n",
            "Guardado: ./masks_output_yolo11n_seg\\yolo11n_seg_0113.png\n",
            "Guardado: ./masks_output_yolo11n_seg\\yolo11n_seg_0114.png\n",
            "Guardado: ./masks_output_yolo11n_seg\\yolo11n_seg_0115.png\n",
            "Guardado: ./masks_output_yolo11n_seg\\yolo11n_seg_0116.png\n",
            "Guardado: ./masks_output_yolo11n_seg\\yolo11n_seg_0117.png\n",
            "Guardado: ./masks_output_yolo11n_seg\\yolo11n_seg_0118.png\n",
            "Guardado: ./masks_output_yolo11n_seg\\yolo11n_seg_0119.png\n",
            "Guardado: ./masks_output_yolo11n_seg\\yolo11n_seg_0120.png\n",
            "Guardado: ./masks_output_yolo11n_seg\\yolo11n_seg_0121.png\n",
            "Guardado: ./masks_output_yolo11n_seg\\yolo11n_seg_0122.png\n",
            "Guardado: ./masks_output_yolo11n_seg\\yolo11n_seg_0123.png\n",
            "Guardado: ./masks_output_yolo11n_seg\\yolo11n_seg_0124.png\n",
            "Guardado: ./masks_output_yolo11n_seg\\yolo11n_seg_0125.png\n",
            "Guardado: ./masks_output_yolo11n_seg\\yolo11n_seg_0126.png\n",
            "Guardado: ./masks_output_yolo11n_seg\\yolo11n_seg_0127.png\n",
            "Guardado: ./masks_output_yolo11n_seg\\yolo11n_seg_0128.png\n",
            "Guardado: ./masks_output_yolo11n_seg\\yolo11n_seg_0129.png\n",
            "Guardado: ./masks_output_yolo11n_seg\\yolo11n_seg_0130.png\n",
            "Guardado: ./masks_output_yolo11n_seg\\yolo11n_seg_0131.png\n",
            "Guardado: ./masks_output_yolo11n_seg\\yolo11n_seg_0132.png\n",
            "Guardado: ./masks_output_yolo11n_seg\\yolo11n_seg_0133.png\n",
            "Guardado: ./masks_output_yolo11n_seg\\yolo11n_seg_0134.png\n",
            "Guardado: ./masks_output_yolo11n_seg\\yolo11n_seg_0135.png\n",
            "Guardado: ./masks_output_yolo11n_seg\\yolo11n_seg_0136.png\n",
            "Guardado: ./masks_output_yolo11n_seg\\yolo11n_seg_0137.png\n",
            "Guardado: ./masks_output_yolo11n_seg\\yolo11n_seg_0138.png\n",
            "Guardado: ./masks_output_yolo11n_seg\\yolo11n_seg_0139.png\n",
            "Guardado: ./masks_output_yolo11n_seg\\yolo11n_seg_0140.png\n",
            "Guardado: ./masks_output_yolo11n_seg\\yolo11n_seg_0141.png\n",
            "Guardado: ./masks_output_yolo11n_seg\\yolo11n_seg_0142.png\n",
            "Guardado: ./masks_output_yolo11n_seg\\yolo11n_seg_0143.png\n",
            "Guardado: ./masks_output_yolo11n_seg\\yolo11n_seg_0144.png\n",
            "Guardado: ./masks_output_yolo11n_seg\\yolo11n_seg_0145.png\n",
            "Guardado: ./masks_output_yolo11n_seg\\yolo11n_seg_0146.png\n",
            "Guardado: ./masks_output_yolo11n_seg\\yolo11n_seg_0147.png\n",
            "Guardado: ./masks_output_yolo11n_seg\\yolo11n_seg_0148.png\n",
            "Guardado: ./masks_output_yolo11n_seg\\yolo11n_seg_0149.png\n",
            "Guardado: ./masks_output_yolo11n_seg\\yolo11n_seg_0150.png\n",
            "Guardado: ./masks_output_yolo11n_seg\\yolo11n_seg_0151.png\n",
            "Guardado: ./masks_output_yolo11n_seg\\yolo11n_seg_0152.png\n",
            "Guardado: ./masks_output_yolo11n_seg\\yolo11n_seg_0153.png\n",
            "Guardado: ./masks_output_yolo11n_seg\\yolo11n_seg_0154.png\n",
            "Guardado: ./masks_output_yolo11n_seg\\yolo11n_seg_0155.png\n",
            "Guardado: ./masks_output_yolo11n_seg\\yolo11n_seg_0156.png\n",
            "Guardado: ./masks_output_yolo11n_seg\\yolo11n_seg_0157.png\n",
            "Guardado: ./masks_output_yolo11n_seg\\yolo11n_seg_0158.png\n",
            "Guardado: ./masks_output_yolo11n_seg\\yolo11n_seg_0159.png\n",
            "Guardado: ./masks_output_yolo11n_seg\\yolo11n_seg_0160.png\n",
            "Guardado: ./masks_output_yolo11n_seg\\yolo11n_seg_0161.png\n"
          ]
        }
      ],
      "source": [
        "import os\n",
        "import cv2\n",
        "import numpy as np\n",
        "import matplotlib.pyplot as plt\n",
        "import seaborn as sns\n",
        "from matplotlib.patches import Patch\n",
        "\n",
        "output_dir  = \"./masks_output_yolo11n_seg\"\n",
        "class_colors = {}\n",
        "\n",
        "\n",
        "os.makedirs(output_dir, exist_ok=True)\n",
        "\n",
        "all_classes = sorted({int(c) for res in results for c in res.boxes.cls.cpu().numpy()})\n",
        "print(f\"Clases encontradas: {all_classes}\")\n",
        "\n",
        "custom_hex = [\"#C7FC00\",\"#FF8000\",\"#8622FF\",\"#FE0056\",\"#00FFCE\"]\n",
        "palette = sns.color_palette(custom_hex, len(all_classes))\n",
        "class_colors = {cls: tuple(int(255 * col) for col in palette[i]) for i, cls in enumerate(all_classes)}\n",
        "\n",
        "for idx, res in enumerate(results):\n",
        "    \n",
        "    # Copia de la imagen original (BGR)\n",
        "    img = res.orig_img.copy()\n",
        "\n",
        "    # Extrae clases y máscaras\n",
        "    classes = res.boxes.cls.cpu().numpy().astype(int)\n",
        "    masks   = res.masks.data.cpu().numpy().astype(bool)\n",
        "\n",
        "    # Agrupa contornos por clase\n",
        "    contours_by_class = {}\n",
        "    for cls, mask in zip(classes, masks):\n",
        "        mask_uint8 = (mask.astype(np.uint8) * 255)\n",
        "        contours, _ = cv2.findContours(mask_uint8,\n",
        "                                       cv2.RETR_EXTERNAL,\n",
        "                                       cv2.CHAIN_APPROX_NONE)\n",
        "        contours_by_class.setdefault(int(cls), []).extend(contours)\n",
        "\n",
        "    # Configura figura más ancha para el legend interno\n",
        "    fig, ax = plt.subplots(figsize=(10, 8))\n",
        "    ax.imshow(cv2.cvtColor(img, cv2.COLOR_BGR2RGB))\n",
        "\n",
        "    # Dibuja contornos y prepara handles de leyenda\n",
        "    legend_handles = []\n",
        "    for cls, contours in contours_by_class.items():\n",
        "        color_rgb = np.array(class_colors[cls]) / 255.0\n",
        "        for cnt in contours:\n",
        "            y, x = cnt[:, 0, 1], cnt[:, 0, 0]\n",
        "            ax.plot(x, y, linewidth=1.5, color=color_rgb)\n",
        "        legend_handles.append(Patch(facecolor=color_rgb,\n",
        "                                    edgecolor='k',\n",
        "                                    label=model_pred.names[cls]))\n",
        "\n",
        "    # Coloca la leyenda dentro de la imagen (upper right)\n",
        "    ax.legend(handles=legend_handles,\n",
        "              loc='upper right',\n",
        "              framealpha=0.8)\n",
        "    ax.axis('off')\n",
        "    plt.tight_layout()\n",
        "\n",
        "    # Guarda la figura incluyendo la leyenda\n",
        "    out_path = os.path.join(output_dir, f\"yolo11n_seg_{idx:04d}.png\")\n",
        "    fig.savefig(out_path, bbox_inches='tight', pad_inches=0)\n",
        "    plt.close(fig)\n",
        "    print(f\"Guardado: {out_path}\")"
      ]
    }
  ],
  "metadata": {
    "colab": {
      "provenance": []
    },
    "kernelspec": {
      "display_name": ".venv",
      "language": "python",
      "name": "python3"
    },
    "language_info": {
      "codemirror_mode": {
        "name": "ipython",
        "version": 3
      },
      "file_extension": ".py",
      "mimetype": "text/x-python",
      "name": "python",
      "nbconvert_exporter": "python",
      "pygments_lexer": "ipython3",
      "version": "3.12.7"
    }
  },
  "nbformat": 4,
  "nbformat_minor": 0
}
